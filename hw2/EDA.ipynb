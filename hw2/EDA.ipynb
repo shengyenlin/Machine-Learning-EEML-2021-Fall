{
 "cells": [
  {
   "cell_type": "code",
   "execution_count": 1,
   "metadata": {},
   "outputs": [],
   "source": [
    "import math\n",
    "import os\n",
    "import csv\n",
    "import numpy as np\n",
    "import pandas as pd\n",
    "import matplotlib.pyplot as plt\n",
    "import sklearn.feature_selection"
   ]
  },
  {
   "cell_type": "code",
   "execution_count": 2,
   "metadata": {},
   "outputs": [],
   "source": [
    "data_path = \"./data/\"\n",
    "path_train = os.path.join(data_path, \"train.csv\")\n",
    "path_test = os.path.join(data_path, \"test.csv\")"
   ]
  },
  {
   "cell_type": "code",
   "execution_count": 3,
   "metadata": {},
   "outputs": [],
   "source": [
    "def load_data(path_train, path_test):\n",
    "    data_train = pd.read_csv(path_train, skipinitialspace = True)\n",
    "    data_test = pd.read_csv(path_test, skipinitialspace = True)\n",
    "    return data_train, data_test"
   ]
  },
  {
   "cell_type": "code",
   "execution_count": 4,
   "metadata": {},
   "outputs": [],
   "source": [
    "data_train, data_test = load_data(path_train, path_test)"
   ]
  },
  {
   "cell_type": "code",
   "execution_count": 5,
   "metadata": {},
   "outputs": [
    {
     "data": {
      "text/html": [
       "<div>\n",
       "<style scoped>\n",
       "    .dataframe tbody tr th:only-of-type {\n",
       "        vertical-align: middle;\n",
       "    }\n",
       "\n",
       "    .dataframe tbody tr th {\n",
       "        vertical-align: top;\n",
       "    }\n",
       "\n",
       "    .dataframe thead th {\n",
       "        text-align: right;\n",
       "    }\n",
       "</style>\n",
       "<table border=\"1\" class=\"dataframe\">\n",
       "  <thead>\n",
       "    <tr style=\"text-align: right;\">\n",
       "      <th></th>\n",
       "      <th>age</th>\n",
       "      <th>workclass</th>\n",
       "      <th>fnlwgt</th>\n",
       "      <th>education</th>\n",
       "      <th>education_num</th>\n",
       "      <th>marital_status</th>\n",
       "      <th>occupation</th>\n",
       "      <th>relationship</th>\n",
       "      <th>race</th>\n",
       "      <th>sex</th>\n",
       "      <th>capital_gain</th>\n",
       "      <th>capital_loss</th>\n",
       "      <th>hours_per_week</th>\n",
       "      <th>native_country</th>\n",
       "      <th>income</th>\n",
       "    </tr>\n",
       "  </thead>\n",
       "  <tbody>\n",
       "    <tr>\n",
       "      <th>0</th>\n",
       "      <td>39</td>\n",
       "      <td>State-gov</td>\n",
       "      <td>77516</td>\n",
       "      <td>Bachelors</td>\n",
       "      <td>13</td>\n",
       "      <td>Never-married</td>\n",
       "      <td>Adm-clerical</td>\n",
       "      <td>Not-in-family</td>\n",
       "      <td>White</td>\n",
       "      <td>Male</td>\n",
       "      <td>2174</td>\n",
       "      <td>0</td>\n",
       "      <td>40</td>\n",
       "      <td>United-States</td>\n",
       "      <td>&lt;=50K</td>\n",
       "    </tr>\n",
       "    <tr>\n",
       "      <th>1</th>\n",
       "      <td>50</td>\n",
       "      <td>Self-emp-not-inc</td>\n",
       "      <td>83311</td>\n",
       "      <td>Bachelors</td>\n",
       "      <td>13</td>\n",
       "      <td>Married-civ-spouse</td>\n",
       "      <td>Exec-managerial</td>\n",
       "      <td>Husband</td>\n",
       "      <td>White</td>\n",
       "      <td>Male</td>\n",
       "      <td>0</td>\n",
       "      <td>0</td>\n",
       "      <td>13</td>\n",
       "      <td>United-States</td>\n",
       "      <td>&lt;=50K</td>\n",
       "    </tr>\n",
       "    <tr>\n",
       "      <th>2</th>\n",
       "      <td>38</td>\n",
       "      <td>Private</td>\n",
       "      <td>215646</td>\n",
       "      <td>HS-grad</td>\n",
       "      <td>9</td>\n",
       "      <td>Divorced</td>\n",
       "      <td>Handlers-cleaners</td>\n",
       "      <td>Not-in-family</td>\n",
       "      <td>White</td>\n",
       "      <td>Male</td>\n",
       "      <td>0</td>\n",
       "      <td>0</td>\n",
       "      <td>40</td>\n",
       "      <td>United-States</td>\n",
       "      <td>&lt;=50K</td>\n",
       "    </tr>\n",
       "    <tr>\n",
       "      <th>3</th>\n",
       "      <td>53</td>\n",
       "      <td>Private</td>\n",
       "      <td>234721</td>\n",
       "      <td>11th</td>\n",
       "      <td>7</td>\n",
       "      <td>Married-civ-spouse</td>\n",
       "      <td>Handlers-cleaners</td>\n",
       "      <td>Husband</td>\n",
       "      <td>Black</td>\n",
       "      <td>Male</td>\n",
       "      <td>0</td>\n",
       "      <td>0</td>\n",
       "      <td>40</td>\n",
       "      <td>United-States</td>\n",
       "      <td>&lt;=50K</td>\n",
       "    </tr>\n",
       "    <tr>\n",
       "      <th>4</th>\n",
       "      <td>28</td>\n",
       "      <td>Private</td>\n",
       "      <td>338409</td>\n",
       "      <td>Bachelors</td>\n",
       "      <td>13</td>\n",
       "      <td>Married-civ-spouse</td>\n",
       "      <td>Prof-specialty</td>\n",
       "      <td>Wife</td>\n",
       "      <td>Black</td>\n",
       "      <td>Female</td>\n",
       "      <td>0</td>\n",
       "      <td>0</td>\n",
       "      <td>40</td>\n",
       "      <td>Cuba</td>\n",
       "      <td>&lt;=50K</td>\n",
       "    </tr>\n",
       "  </tbody>\n",
       "</table>\n",
       "</div>"
      ],
      "text/plain": [
       "   age         workclass  fnlwgt  education  education_num  \\\n",
       "0   39         State-gov   77516  Bachelors             13   \n",
       "1   50  Self-emp-not-inc   83311  Bachelors             13   \n",
       "2   38           Private  215646    HS-grad              9   \n",
       "3   53           Private  234721       11th              7   \n",
       "4   28           Private  338409  Bachelors             13   \n",
       "\n",
       "       marital_status         occupation   relationship   race     sex  \\\n",
       "0       Never-married       Adm-clerical  Not-in-family  White    Male   \n",
       "1  Married-civ-spouse    Exec-managerial        Husband  White    Male   \n",
       "2            Divorced  Handlers-cleaners  Not-in-family  White    Male   \n",
       "3  Married-civ-spouse  Handlers-cleaners        Husband  Black    Male   \n",
       "4  Married-civ-spouse     Prof-specialty           Wife  Black  Female   \n",
       "\n",
       "   capital_gain  capital_loss  hours_per_week native_country income  \n",
       "0          2174             0              40  United-States  <=50K  \n",
       "1             0             0              13  United-States  <=50K  \n",
       "2             0             0              40  United-States  <=50K  \n",
       "3             0             0              40  United-States  <=50K  \n",
       "4             0             0              40           Cuba  <=50K  "
      ]
     },
     "execution_count": 5,
     "metadata": {},
     "output_type": "execute_result"
    }
   ],
   "source": [
    "data_train.head()"
   ]
  },
  {
   "cell_type": "code",
   "execution_count": 7,
   "metadata": {},
   "outputs": [],
   "source": [
    "label_dict = {'<=50K': 0, '>50K': 1}\n",
    "data_train[\"income\"] = data_train[\"income\"].apply(lambda x: label_dict[x])"
   ]
  },
  {
   "cell_type": "code",
   "execution_count": 13,
   "metadata": {},
   "outputs": [],
   "source": [
    "target_ratio = data_train[[\"workclass\", \"income\"]].groupby([\"workclass\"]).mean()"
   ]
  },
  {
   "cell_type": "code",
   "execution_count": 28,
   "metadata": {},
   "outputs": [],
   "source": [
    "data_train[\"workclass\"] = data_train[\"workclass\"].apply(lambda x: target_ratio[\"income\"][x])"
   ]
  },
  {
   "cell_type": "markdown",
   "metadata": {},
   "source": []
  },
  {
   "cell_type": "code",
   "execution_count": 63,
   "metadata": {},
   "outputs": [
    {
     "data": {
      "text/plain": [
       "1        51\n",
       "2       168\n",
       "3       333\n",
       "4       646\n",
       "5       514\n",
       "6       933\n",
       "7      1175\n",
       "8       433\n",
       "9     10501\n",
       "10     7291\n",
       "11     1382\n",
       "12     1067\n",
       "13     5355\n",
       "14     1723\n",
       "15      576\n",
       "16      413\n",
       "Name: education_num, dtype: int64"
      ]
     },
     "execution_count": 63,
     "metadata": {},
     "output_type": "execute_result"
    }
   ],
   "source": [
    "data_train[\"education_num\"].value_counts().sort_index()"
   ]
  },
  {
   "cell_type": "code",
   "execution_count": 62,
   "metadata": {},
   "outputs": [
    {
     "data": {
      "text/plain": [
       "education_num  education   \n",
       "1              Preschool          51\n",
       "2              1st-4th           168\n",
       "3              5th-6th           333\n",
       "4              7th-8th           646\n",
       "5              9th               514\n",
       "6              10th              933\n",
       "7              11th             1175\n",
       "8              12th              433\n",
       "9              HS-grad         10501\n",
       "10             Some-college     7291\n",
       "11             Assoc-voc        1382\n",
       "12             Assoc-acdm       1067\n",
       "13             Bachelors        5355\n",
       "14             Masters          1723\n",
       "15             Prof-school       576\n",
       "16             Doctorate         413\n",
       "Name: age, dtype: int64"
      ]
     },
     "execution_count": 62,
     "metadata": {},
     "output_type": "execute_result"
    }
   ],
   "source": [
    "data_train.groupby([\"education_num\", \"education\"])[\"age\"].count().sort_index()"
   ]
  },
  {
   "cell_type": "code",
   "execution_count": 69,
   "metadata": {},
   "outputs": [
    {
     "data": {
      "text/plain": [
       "0       31042\n",
       "1902      202\n",
       "1977      168\n",
       "1887      159\n",
       "1848       51\n",
       "        ...  \n",
       "1411        1\n",
       "1539        1\n",
       "2472        1\n",
       "1944        1\n",
       "2201        1\n",
       "Name: capital_loss, Length: 92, dtype: int64"
      ]
     },
     "execution_count": 69,
     "metadata": {},
     "output_type": "execute_result"
    }
   ],
   "source": [
    "data_train[\"capital_loss\"].value_counts()"
   ]
  },
  {
   "cell_type": "code",
   "execution_count": 70,
   "metadata": {},
   "outputs": [
    {
     "data": {
      "text/plain": [
       "0        29849\n",
       "15024      347\n",
       "7688       284\n",
       "7298       246\n",
       "99999      159\n",
       "         ...  \n",
       "4931         1\n",
       "1455         1\n",
       "6097         1\n",
       "22040        1\n",
       "1111         1\n",
       "Name: capital_gain, Length: 119, dtype: int64"
      ]
     },
     "execution_count": 70,
     "metadata": {},
     "output_type": "execute_result"
    }
   ],
   "source": [
    "data_train[\"capital_gain\"].value_counts()"
   ]
  },
  {
   "cell_type": "code",
   "execution_count": 71,
   "metadata": {},
   "outputs": [
    {
     "data": {
      "text/plain": [
       "40    15217\n",
       "50     2819\n",
       "45     1824\n",
       "60     1475\n",
       "35     1297\n",
       "      ...  \n",
       "92        1\n",
       "94        1\n",
       "87        1\n",
       "74        1\n",
       "82        1\n",
       "Name: hours_per_week, Length: 94, dtype: int64"
      ]
     },
     "execution_count": 71,
     "metadata": {},
     "output_type": "execute_result"
    }
   ],
   "source": [
    "data_train[\"hours_per_week\"].value_counts()"
   ]
  },
  {
   "cell_type": "code",
   "execution_count": 65,
   "metadata": {},
   "outputs": [],
   "source": [
    "#去除education，因為和education_num是同一個變數\n",
    "#而education_num不用做normalization\n",
    "num_cols = [\"age\", \"fnlwgt\", \"capital_gain\", \"capital_loss\", \"hours_per_week\"]\n",
    "cat_cols = [\"workclass\", \"education\", \"marital_status\", \"occupation\", \"relationship\", \"race\", \"sex\", \"native_country\"]\n",
    "order_cal_cols = [\"education_num\"]"
   ]
  },
  {
   "cell_type": "markdown",
   "metadata": {},
   "source": [
    "# EDA - numerical columns"
   ]
  },
  {
   "cell_type": "code",
   "execution_count": 36,
   "metadata": {},
   "outputs": [
    {
     "data": {
      "image/png": "[encoded data removed]",
      "text/plain": [
       "<Figure size 720x576 with 2 Axes>"
      ]
     },
     "metadata": {
      "needs_background": "light"
     },
     "output_type": "display_data"
    },
    {
     "data": {
      "image/png": "[encoded data removed]",
      "text/plain": [
       "<Figure size 720x576 with 2 Axes>"
      ]
     },
     "metadata": {
      "needs_background": "light"
     },
     "output_type": "display_data"
    },
    {
     "data": {
      "image/png": "[encoded data removed]",
      "text/plain": [
       "<Figure size 720x576 with 2 Axes>"
      ]
     },
     "metadata": {
      "needs_background": "light"
     },
     "output_type": "display_data"
    }
   ],
   "source": [
    "num_num_cols = len(num_cols)\n",
    "for i in range(0, num_num_cols, 2):\n",
    "    fig, (ax1, ax2) = plt.subplots(1, 2,figsize=(10,8))\n",
    "    data_class_1 = data_train[data_train[\"income\"] == \"<=50K\"]\n",
    "    data_class_2 = data_train[data_train[\"income\"] != \"<=50K\"]\n",
    "    ax1.hist(data_class_1[num_cols[i]])\n",
    "    ax1.hist(data_class_2[num_cols[i]])\n",
    "    ax2.hist(data_class_1[num_cols[i+1]])\n",
    "    ax2.hist(data_class_2[num_cols[i+1]])\n",
    "    plt.legend([\"<=50K\", \">50K\"])\n",
    "    ax1.set_xlabel(num_cols[i])\n",
    "    ax2.set_xlabel(num_cols[i+1])\n",
    "    plt.show()"
   ]
  },
  {
   "cell_type": "code",
   "execution_count": 67,
   "metadata": {},
   "outputs": [
    {
     "data": {
      "image/png": "[encoded data removed]",
      "text/plain": [
       "<Figure size 720x576 with 2 Axes>"
      ]
     },
     "metadata": {
      "needs_background": "light"
     },
     "output_type": "display_data"
    },
    {
     "data": {
      "image/png": "[encoded data removed]",
      "text/plain": [
       "<Figure size 720x576 with 2 Axes>"
      ]
     },
     "metadata": {
      "needs_background": "light"
     },
     "output_type": "display_data"
    },
    {
     "data": {
      "image/png": "[encoded data removed]",
      "text/plain": [
       "<Figure size 720x576 with 2 Axes>"
      ]
     },
     "metadata": {
      "needs_background": "light"
     },
     "output_type": "display_data"
    },
    {
     "data": {
      "image/png": "[encoded data removed]",
      "text/plain": [
       "<Figure size 720x576 with 2 Axes>"
      ]
     },
     "metadata": {
      "needs_background": "light"
     },
     "output_type": "display_data"
    },
    {
     "data": {
      "image/png": "[encoded data removed]",
      "text/plain": [
       "<Figure size 720x576 with 2 Axes>"
      ]
     },
     "metadata": {
      "needs_background": "light"
     },
     "output_type": "display_data"
    }
   ],
   "source": [
    "for i in range(len(num_cols)):\n",
    "    fig, (ax1, ax2) = plt.subplots(1, 2,figsize=(10,8))\n",
    "    data_class_1 = data_train[data_train[\"income\"] == \"<=50K\"]\n",
    "    data_class_2 = data_train[data_train[\"income\"] != \"<=50K\"]\n",
    "    ax1.boxplot(data_class_1[num_cols[i]])\n",
    "    ax2.boxplot(data_class_2[num_cols[i]])\n",
    "    ax1.legend([\"<=50K\"])\n",
    "    ax2.legend([\">50K\"])\n",
    "    ax1.set_xlabel(num_cols[i])\n",
    "    ax2.set_xlabel(num_cols[i])\n",
    "    plt.show()"
   ]
  },
  {
   "cell_type": "code",
   "execution_count": null,
   "metadata": {},
   "outputs": [],
   "source": [
    "for i in range(len(num_cols)):\n",
    "    fig, (ax1, ax2) = plt.subplots(1, 2,figsize=(10,8))\n",
    "    data_class_1 = data_train[data_train[\"income\"] == \"<=50K\"]\n",
    "    data_class_2 = data_train[data_train[\"income\"] != \"<=50K\"]\n",
    "    ax1.boxplot(data_class_1[num_cols[i]])\n",
    "    ax2.boxplot(data_class_2[num_cols[i]])\n",
    "    ax1.legend([\"<=50K\"])\n",
    "    ax2.legend([\">50K\"])\n",
    "    ax1.set_xlabel(num_cols[i])\n",
    "    ax2.set_xlabel(num_cols[i])\n",
    "    plt.show()"
   ]
  },
  {
   "cell_type": "markdown",
   "metadata": {},
   "source": [
    "# Group by different categories"
   ]
  },
  {
   "cell_type": "code",
   "execution_count": 79,
   "metadata": {},
   "outputs": [],
   "source": [
    "encode_dict = {\">50K\":1, \"<=50K\":0}\n",
    "data_train[\"income\"] =  data_train[\"income\"].apply(lambda x: encode_dict[x])"
   ]
  },
  {
   "cell_type": "code",
   "execution_count": 78,
   "metadata": {},
   "outputs": [
    {
     "data": {
      "text/plain": [
       "education_num  income\n",
       "1              <=50K       51\n",
       "2              <=50K      162\n",
       "               >50K         6\n",
       "3              <=50K      317\n",
       "               >50K        16\n",
       "4              <=50K      606\n",
       "               >50K        40\n",
       "5              <=50K      487\n",
       "               >50K        27\n",
       "6              <=50K      871\n",
       "               >50K        62\n",
       "7              <=50K     1115\n",
       "               >50K        60\n",
       "8              <=50K      400\n",
       "               >50K        33\n",
       "9              <=50K     8826\n",
       "               >50K      1675\n",
       "10             <=50K     5904\n",
       "               >50K      1387\n",
       "11             <=50K     1021\n",
       "               >50K       361\n",
       "12             <=50K      802\n",
       "               >50K       265\n",
       "13             <=50K     3134\n",
       "               >50K      2221\n",
       "14             <=50K      764\n",
       "               >50K       959\n",
       "15             <=50K      153\n",
       "               >50K       423\n",
       "16             <=50K      107\n",
       "               >50K       306\n",
       "Name: age, dtype: int64"
      ]
     },
     "execution_count": 78,
     "metadata": {},
     "output_type": "execute_result"
    }
   ],
   "source": [
    "data_train.groupby([\"education_num\", \"income\"])[\"age\"].count()"
   ]
  },
  {
   "cell_type": "code",
   "execution_count": 120,
   "metadata": {},
   "outputs": [
    {
     "name": "stdout",
     "output_type": "stream",
     "text": [
      "16\n"
     ]
    },
    {
     "data": {
      "text/plain": [
       "education_num\n",
       "1     0.000000\n",
       "2     0.035714\n",
       "3     0.048048\n",
       "4     0.061920\n",
       "5     0.052529\n",
       "6     0.066452\n",
       "7     0.051064\n",
       "8     0.076212\n",
       "9     0.159509\n",
       "10    0.190235\n",
       "11    0.261216\n",
       "12    0.248360\n",
       "13    0.414753\n",
       "14    0.556587\n",
       "15    0.734375\n",
       "16    0.740920\n",
       "Name: income, dtype: float64"
      ]
     },
     "execution_count": 120,
     "metadata": {},
     "output_type": "execute_result"
    }
   ],
   "source": [
    "print(len(data_train.groupby([\"education_num\"])[\"income\"].mean()))\n",
    "data_train.groupby([\"education_num\"])[\"income\"].mean()"
   ]
  },
  {
   "cell_type": "code",
   "execution_count": 122,
   "metadata": {},
   "outputs": [
    {
     "name": "stdout",
     "output_type": "stream",
     "text": [
      "9\n",
      "0.032768717574832\n"
     ]
    },
    {
     "data": {
      "text/plain": [
       "workclass\n",
       "?                   0.104031\n",
       "Federal-gov         0.386458\n",
       "Local-gov           0.294792\n",
       "Never-worked        0.000000\n",
       "Private             0.218673\n",
       "Self-emp-inc        0.557348\n",
       "Self-emp-not-inc    0.284927\n",
       "State-gov           0.271957\n",
       "Without-pay         0.000000\n",
       "Name: income, dtype: float64"
      ]
     },
     "execution_count": 122,
     "metadata": {},
     "output_type": "execute_result"
    }
   ],
   "source": [
    "print(len(data_train.groupby([\"workclass\"])[\"income\"].mean()))\n",
    "print(data_train.groupby([\"workclass\"])[\"income\"].mean().var())\n",
    "data_train.groupby([\"workclass\"])[\"income\"].mean()"
   ]
  },
  {
   "cell_type": "code",
   "execution_count": 123,
   "metadata": {},
   "outputs": [
    {
     "name": "stdout",
     "output_type": "stream",
     "text": [
      "7\n",
      "0.03197375866799135\n",
      "marital_status\n",
      "Divorced                 0.104209\n",
      "Married-AF-spouse        0.434783\n",
      "Married-civ-spouse       0.446848\n",
      "Married-spouse-absent    0.081340\n",
      "Never-married            0.045961\n",
      "Separated                0.064390\n",
      "Widowed                  0.085599\n",
      "Name: income, dtype: float64\n"
     ]
    }
   ],
   "source": [
    "print(len(data_train.groupby([\"marital_status\"])[\"income\"].mean()))\n",
    "print(data_train.groupby([\"marital_status\"])[\"income\"].mean().var())\n",
    "print(data_train.groupby([\"marital_status\"])[\"income\"].mean())"
   ]
  },
  {
   "cell_type": "code",
   "execution_count": 124,
   "metadata": {},
   "outputs": [
    {
     "name": "stdout",
     "output_type": "stream",
     "text": [
      "15\n",
      "0.02073436274865595\n",
      "occupation\n",
      "?                    0.103635\n",
      "Adm-clerical         0.134483\n",
      "Armed-Forces         0.111111\n",
      "Craft-repair         0.226641\n",
      "Exec-managerial      0.484014\n",
      "Farming-fishing      0.115694\n",
      "Handlers-cleaners    0.062774\n",
      "Machine-op-inspct    0.124875\n",
      "Other-service        0.041578\n",
      "Priv-house-serv      0.006711\n",
      "Prof-specialty       0.449034\n",
      "Protective-serv      0.325116\n",
      "Sales                0.269315\n",
      "Tech-support         0.304957\n",
      "Transport-moving     0.200376\n",
      "Name: income, dtype: float64\n"
     ]
    }
   ],
   "source": [
    "print(len(data_train.groupby([\"occupation\"])[\"income\"].mean()))\n",
    "print(data_train.groupby([\"occupation\"])[\"income\"].mean().var())\n",
    "print(data_train.groupby([\"occupation\"])[\"income\"].mean())"
   ]
  },
  {
   "cell_type": "code",
   "execution_count": 125,
   "metadata": {},
   "outputs": [
    {
     "name": "stdout",
     "output_type": "stream",
     "text": [
      "6\n",
      "0.04524345854311061\n"
     ]
    },
    {
     "data": {
      "text/plain": [
       "relationship\n",
       "Husband           0.448571\n",
       "Not-in-family     0.103070\n",
       "Other-relative    0.037717\n",
       "Own-child         0.013220\n",
       "Unmarried         0.063262\n",
       "Wife              0.475128\n",
       "Name: income, dtype: float64"
      ]
     },
     "execution_count": 125,
     "metadata": {},
     "output_type": "execute_result"
    }
   ],
   "source": [
    "print(len(data_train.groupby([\"relationship\"])[\"income\"].mean()))\n",
    "print(data_train.groupby([\"relationship\"])[\"income\"].mean().var())\n",
    "data_train.groupby([\"relationship\"])[\"income\"].mean()"
   ]
  },
  {
   "cell_type": "code",
   "execution_count": 126,
   "metadata": {},
   "outputs": [
    {
     "name": "stdout",
     "output_type": "stream",
     "text": [
      "5\n",
      "0.006907777748935863\n"
     ]
    },
    {
     "data": {
      "text/plain": [
       "race\n",
       "Amer-Indian-Eskimo    0.115756\n",
       "Asian-Pac-Islander    0.265640\n",
       "Black                 0.123880\n",
       "Other                 0.092251\n",
       "White                 0.255860\n",
       "Name: income, dtype: float64"
      ]
     },
     "execution_count": 126,
     "metadata": {},
     "output_type": "execute_result"
    }
   ],
   "source": [
    "print(len(data_train.groupby([\"race\"])[\"income\"].mean()))\n",
    "print(data_train.groupby([\"race\"])[\"income\"].mean().var())\n",
    "data_train.groupby([\"race\"])[\"income\"].mean()"
   ]
  },
  {
   "cell_type": "code",
   "execution_count": 89,
   "metadata": {},
   "outputs": [
    {
     "data": {
      "text/plain": [
       "sex\n",
       "Female    0.109461\n",
       "Male      0.305737\n",
       "Name: income, dtype: float64"
      ]
     },
     "execution_count": 89,
     "metadata": {},
     "output_type": "execute_result"
    }
   ],
   "source": [
    "data_train.groupby([\"sex\"])[\"income\"].mean()"
   ]
  },
  {
   "cell_type": "code",
   "execution_count": 127,
   "metadata": {},
   "outputs": [
    {
     "name": "stdout",
     "output_type": "stream",
     "text": [
      "42\n",
      "0.017000119708705623\n"
     ]
    },
    {
     "data": {
      "text/plain": [
       "native_country\n",
       "?                             0.250429\n",
       "Cambodia                      0.368421\n",
       "Canada                        0.322314\n",
       "China                         0.266667\n",
       "Columbia                      0.033898\n",
       "Cuba                          0.263158\n",
       "Dominican-Republic            0.028571\n",
       "Ecuador                       0.142857\n",
       "El-Salvador                   0.084906\n",
       "England                       0.333333\n",
       "France                        0.413793\n",
       "Germany                       0.321168\n",
       "Greece                        0.275862\n",
       "Guatemala                     0.046875\n",
       "Haiti                         0.090909\n",
       "Holand-Netherlands            0.000000\n",
       "Honduras                      0.076923\n",
       "Hong                          0.300000\n",
       "Hungary                       0.230769\n",
       "India                         0.400000\n",
       "Iran                          0.418605\n",
       "Ireland                       0.208333\n",
       "Italy                         0.342466\n",
       "Jamaica                       0.123457\n",
       "Japan                         0.387097\n",
       "Laos                          0.111111\n",
       "Mexico                        0.051322\n",
       "Nicaragua                     0.058824\n",
       "Outlying-US(Guam-USVI-etc)    0.000000\n",
       "Peru                          0.064516\n",
       "Philippines                   0.308081\n",
       "Poland                        0.200000\n",
       "Portugal                      0.108108\n",
       "Puerto-Rico                   0.105263\n",
       "Scotland                      0.250000\n",
       "South                         0.200000\n",
       "Taiwan                        0.392157\n",
       "Thailand                      0.166667\n",
       "Trinadad&Tobago               0.105263\n",
       "United-States                 0.245835\n",
       "Vietnam                       0.074627\n",
       "Yugoslavia                    0.375000\n",
       "Name: income, dtype: float64"
      ]
     },
     "execution_count": 127,
     "metadata": {},
     "output_type": "execute_result"
    }
   ],
   "source": [
    "print(len(data_train.groupby([\"native_country\"])[\"income\"].mean()))\n",
    "print(data_train.groupby([\"native_country\"])[\"income\"].mean().var())\n",
    "data_train.groupby([\"native_country\"])[\"income\"].mean()"
   ]
  },
  {
   "cell_type": "code",
   "execution_count": 128,
   "metadata": {},
   "outputs": [
    {
     "name": "stdout",
     "output_type": "stream",
     "text": [
      "117\n"
     ]
    },
    {
     "data": {
      "text/plain": [
       "education     workclass       \n",
       "10th          ?                   0.020000\n",
       "              Federal-gov         0.000000\n",
       "              Local-gov           0.032258\n",
       "              Never-worked        0.000000\n",
       "              Private             0.067626\n",
       "                                    ...   \n",
       "Some-college  Private             0.181194\n",
       "              Self-emp-inc        0.513274\n",
       "              Self-emp-not-inc    0.220165\n",
       "              State-gov           0.095385\n",
       "              Without-pay         0.000000\n",
       "Name: income, Length: 117, dtype: float64"
      ]
     },
     "execution_count": 128,
     "metadata": {},
     "output_type": "execute_result"
    }
   ],
   "source": [
    "print(len(data_train.groupby([\"education\", \"workclass\"])[\"income\"].mean()))\n",
    "data_train.groupby([\"education\", \"workclass\"])[\"income\"].mean()"
   ]
  },
  {
   "cell_type": "code",
   "execution_count": 103,
   "metadata": {},
   "outputs": [
    {
     "name": "stdout",
     "output_type": "stream",
     "text": [
      "0.02444375587945859\n"
     ]
    },
    {
     "data": {
      "text/plain": [
       "occupation         sex   \n",
       "?                  Female    0.061831\n",
       "                   Male      0.138723\n",
       "Adm-clerical       Female    0.083563\n",
       "                   Male      0.239254\n",
       "Armed-Forces       Male      0.111111\n",
       "Craft-repair       Female    0.090090\n",
       "                   Male      0.234460\n",
       "Exec-managerial    Female    0.241588\n",
       "                   Male      0.580667\n",
       "Farming-fishing    Female    0.030769\n",
       "                   Male      0.121636\n",
       "Handlers-cleaners  Female    0.024390\n",
       "                   Male      0.067993\n",
       "Machine-op-inspct  Female    0.036364\n",
       "                   Male      0.158402\n",
       "Other-service      Female    0.028333\n",
       "                   Male      0.057525\n",
       "Priv-house-serv    Female    0.007092\n",
       "                   Male      0.000000\n",
       "Prof-specialty     Female    0.254125\n",
       "                   Male      0.561524\n",
       "Protective-serv    Female    0.131579\n",
       "                   Male      0.350785\n",
       "Sales              Female    0.069675\n",
       "                   Male      0.374948\n",
       "Tech-support       Female    0.129310\n",
       "                   Male      0.410345\n",
       "Transport-moving   Female    0.100000\n",
       "                   Male      0.206370\n",
       "Name: income, dtype: float64"
      ]
     },
     "execution_count": 103,
     "metadata": {},
     "output_type": "execute_result"
    }
   ],
   "source": [
    "print(data_train.groupby([\"occupation\", \"sex\"])[\"income\"].mean().var())\n",
    "data_train.groupby([\"occupation\", \"sex\"])[\"income\"].mean()"
   ]
  },
  {
   "cell_type": "code",
   "execution_count": 104,
   "metadata": {},
   "outputs": [
    {
     "name": "stdout",
     "output_type": "stream",
     "text": [
      "0.030246389802265926\n"
     ]
    },
    {
     "data": {
      "text/plain": [
       "workclass         sex   \n",
       "?                 Female    0.061979\n",
       "                  Male      0.139418\n",
       "Federal-gov       Female    0.177778\n",
       "                  Male      0.488372\n",
       "Local-gov         Female    0.184431\n",
       "                  Male      0.368045\n",
       "Never-worked      Female    0.000000\n",
       "                  Male      0.000000\n",
       "Private           Female    0.093653\n",
       "                  Male      0.283525\n",
       "Self-emp-inc      Female    0.303704\n",
       "                  Male      0.592253\n",
       "Self-emp-not-inc  Female    0.205514\n",
       "                  Male      0.299720\n",
       "State-gov         Female    0.139059\n",
       "                  Male      0.352287\n",
       "Without-pay       Female    0.000000\n",
       "                  Male      0.000000\n",
       "Name: income, dtype: float64"
      ]
     },
     "execution_count": 104,
     "metadata": {},
     "output_type": "execute_result"
    }
   ],
   "source": [
    "print(data_train.groupby([\"workclass\", \"sex\"])[\"income\"].mean().var())\n",
    "data_train.groupby([\"workclass\", \"sex\"])[\"income\"].mean()"
   ]
  },
  {
   "cell_type": "code",
   "execution_count": 105,
   "metadata": {},
   "outputs": [
    {
     "name": "stdout",
     "output_type": "stream",
     "text": [
      "0.03820302999119889\n"
     ]
    },
    {
     "data": {
      "text/plain": [
       "relationship    sex   \n",
       "Husband         Female    0.000000\n",
       "                Male      0.448605\n",
       "Not-in-family   Female    0.073290\n",
       "                Male      0.129120\n",
       "Other-relative  Female    0.032558\n",
       "                Male      0.041742\n",
       "Own-child       Female    0.011136\n",
       "                Male      0.014878\n",
       "Unmarried       Female    0.042200\n",
       "                Male      0.133838\n",
       "Wife            Female    0.475096\n",
       "                Male      0.500000\n",
       "Name: income, dtype: float64"
      ]
     },
     "execution_count": 105,
     "metadata": {},
     "output_type": "execute_result"
    }
   ],
   "source": [
    "print(data_train.groupby([\"relationship\", \"sex\"])[\"income\"].mean().var())\n",
    "data_train.groupby([\"relationship\", \"sex\"])[\"income\"].mean()"
   ]
  },
  {
   "cell_type": "code",
   "execution_count": 111,
   "metadata": {},
   "outputs": [
    {
     "data": {
      "text/html": [
       "<div>\n",
       "<style scoped>\n",
       "    .dataframe tbody tr th:only-of-type {\n",
       "        vertical-align: middle;\n",
       "    }\n",
       "\n",
       "    .dataframe tbody tr th {\n",
       "        vertical-align: top;\n",
       "    }\n",
       "\n",
       "    .dataframe thead th {\n",
       "        text-align: right;\n",
       "    }\n",
       "</style>\n",
       "<table border=\"1\" class=\"dataframe\">\n",
       "  <thead>\n",
       "    <tr style=\"text-align: right;\">\n",
       "      <th></th>\n",
       "      <th>age</th>\n",
       "      <th>workclass</th>\n",
       "      <th>fnlwgt</th>\n",
       "      <th>education</th>\n",
       "      <th>education_num</th>\n",
       "      <th>marital_status</th>\n",
       "      <th>occupation</th>\n",
       "      <th>relationship</th>\n",
       "      <th>race</th>\n",
       "      <th>sex</th>\n",
       "      <th>capital_gain</th>\n",
       "      <th>capital_loss</th>\n",
       "      <th>hours_per_week</th>\n",
       "      <th>native_country</th>\n",
       "      <th>income</th>\n",
       "    </tr>\n",
       "  </thead>\n",
       "  <tbody>\n",
       "    <tr>\n",
       "      <th>575</th>\n",
       "      <td>29</td>\n",
       "      <td>Private</td>\n",
       "      <td>350162</td>\n",
       "      <td>Bachelors</td>\n",
       "      <td>13</td>\n",
       "      <td>Married-civ-spouse</td>\n",
       "      <td>Exec-managerial</td>\n",
       "      <td>Wife</td>\n",
       "      <td>White</td>\n",
       "      <td>Male</td>\n",
       "      <td>0</td>\n",
       "      <td>0</td>\n",
       "      <td>40</td>\n",
       "      <td>United-States</td>\n",
       "      <td>1</td>\n",
       "    </tr>\n",
       "    <tr>\n",
       "      <th>27141</th>\n",
       "      <td>36</td>\n",
       "      <td>Private</td>\n",
       "      <td>74791</td>\n",
       "      <td>Bachelors</td>\n",
       "      <td>13</td>\n",
       "      <td>Married-civ-spouse</td>\n",
       "      <td>Sales</td>\n",
       "      <td>Wife</td>\n",
       "      <td>White</td>\n",
       "      <td>Male</td>\n",
       "      <td>0</td>\n",
       "      <td>0</td>\n",
       "      <td>60</td>\n",
       "      <td>?</td>\n",
       "      <td>0</td>\n",
       "    </tr>\n",
       "  </tbody>\n",
       "</table>\n",
       "</div>"
      ],
      "text/plain": [
       "       age workclass  fnlwgt  education  education_num      marital_status  \\\n",
       "575     29   Private  350162  Bachelors             13  Married-civ-spouse   \n",
       "27141   36   Private   74791  Bachelors             13  Married-civ-spouse   \n",
       "\n",
       "            occupation relationship   race   sex  capital_gain  capital_loss  \\\n",
       "575    Exec-managerial         Wife  White  Male             0             0   \n",
       "27141            Sales         Wife  White  Male             0             0   \n",
       "\n",
       "       hours_per_week native_country  income  \n",
       "575                40  United-States       1  \n",
       "27141              60              ?       0  "
      ]
     },
     "execution_count": 111,
     "metadata": {},
     "output_type": "execute_result"
    }
   ],
   "source": [
    "data_train[(data_train[\"relationship\"] == \"Wife\") & (data_train[\"sex\"] == \"Male\")]"
   ]
  },
  {
   "cell_type": "code",
   "execution_count": 112,
   "metadata": {},
   "outputs": [
    {
     "data": {
      "text/html": [
       "<div>\n",
       "<style scoped>\n",
       "    .dataframe tbody tr th:only-of-type {\n",
       "        vertical-align: middle;\n",
       "    }\n",
       "\n",
       "    .dataframe tbody tr th {\n",
       "        vertical-align: top;\n",
       "    }\n",
       "\n",
       "    .dataframe thead th {\n",
       "        text-align: right;\n",
       "    }\n",
       "</style>\n",
       "<table border=\"1\" class=\"dataframe\">\n",
       "  <thead>\n",
       "    <tr style=\"text-align: right;\">\n",
       "      <th></th>\n",
       "      <th>age</th>\n",
       "      <th>workclass</th>\n",
       "      <th>fnlwgt</th>\n",
       "      <th>education</th>\n",
       "      <th>education_num</th>\n",
       "      <th>marital_status</th>\n",
       "      <th>occupation</th>\n",
       "      <th>relationship</th>\n",
       "      <th>race</th>\n",
       "      <th>sex</th>\n",
       "      <th>capital_gain</th>\n",
       "      <th>capital_loss</th>\n",
       "      <th>hours_per_week</th>\n",
       "      <th>native_country</th>\n",
       "      <th>income</th>\n",
       "    </tr>\n",
       "  </thead>\n",
       "  <tbody>\n",
       "    <tr>\n",
       "      <th>7109</th>\n",
       "      <td>34</td>\n",
       "      <td>Private</td>\n",
       "      <td>175878</td>\n",
       "      <td>HS-grad</td>\n",
       "      <td>9</td>\n",
       "      <td>Married-civ-spouse</td>\n",
       "      <td>Sales</td>\n",
       "      <td>Husband</td>\n",
       "      <td>White</td>\n",
       "      <td>Female</td>\n",
       "      <td>0</td>\n",
       "      <td>0</td>\n",
       "      <td>40</td>\n",
       "      <td>United-States</td>\n",
       "      <td>0</td>\n",
       "    </tr>\n",
       "  </tbody>\n",
       "</table>\n",
       "</div>"
      ],
      "text/plain": [
       "      age workclass  fnlwgt education  education_num      marital_status  \\\n",
       "7109   34   Private  175878   HS-grad              9  Married-civ-spouse   \n",
       "\n",
       "     occupation relationship   race     sex  capital_gain  capital_loss  \\\n",
       "7109      Sales      Husband  White  Female             0             0   \n",
       "\n",
       "      hours_per_week native_country  income  \n",
       "7109              40  United-States       0  "
      ]
     },
     "execution_count": 112,
     "metadata": {},
     "output_type": "execute_result"
    }
   ],
   "source": [
    "data_train[(data_train[\"relationship\"] == \"Husband\") & (data_train[\"sex\"] == \"Female\")]"
   ]
  },
  {
   "cell_type": "code",
   "execution_count": 129,
   "metadata": {},
   "outputs": [
    {
     "name": "stdout",
     "output_type": "stream",
     "text": [
      "83\n",
      "0.032487315270670745\n"
     ]
    },
    {
     "data": {
      "text/plain": [
       "workclass    occupation       \n",
       "?            ?                    0.104031\n",
       "Federal-gov  Adm-clerical         0.318612\n",
       "             Armed-Forces         0.111111\n",
       "             Craft-repair         0.328125\n",
       "             Exec-managerial      0.511111\n",
       "                                    ...   \n",
       "Without-pay  Farming-fishing      0.000000\n",
       "             Handlers-cleaners    0.000000\n",
       "             Machine-op-inspct    0.000000\n",
       "             Other-service        0.000000\n",
       "             Transport-moving     0.000000\n",
       "Name: income, Length: 83, dtype: float64"
      ]
     },
     "execution_count": 129,
     "metadata": {},
     "output_type": "execute_result"
    }
   ],
   "source": [
    "print(len(data_train.groupby([\"workclass\", \"occupation\"])[\"income\"].mean()))\n",
    "print(data_train.groupby([\"workclass\", \"occupation\"])[\"income\"].mean().var())\n",
    "data_train.groupby([\"workclass\", \"occupation\"])[\"income\"].mean()"
   ]
  },
  {
   "cell_type": "code",
   "execution_count": 131,
   "metadata": {},
   "outputs": [
    {
     "name": "stdout",
     "output_type": "stream",
     "text": [
      "29\n",
      "0.02301308431997292\n"
     ]
    },
    {
     "data": {
      "text/plain": [
       "marital_status         relationship  \n",
       "Divorced               Not-in-family     0.128536\n",
       "                       Other-relative    0.054545\n",
       "                       Own-child         0.042683\n",
       "                       Unmarried         0.083698\n",
       "Married-AF-spouse      Husband           0.444444\n",
       "                       Other-relative    0.000000\n",
       "                       Own-child         0.000000\n",
       "                       Wife              0.500000\n",
       "Married-civ-spouse     Husband           0.448574\n",
       "                       Not-in-family     0.235294\n",
       "                       Other-relative    0.145161\n",
       "                       Own-child         0.178947\n",
       "                       Wife              0.474936\n",
       "Married-spouse-absent  Not-in-family     0.118483\n",
       "                       Other-relative    0.062500\n",
       "                       Own-child         0.044444\n",
       "                       Unmarried         0.038462\n",
       "Never-married          Not-in-family     0.090523\n",
       "                       Other-relative    0.013093\n",
       "                       Own-child         0.007581\n",
       "                       Unmarried         0.026107\n",
       "Separated              Not-in-family     0.107143\n",
       "                       Other-relative    0.036364\n",
       "                       Own-child         0.000000\n",
       "                       Unmarried         0.042129\n",
       "Widowed                Not-in-family     0.085923\n",
       "                       Other-relative    0.020833\n",
       "                       Own-child         0.000000\n",
       "                       Unmarried         0.096606\n",
       "Name: income, dtype: float64"
      ]
     },
     "execution_count": 131,
     "metadata": {},
     "output_type": "execute_result"
    }
   ],
   "source": [
    "print(len(data_train.groupby([\"marital_status\", \"relationship\"])[\"income\"].mean()))\n",
    "print(data_train.groupby([\"marital_status\", \"relationship\"])[\"income\"].mean().var())\n",
    "data_train.groupby([\"marital_status\", \"relationship\"])[\"income\"].mean()"
   ]
  },
  {
   "cell_type": "markdown",
   "metadata": {},
   "source": [
    "# Preprocess testing"
   ]
  },
  {
   "cell_type": "code",
   "execution_count": 100,
   "metadata": {},
   "outputs": [],
   "source": [
    "keep_cat_cols  = [\"workclass\", \"marital_status\", \"occupation\", \"relationship\", \"sex\"]\n",
    "data_cat = data_train[keep_cat_cols]"
   ]
  },
  {
   "cell_type": "code",
   "execution_count": 101,
   "metadata": {},
   "outputs": [
    {
     "data": {
      "text/html": [
       "<div>\n",
       "<style scoped>\n",
       "    .dataframe tbody tr th:only-of-type {\n",
       "        vertical-align: middle;\n",
       "    }\n",
       "\n",
       "    .dataframe tbody tr th {\n",
       "        vertical-align: top;\n",
       "    }\n",
       "\n",
       "    .dataframe thead th {\n",
       "        text-align: right;\n",
       "    }\n",
       "</style>\n",
       "<table border=\"1\" class=\"dataframe\">\n",
       "  <thead>\n",
       "    <tr style=\"text-align: right;\">\n",
       "      <th></th>\n",
       "      <th>workclass_?</th>\n",
       "      <th>workclass_Federal-gov</th>\n",
       "      <th>workclass_Local-gov</th>\n",
       "      <th>workclass_Never-worked</th>\n",
       "      <th>workclass_Private</th>\n",
       "      <th>workclass_Self-emp-inc</th>\n",
       "      <th>workclass_Self-emp-not-inc</th>\n",
       "      <th>workclass_State-gov</th>\n",
       "      <th>workclass_Without-pay</th>\n",
       "      <th>marital_status_Divorced</th>\n",
       "      <th>...</th>\n",
       "      <th>occupation_Tech-support</th>\n",
       "      <th>occupation_Transport-moving</th>\n",
       "      <th>relationship_Husband</th>\n",
       "      <th>relationship_Not-in-family</th>\n",
       "      <th>relationship_Other-relative</th>\n",
       "      <th>relationship_Own-child</th>\n",
       "      <th>relationship_Unmarried</th>\n",
       "      <th>relationship_Wife</th>\n",
       "      <th>sex_Female</th>\n",
       "      <th>sex_Male</th>\n",
       "    </tr>\n",
       "  </thead>\n",
       "  <tbody>\n",
       "    <tr>\n",
       "      <th>0</th>\n",
       "      <td>0</td>\n",
       "      <td>0</td>\n",
       "      <td>0</td>\n",
       "      <td>0</td>\n",
       "      <td>0</td>\n",
       "      <td>0</td>\n",
       "      <td>0</td>\n",
       "      <td>1</td>\n",
       "      <td>0</td>\n",
       "      <td>0</td>\n",
       "      <td>...</td>\n",
       "      <td>0</td>\n",
       "      <td>0</td>\n",
       "      <td>0</td>\n",
       "      <td>1</td>\n",
       "      <td>0</td>\n",
       "      <td>0</td>\n",
       "      <td>0</td>\n",
       "      <td>0</td>\n",
       "      <td>0</td>\n",
       "      <td>1</td>\n",
       "    </tr>\n",
       "    <tr>\n",
       "      <th>1</th>\n",
       "      <td>0</td>\n",
       "      <td>0</td>\n",
       "      <td>0</td>\n",
       "      <td>0</td>\n",
       "      <td>0</td>\n",
       "      <td>0</td>\n",
       "      <td>1</td>\n",
       "      <td>0</td>\n",
       "      <td>0</td>\n",
       "      <td>0</td>\n",
       "      <td>...</td>\n",
       "      <td>0</td>\n",
       "      <td>0</td>\n",
       "      <td>1</td>\n",
       "      <td>0</td>\n",
       "      <td>0</td>\n",
       "      <td>0</td>\n",
       "      <td>0</td>\n",
       "      <td>0</td>\n",
       "      <td>0</td>\n",
       "      <td>1</td>\n",
       "    </tr>\n",
       "    <tr>\n",
       "      <th>2</th>\n",
       "      <td>0</td>\n",
       "      <td>0</td>\n",
       "      <td>0</td>\n",
       "      <td>0</td>\n",
       "      <td>1</td>\n",
       "      <td>0</td>\n",
       "      <td>0</td>\n",
       "      <td>0</td>\n",
       "      <td>0</td>\n",
       "      <td>1</td>\n",
       "      <td>...</td>\n",
       "      <td>0</td>\n",
       "      <td>0</td>\n",
       "      <td>0</td>\n",
       "      <td>1</td>\n",
       "      <td>0</td>\n",
       "      <td>0</td>\n",
       "      <td>0</td>\n",
       "      <td>0</td>\n",
       "      <td>0</td>\n",
       "      <td>1</td>\n",
       "    </tr>\n",
       "    <tr>\n",
       "      <th>3</th>\n",
       "      <td>0</td>\n",
       "      <td>0</td>\n",
       "      <td>0</td>\n",
       "      <td>0</td>\n",
       "      <td>1</td>\n",
       "      <td>0</td>\n",
       "      <td>0</td>\n",
       "      <td>0</td>\n",
       "      <td>0</td>\n",
       "      <td>0</td>\n",
       "      <td>...</td>\n",
       "      <td>0</td>\n",
       "      <td>0</td>\n",
       "      <td>1</td>\n",
       "      <td>0</td>\n",
       "      <td>0</td>\n",
       "      <td>0</td>\n",
       "      <td>0</td>\n",
       "      <td>0</td>\n",
       "      <td>0</td>\n",
       "      <td>1</td>\n",
       "    </tr>\n",
       "    <tr>\n",
       "      <th>4</th>\n",
       "      <td>0</td>\n",
       "      <td>0</td>\n",
       "      <td>0</td>\n",
       "      <td>0</td>\n",
       "      <td>1</td>\n",
       "      <td>0</td>\n",
       "      <td>0</td>\n",
       "      <td>0</td>\n",
       "      <td>0</td>\n",
       "      <td>0</td>\n",
       "      <td>...</td>\n",
       "      <td>0</td>\n",
       "      <td>0</td>\n",
       "      <td>0</td>\n",
       "      <td>0</td>\n",
       "      <td>0</td>\n",
       "      <td>0</td>\n",
       "      <td>0</td>\n",
       "      <td>1</td>\n",
       "      <td>1</td>\n",
       "      <td>0</td>\n",
       "    </tr>\n",
       "    <tr>\n",
       "      <th>...</th>\n",
       "      <td>...</td>\n",
       "      <td>...</td>\n",
       "      <td>...</td>\n",
       "      <td>...</td>\n",
       "      <td>...</td>\n",
       "      <td>...</td>\n",
       "      <td>...</td>\n",
       "      <td>...</td>\n",
       "      <td>...</td>\n",
       "      <td>...</td>\n",
       "      <td>...</td>\n",
       "      <td>...</td>\n",
       "      <td>...</td>\n",
       "      <td>...</td>\n",
       "      <td>...</td>\n",
       "      <td>...</td>\n",
       "      <td>...</td>\n",
       "      <td>...</td>\n",
       "      <td>...</td>\n",
       "      <td>...</td>\n",
       "      <td>...</td>\n",
       "    </tr>\n",
       "    <tr>\n",
       "      <th>32556</th>\n",
       "      <td>0</td>\n",
       "      <td>0</td>\n",
       "      <td>0</td>\n",
       "      <td>0</td>\n",
       "      <td>1</td>\n",
       "      <td>0</td>\n",
       "      <td>0</td>\n",
       "      <td>0</td>\n",
       "      <td>0</td>\n",
       "      <td>0</td>\n",
       "      <td>...</td>\n",
       "      <td>1</td>\n",
       "      <td>0</td>\n",
       "      <td>0</td>\n",
       "      <td>0</td>\n",
       "      <td>0</td>\n",
       "      <td>0</td>\n",
       "      <td>0</td>\n",
       "      <td>1</td>\n",
       "      <td>1</td>\n",
       "      <td>0</td>\n",
       "    </tr>\n",
       "    <tr>\n",
       "      <th>32557</th>\n",
       "      <td>0</td>\n",
       "      <td>0</td>\n",
       "      <td>0</td>\n",
       "      <td>0</td>\n",
       "      <td>1</td>\n",
       "      <td>0</td>\n",
       "      <td>0</td>\n",
       "      <td>0</td>\n",
       "      <td>0</td>\n",
       "      <td>0</td>\n",
       "      <td>...</td>\n",
       "      <td>0</td>\n",
       "      <td>0</td>\n",
       "      <td>1</td>\n",
       "      <td>0</td>\n",
       "      <td>0</td>\n",
       "      <td>0</td>\n",
       "      <td>0</td>\n",
       "      <td>0</td>\n",
       "      <td>0</td>\n",
       "      <td>1</td>\n",
       "    </tr>\n",
       "    <tr>\n",
       "      <th>32558</th>\n",
       "      <td>0</td>\n",
       "      <td>0</td>\n",
       "      <td>0</td>\n",
       "      <td>0</td>\n",
       "      <td>1</td>\n",
       "      <td>0</td>\n",
       "      <td>0</td>\n",
       "      <td>0</td>\n",
       "      <td>0</td>\n",
       "      <td>0</td>\n",
       "      <td>...</td>\n",
       "      <td>0</td>\n",
       "      <td>0</td>\n",
       "      <td>0</td>\n",
       "      <td>0</td>\n",
       "      <td>0</td>\n",
       "      <td>0</td>\n",
       "      <td>1</td>\n",
       "      <td>0</td>\n",
       "      <td>1</td>\n",
       "      <td>0</td>\n",
       "    </tr>\n",
       "    <tr>\n",
       "      <th>32559</th>\n",
       "      <td>0</td>\n",
       "      <td>0</td>\n",
       "      <td>0</td>\n",
       "      <td>0</td>\n",
       "      <td>1</td>\n",
       "      <td>0</td>\n",
       "      <td>0</td>\n",
       "      <td>0</td>\n",
       "      <td>0</td>\n",
       "      <td>0</td>\n",
       "      <td>...</td>\n",
       "      <td>0</td>\n",
       "      <td>0</td>\n",
       "      <td>0</td>\n",
       "      <td>0</td>\n",
       "      <td>0</td>\n",
       "      <td>1</td>\n",
       "      <td>0</td>\n",
       "      <td>0</td>\n",
       "      <td>0</td>\n",
       "      <td>1</td>\n",
       "    </tr>\n",
       "    <tr>\n",
       "      <th>32560</th>\n",
       "      <td>0</td>\n",
       "      <td>0</td>\n",
       "      <td>0</td>\n",
       "      <td>0</td>\n",
       "      <td>0</td>\n",
       "      <td>1</td>\n",
       "      <td>0</td>\n",
       "      <td>0</td>\n",
       "      <td>0</td>\n",
       "      <td>0</td>\n",
       "      <td>...</td>\n",
       "      <td>0</td>\n",
       "      <td>0</td>\n",
       "      <td>0</td>\n",
       "      <td>0</td>\n",
       "      <td>0</td>\n",
       "      <td>0</td>\n",
       "      <td>0</td>\n",
       "      <td>1</td>\n",
       "      <td>1</td>\n",
       "      <td>0</td>\n",
       "    </tr>\n",
       "  </tbody>\n",
       "</table>\n",
       "<p>32561 rows × 39 columns</p>\n",
       "</div>"
      ],
      "text/plain": [
       "       workclass_?  workclass_Federal-gov  workclass_Local-gov  \\\n",
       "0                0                      0                    0   \n",
       "1                0                      0                    0   \n",
       "2                0                      0                    0   \n",
       "3                0                      0                    0   \n",
       "4                0                      0                    0   \n",
       "...            ...                    ...                  ...   \n",
       "32556            0                      0                    0   \n",
       "32557            0                      0                    0   \n",
       "32558            0                      0                    0   \n",
       "32559            0                      0                    0   \n",
       "32560            0                      0                    0   \n",
       "\n",
       "       workclass_Never-worked  workclass_Private  workclass_Self-emp-inc  \\\n",
       "0                           0                  0                       0   \n",
       "1                           0                  0                       0   \n",
       "2                           0                  1                       0   \n",
       "3                           0                  1                       0   \n",
       "4                           0                  1                       0   \n",
       "...                       ...                ...                     ...   \n",
       "32556                       0                  1                       0   \n",
       "32557                       0                  1                       0   \n",
       "32558                       0                  1                       0   \n",
       "32559                       0                  1                       0   \n",
       "32560                       0                  0                       1   \n",
       "\n",
       "       workclass_Self-emp-not-inc  workclass_State-gov  workclass_Without-pay  \\\n",
       "0                               0                    1                      0   \n",
       "1                               1                    0                      0   \n",
       "2                               0                    0                      0   \n",
       "3                               0                    0                      0   \n",
       "4                               0                    0                      0   \n",
       "...                           ...                  ...                    ...   \n",
       "32556                           0                    0                      0   \n",
       "32557                           0                    0                      0   \n",
       "32558                           0                    0                      0   \n",
       "32559                           0                    0                      0   \n",
       "32560                           0                    0                      0   \n",
       "\n",
       "       marital_status_Divorced  ...  occupation_Tech-support  \\\n",
       "0                            0  ...                        0   \n",
       "1                            0  ...                        0   \n",
       "2                            1  ...                        0   \n",
       "3                            0  ...                        0   \n",
       "4                            0  ...                        0   \n",
       "...                        ...  ...                      ...   \n",
       "32556                        0  ...                        1   \n",
       "32557                        0  ...                        0   \n",
       "32558                        0  ...                        0   \n",
       "32559                        0  ...                        0   \n",
       "32560                        0  ...                        0   \n",
       "\n",
       "       occupation_Transport-moving  relationship_Husband  \\\n",
       "0                                0                     0   \n",
       "1                                0                     1   \n",
       "2                                0                     0   \n",
       "3                                0                     1   \n",
       "4                                0                     0   \n",
       "...                            ...                   ...   \n",
       "32556                            0                     0   \n",
       "32557                            0                     1   \n",
       "32558                            0                     0   \n",
       "32559                            0                     0   \n",
       "32560                            0                     0   \n",
       "\n",
       "       relationship_Not-in-family  relationship_Other-relative  \\\n",
       "0                               1                            0   \n",
       "1                               0                            0   \n",
       "2                               1                            0   \n",
       "3                               0                            0   \n",
       "4                               0                            0   \n",
       "...                           ...                          ...   \n",
       "32556                           0                            0   \n",
       "32557                           0                            0   \n",
       "32558                           0                            0   \n",
       "32559                           0                            0   \n",
       "32560                           0                            0   \n",
       "\n",
       "       relationship_Own-child  relationship_Unmarried  relationship_Wife  \\\n",
       "0                           0                       0                  0   \n",
       "1                           0                       0                  0   \n",
       "2                           0                       0                  0   \n",
       "3                           0                       0                  0   \n",
       "4                           0                       0                  1   \n",
       "...                       ...                     ...                ...   \n",
       "32556                       0                       0                  1   \n",
       "32557                       0                       0                  0   \n",
       "32558                       0                       1                  0   \n",
       "32559                       1                       0                  0   \n",
       "32560                       0                       0                  1   \n",
       "\n",
       "       sex_Female  sex_Male  \n",
       "0               0         1  \n",
       "1               0         1  \n",
       "2               0         1  \n",
       "3               0         1  \n",
       "4               1         0  \n",
       "...           ...       ...  \n",
       "32556           1         0  \n",
       "32557           0         1  \n",
       "32558           1         0  \n",
       "32559           0         1  \n",
       "32560           1         0  \n",
       "\n",
       "[32561 rows x 39 columns]"
      ]
     },
     "execution_count": 101,
     "metadata": {},
     "output_type": "execute_result"
    }
   ],
   "source": [
    "pd.get_dummies(data_cat)"
   ]
  }
 ],
 "metadata": {
  "interpreter": {
   "hash": "853a6c1de715781c4e36e93313002732d37040606184d41a7b9ff831089b66e5"
  },
  "kernelspec": {
   "display_name": "Python 3.7.10 64-bit ('EEML': conda)",
   "name": "python3"
  },
  "language_info": {
   "codemirror_mode": {
    "name": "ipython",
    "version": 3
   },
   "file_extension": ".py",
   "mimetype": "text/x-python",
   "name": "python",
   "nbconvert_exporter": "python",
   "pygments_lexer": "ipython3",
   "version": "3.7.10"
  },
  "orig_nbformat": 4
 },
 "nbformat": 4,
 "nbformat_minor": 2
}
