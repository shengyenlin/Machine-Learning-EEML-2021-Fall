{
 "cells": [
  {
   "cell_type": "markdown",
   "metadata": {},
   "source": [
    "# 1013"
   ]
  },
  {
   "cell_type": "code",
   "execution_count": null,
   "metadata": {},
   "outputs": [
    {
     "name": "stdout",
     "output_type": "stream",
     "text": [
      "Epoch 1, training RMSE = 181.0904483423277, validation RMSE = 66.93557691885785\n",
      "Epoch 2, training RMSE = 33.141945476196724, validation RMSE = 20.459553888902537\n",
      "Epoch 3, training RMSE = 14.541169868880056, validation RMSE = 11.197010370486096\n",
      "Epoch 4, training RMSE = 8.709671717989028, validation RMSE = 9.384359981820149\n",
      "Epoch 5, training RMSE = 7.889229952464715, validation RMSE = 8.441115685021089\n",
      "Epoch 6, training RMSE = 7.380126764394232, validation RMSE = 8.414147990697808\n",
      "Epoch 7, training RMSE = 7.110368406504145, validation RMSE = 8.278717395478111\n",
      "Epoch 8, training RMSE = 7.022552150785373, validation RMSE = 7.60164038487045\n",
      "Epoch 9, training RMSE = 6.812366192800279, validation RMSE = 7.484563953152241\n",
      "Epoch 10, training RMSE = 6.674713017497086, validation RMSE = 7.404421002713996\n",
      "Epoch 11, training RMSE = 6.54268283993857, validation RMSE = 7.210303340718485\n",
      "Epoch 12, training RMSE = 6.445061766752405, validation RMSE = 7.125498238660908\n",
      "Epoch 13, training RMSE = 6.29134620857692, validation RMSE = 7.167262655522838\n",
      "Epoch 14, training RMSE = 6.216919562282831, validation RMSE = 7.117269506396678\n",
      "Epoch 15, training RMSE = 6.142451548950539, validation RMSE = 6.8823924330515\n",
      "Epoch 16, training RMSE = 6.049103013230939, validation RMSE = 6.920777455252369\n",
      "Epoch 17, training RMSE = 5.996432681515965, validation RMSE = 6.7400756487066245\n",
      "Epoch 18, training RMSE = 5.921252072832181, validation RMSE = 6.6475406884837565\n",
      "Epoch 19, training RMSE = 5.831443976377968, validation RMSE = 6.612883483465393\n",
      "Epoch 20, training RMSE = 5.799980561031457, validation RMSE = 6.526872920081124\n",
      "Epoch 21, training RMSE = 5.725295079849596, validation RMSE = 6.4841349805311\n",
      "Epoch 22, training RMSE = 5.70679231784925, validation RMSE = 6.292856527075098\n",
      "Epoch 23, training RMSE = 5.619502448854795, validation RMSE = 6.2937555150881925\n",
      "Epoch 24, training RMSE = 5.5988360107687845, validation RMSE = 6.2620092094936926\n",
      "Epoch 25, training RMSE = 5.533316633384324, validation RMSE = 6.300827236888186\n",
      "Epoch 26, training RMSE = 5.48303116735538, validation RMSE = 6.207443412150978\n",
      "Epoch 27, training RMSE = 5.442987239289867, validation RMSE = 6.170153057285089\n",
      "Epoch 28, training RMSE = 5.372974097013994, validation RMSE = 6.227923479541889\n",
      "Epoch 29, training RMSE = 5.3560587851762635, validation RMSE = 6.078557252072058\n",
      "Epoch 30, training RMSE = 5.338231235623289, validation RMSE = 5.977292240094234\n",
      "Epoch 31, training RMSE = 5.223623855898201, validation RMSE = 6.230131172124696\n",
      "Epoch 32, training RMSE = 5.237015998578744, validation RMSE = 6.018236872070407\n",
      "Epoch 33, training RMSE = 5.218694170901006, validation RMSE = 5.928436639982725\n",
      "Epoch 34, training RMSE = 5.163782821782087, validation RMSE = 5.954734921454837\n",
      "Epoch 35, training RMSE = 5.1832512104896304, validation RMSE = 5.667929038150447\n",
      "Epoch 36, training RMSE = 5.146758056398309, validation RMSE = 5.765419710985729\n",
      "Epoch 37, training RMSE = 5.103652842346213, validation RMSE = 5.848452094611593\n",
      "Epoch 38, training RMSE = 5.102723368915152, validation RMSE = 5.711813895749305\n",
      "Epoch 39, training RMSE = 5.069025730209085, validation RMSE = 5.626264410777174\n",
      "Epoch 40, training RMSE = 5.00641923868277, validation RMSE = 5.703871542331755\n",
      "Epoch 41, training RMSE = 5.01736915865048, validation RMSE = 5.554002885909999\n",
      "Epoch 42, training RMSE = 4.994755197417016, validation RMSE = 5.52732536423541\n",
      "Epoch 43, training RMSE = 4.9854424516355484, validation RMSE = 5.543447478822163\n",
      "Epoch 44, training RMSE = 4.959213978334325, validation RMSE = 5.477432095875142\n",
      "Epoch 45, training RMSE = 4.954439892515551, validation RMSE = 5.364024859747082\n",
      "Epoch 46, training RMSE = 4.889981932209357, validation RMSE = 5.585409943224751\n",
      "Epoch 47, training RMSE = 4.895077679681017, validation RMSE = 5.423063491969888\n",
      "Epoch 48, training RMSE = 4.901546859887153, validation RMSE = 5.350078393778916\n",
      "Epoch 49, training RMSE = 4.86890690941986, validation RMSE = 5.393683359541\n",
      "Epoch 50, training RMSE = 4.808389340988342, validation RMSE = 5.64492367889028\n"
     ]
    }
   ],
   "source": [
    "batch_size = 512\n",
    "epoch_size = 50\n",
    "learning_rate = 0.01\n",
    "model = LinearRegression()\n",
    "model.train(X_train, y_train, batch_size, epoch_size, learning_rate)"
   ]
  },
  {
   "cell_type": "markdown",
   "metadata": {},
   "source": [
    "# 1014"
   ]
  },
  {
   "cell_type": "markdown",
   "metadata": {},
   "source": [
    "## Select top 10 features "
   ]
  }
 ],
 "metadata": {
  "interpreter": {
   "hash": "50bc8ce3d1f752641134e147d4e62e8ba66bb5292f815a5a3dd7adbd21f01ef0"
  },
  "kernelspec": {
   "display_name": "Python 3.6.8 64-bit ('test': conda)",
   "name": "python3"
  },
  "language_info": {
   "name": "python",
   "version": "3.6.8"
  },
  "orig_nbformat": 4
 },
 "nbformat": 4,
 "nbformat_minor": 2
}
