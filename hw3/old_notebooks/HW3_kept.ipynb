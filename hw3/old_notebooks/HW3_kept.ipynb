{
 "cells": [
  {
   "cell_type": "markdown",
   "metadata": {},
   "source": [
    "#### Customize dataset"
   ]
  },
  {
   "cell_type": "code",
   "execution_count": null,
   "metadata": {},
   "outputs": [],
   "source": [
    "class FaceExpressionDataset(Dataset):\n",
    "    def __init__(self, data, augment=None):\n",
    "        self.data = data\n",
    "        self.augment = augment\n",
    "\n",
    "    def __len__(self):\n",
    "        return len(self.data)\n",
    "    \n",
    "    def normalize(self, data):\n",
    "        # TODO\n",
    "        return data\n",
    "    \n",
    "    def read_img(self, idx):\n",
    "        img = Image.open(self.data[idx][0])\n",
    "        if not self.augment is None:\n",
    "            img = self.augment(img)\n",
    "        img = torch.from_numpy(np.array(img)).float()\n",
    "        img = img.unsqueeze(0).float()\n",
    "        img = self.normalize(img)\n",
    "        return img\n",
    "    \n",
    "    def __getitem__(self, idx):\n",
    "        img = self.read_img(idx)\n",
    "        label = self.data[idx][1]\n",
    "        return img, label\n",
    "    \n",
    "class TestingDataset(Dataset):\n",
    "    def __init__(self, data, augment=None):\n",
    "        self.data = data\n",
    "        self.augment = augment\n",
    "\n",
    "    def __len__(self):\n",
    "        return len(self.data)\n",
    "    \n",
    "    def normalize(self, data):\n",
    "        # TODO\n",
    "        return data\n",
    "    \n",
    "    def read_img(self, idx):\n",
    "        img = Image.open(self.data[idx])\n",
    "        if not self.augment is None:\n",
    "            img = self.augment(img)\n",
    "        img = torch.from_numpy(np.array(img)).float()\n",
    "        img = img.unsqueeze(0).float()\n",
    "        img = self.normalize(img)\n",
    "        return img\n",
    "        \n",
    "    def __getitem__(self, idx):\n",
    "        img = self.read_img(idx)\n",
    "        return img"
   ]
  }
 ],
 "metadata": {
  "language_info": {
   "name": "python"
  },
  "orig_nbformat": 4
 },
 "nbformat": 4,
 "nbformat_minor": 2
}
