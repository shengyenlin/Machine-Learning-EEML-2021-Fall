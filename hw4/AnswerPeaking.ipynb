{
 "cells": [
  {
   "cell_type": "code",
   "execution_count": 1,
   "metadata": {},
   "outputs": [],
   "source": [
    "import numpy as np\n",
    "import csv"
   ]
  },
  {
   "cell_type": "code",
   "execution_count": 11,
   "metadata": {},
   "outputs": [],
   "source": [
    "all_zero = np.zeros(20000, dtype = int)\n",
    "all_one = np.ones(20000)"
   ]
  },
  {
   "cell_type": "code",
   "execution_count": 9,
   "metadata": {},
   "outputs": [],
   "source": [
    "def write_to_csv(predict_result, file_name):\n",
    "    with open(file_name, 'w', newline='') as csvfile:\n",
    "        writer = csv.writer(csvfile)\n",
    "        writer.writerow(['id', 'label'])\n",
    "        for i in range(len(predict_result)):\n",
    "            writer.writerow([int(i), int(predict_result[i])])"
   ]
  },
  {
   "cell_type": "code",
   "execution_count": 7,
   "metadata": {},
   "outputs": [],
   "source": [
    "path_prefix = \"./submission/\"\n",
    "path_all_ones = path_prefix + \"all_ones.csv\"\n",
    "path_all_zeros = path_prefix + \"all_zeros.csv\""
   ]
  },
  {
   "cell_type": "code",
   "execution_count": 10,
   "metadata": {},
   "outputs": [],
   "source": [
    "write_to_csv(all_zero, path_all_zeros)\n",
    "write_to_csv(all_one, path_all_ones)"
   ]
  }
 ],
 "metadata": {
  "interpreter": {
   "hash": "50bc8ce3d1f752641134e147d4e62e8ba66bb5292f815a5a3dd7adbd21f01ef0"
  },
  "kernelspec": {
   "display_name": "Python 3.6.8 64-bit ('test': conda)",
   "language": "python",
   "name": "python3"
  },
  "language_info": {
   "codemirror_mode": {
    "name": "ipython",
    "version": 3
   },
   "file_extension": ".py",
   "mimetype": "text/x-python",
   "name": "python",
   "nbconvert_exporter": "python",
   "pygments_lexer": "ipython3",
   "version": "3.6.8"
  },
  "orig_nbformat": 4
 },
 "nbformat": 4,
 "nbformat_minor": 2
}
