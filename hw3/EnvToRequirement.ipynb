{
 "cells": [
  {
   "cell_type": "code",
   "execution_count": 2,
   "metadata": {},
   "outputs": [],
   "source": [
    "import ruamel.yaml\n",
    "\n",
    "yaml = ruamel.yaml.YAML()\n",
    "data = yaml.load(open('ml_hw3.yml'))\n",
    "\n",
    "requirements = []\n",
    "for dep in data['dependencies']:\n",
    "    if isinstance(dep, str):\n",
    "        package, package_version, python_version = dep.split('=')\n",
    "        if python_version == '0':\n",
    "            continue\n",
    "        requirements.append(package + '==' + package_version)\n",
    "    elif isinstance(dep, dict):\n",
    "        for preq in dep.get('pip', []):\n",
    "            requirements.append(preq)\n",
    "\n",
    "with open('requirements.txt', 'w') as fp:\n",
    "    for requirement in requirements:\n",
    "       print(requirement, file=fp)"
   ]
  }
 ],
 "metadata": {
  "interpreter": {
   "hash": "853a6c1de715781c4e36e93313002732d37040606184d41a7b9ff831089b66e5"
  },
  "kernelspec": {
   "display_name": "Python 3.7.10 64-bit ('EEML': conda)",
   "name": "python3"
  },
  "language_info": {
   "codemirror_mode": {
    "name": "ipython",
    "version": 3
   },
   "file_extension": ".py",
   "mimetype": "text/x-python",
   "name": "python",
   "nbconvert_exporter": "python",
   "pygments_lexer": "ipython3",
   "version": "3.7.10"
  },
  "orig_nbformat": 4
 },
 "nbformat": 4,
 "nbformat_minor": 2
}
