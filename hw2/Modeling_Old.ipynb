{
 "cells": [
  {
   "cell_type": "markdown",
   "metadata": {},
   "source": [
    "# Selected featuers\n",
    "- Only use numerical features\n",
    "- no scaling"
   ]
  },
  {
   "cell_type": "code",
   "execution_count": null,
   "metadata": {},
   "outputs": [],
   "source": [
    "num_cols = [\"age\", \"fnlwgt\", \"capital_gain\", \"capital_loss\", \"hours_per_week\", \"education_num\"]\n",
    "y_train = data_train[\"income\"]\n",
    "X_train_num = np.array(data_train[num_cols])\n",
    "X_test_num = np.array(data_test[num_cols])"
   ]
  },
  {
   "cell_type": "code",
   "execution_count": null,
   "metadata": {},
   "outputs": [],
   "source": [
    "k_max = round(np.sqrt(X_train_num.shape[0]))\n",
    "k_range = list(range(20, k_max, 3))\n",
    "param_grid = {\n",
    "    \"n_neighbors\": k_range,\n",
    "    \"weights\": [\"uniform\", \"distance\"],\n",
    "    \"metric\": [\"euclidean\", \"manhattan\"]\n",
    "}"
   ]
  },
  {
   "cell_type": "code",
   "execution_count": null,
   "metadata": {},
   "outputs": [
    {
     "name": "stdout",
     "output_type": "stream",
     "text": [
      "Fitting 5 folds for each of 216 candidates, totalling 1080 fits\n"
     ]
    },
    {
     "name": "stderr",
     "output_type": "stream",
     "text": [
      "[Parallel(n_jobs=-1)]: Using backend LokyBackend with 2 concurrent workers.\n",
      "[Parallel(n_jobs=-1)]: Done  46 tasks      | elapsed:   17.7s\n",
      "[Parallel(n_jobs=-1)]: Done 196 tasks      | elapsed:  1.1min\n",
      "[Parallel(n_jobs=-1)]: Done 446 tasks      | elapsed:  2.7min\n",
      "[Parallel(n_jobs=-1)]: Done 796 tasks      | elapsed:  4.6min\n",
      "[Parallel(n_jobs=-1)]: Done 1080 out of 1080 | elapsed:  6.5min finished\n"
     ]
    }
   ],
   "source": [
    "KNN = KNeighborsClassifier()\n",
    "GS = GridSearchCV(KNN, \n",
    "    param_grid, \n",
    "    verbose = 1,\n",
    "    cv = 5, n_jobs = -1).fit(X_train_num, y_train)"
   ]
  },
  {
   "cell_type": "code",
   "execution_count": null,
   "metadata": {},
   "outputs": [
    {
     "name": "stdout",
     "output_type": "stream",
     "text": [
      "Training accuracy 0.8057184975891404\n",
      "========== Best estimator is ==========\n",
      "KNeighborsClassifier(algorithm='auto', leaf_size=30, metric='manhattan',\n",
      "                     metric_params=None, n_jobs=None, n_neighbors=20, p=2,\n",
      "                     weights='uniform')\n",
      "========== CV Acc for each K ==========\n",
      "param_n_neighbors\n",
      "20     0.796528\n",
      "23     0.797142\n",
      "26     0.797442\n",
      "29     0.798440\n",
      "32     0.798033\n",
      "35     0.798048\n",
      "38     0.797365\n",
      "41     0.797380\n",
      "44     0.796774\n",
      "47     0.796566\n",
      "50     0.795998\n",
      "53     0.795829\n",
      "56     0.795215\n",
      "59     0.795115\n",
      "62     0.794724\n",
      "65     0.794685\n",
      "68     0.794148\n",
      "71     0.793749\n",
      "74     0.793081\n",
      "77     0.792804\n",
      "80     0.792159\n",
      "83     0.791837\n",
      "86     0.791453\n",
      "89     0.791177\n",
      "92     0.790762\n",
      "95     0.790593\n",
      "98     0.790117\n",
      "101    0.789917\n",
      "104    0.789395\n",
      "107    0.789073\n",
      "110    0.788628\n",
      "113    0.788451\n",
      "116    0.788075\n",
      "119    0.787844\n",
      "122    0.787437\n",
      "125    0.787238\n",
      "128    0.786800\n",
      "131    0.786416\n",
      "134    0.785817\n",
      "137    0.785610\n",
      "140    0.785172\n",
      "143    0.784942\n",
      "146    0.784428\n",
      "149    0.784220\n",
      "152    0.783744\n",
      "155    0.783568\n",
      "158    0.783115\n",
      "161    0.782992\n",
      "164    0.782554\n",
      "167    0.782332\n",
      "170    0.782055\n",
      "173    0.781902\n",
      "176    0.781610\n",
      "179    0.781441\n",
      "Name: mean_test_score, dtype: float64\n"
     ]
    },
    {
     "data": {
      "image/png": "[encoded data removed]",
      "text/plain": [
       "<Figure size 432x288 with 1 Axes>"
      ]
     },
     "metadata": {},
     "output_type": "display_data"
    }
   ],
   "source": [
    "print(f\"Training accuracy {GS.score(X_train_num, y_train)}\")\n",
    "print(\"=\"*10, \"Best estimator is\", \"=\"*10)\n",
    "print(GS.best_estimator_)\n",
    "\n",
    "GS_result = pd.DataFrame(GS.cv_results_)\n",
    "print(\"=\"*10, \"CV Acc for each K\", \"=\"*10)\n",
    "print(GS_result.groupby([\"param_n_neighbors\"])['mean_test_score'].mean())\n",
    "\n",
    "k_idx = GS_result.groupby([\"param_n_neighbors\"])['mean_test_score'].mean().index\n",
    "acc = GS_result.groupby([\"param_n_neighbors\"])['mean_test_score'].mean().values\n",
    "\n",
    "plt.plot(k_idx, acc)\n",
    "plt.xlabel('Value of K for KNN')\n",
    "plt.ylabel('Cross-Validated Accuracy')\n",
    "plt.show()"
   ]
  },
  {
   "cell_type": "markdown",
   "metadata": {},
   "source": [
    "# Selected featuers\n",
    "- Numerical features\n",
    "    - robust scaler (do not scale `education_num`)\n",
    "- Categorical\n",
    "    - frequency encoding"
   ]
  },
  {
   "cell_type": "code",
   "execution_count": null,
   "metadata": {},
   "outputs": [],
   "source": [
    "num_cols = [\"age\", \"fnlwgt\", \"capital_gain\", \"capital_loss\", \"hours_per_week\"]\n",
    "order_cat_cols = [\"education_num\"]\n",
    "cat_cols = [\"workclass\", \"education\", \"marital_status\", \"occupation\", \"relationship\", \"race\", \"sex\", \"native_country\"]\n",
    "\n",
    "#use training data's frequency to apply on training and testing dataset\n",
    "for col in cat_cols:\n",
    "    cat_ratio = data_train.groupby([col]).size() / len(data_train)\n",
    "    data_train[col] = data_train[col].apply(lambda x: cat_ratio[x])\n",
    "    data_test[col] = data_test[col].apply(lambda x: cat_ratio[x])"
   ]
  },
  {
   "cell_type": "code",
   "execution_count": null,
   "metadata": {},
   "outputs": [],
   "source": [
    "y_train = data_train[\"income\"]\n",
    "\n",
    "X_train_order = np.array(data_train[order_cat_cols])\n",
    "X_train_num = np.array(data_train[num_cols])\n",
    "X_train_cat = np.array(data_train[cat_cols])\n",
    "\n",
    "X_test_order = np.array(data_test[order_cat_cols])\n",
    "X_test_num = np.array(data_test[num_cols])\n",
    "X_test_cat = np.array(data_test[cat_cols])"
   ]
  },
  {
   "cell_type": "code",
   "execution_count": null,
   "metadata": {},
   "outputs": [],
   "source": [
    "robust_scaler = RobustScaler()\n",
    "X_train_num_scaled = robust_scaler.fit_transform(X_train_num)\n",
    "X_test_num_scaled = robust_scaler.transform(X_test_num)"
   ]
  },
  {
   "cell_type": "code",
   "execution_count": null,
   "metadata": {},
   "outputs": [],
   "source": [
    "X_train = np.concatenate([X_train_order, X_train_num_scaled, X_train_cat], axis = 1)\n",
    "X_test = np.concatenate([X_test_order, X_test_num_scaled, X_test_cat], axis = 1)"
   ]
  },
  {
   "cell_type": "code",
   "execution_count": null,
   "metadata": {},
   "outputs": [
    {
     "name": "stdout",
     "output_type": "stream",
     "text": [
      "(32561, 14)\n",
      "(16281, 14)\n"
     ]
    }
   ],
   "source": [
    "print(X_train.shape)\n",
    "print(X_test.shape)"
   ]
  },
  {
   "cell_type": "code",
   "execution_count": null,
   "metadata": {},
   "outputs": [],
   "source": [
    "k_max = round(np.sqrt(X_train_num.shape[0]))\n",
    "k_range = list(range(20, k_max, 3))\n",
    "param_grid = {\n",
    "    \"n_neighbors\": k_range,\n",
    "    \"weights\": [\"uniform\", \"distance\"],\n",
    "    \"metric\": [\"euclidean\", \"manhattan\"]\n",
    "}"
   ]
  },
  {
   "cell_type": "code",
   "execution_count": null,
   "metadata": {},
   "outputs": [
    {
     "name": "stdout",
     "output_type": "stream",
     "text": [
      "Fitting 5 folds for each of 216 candidates, totalling 1080 fits\n"
     ]
    },
    {
     "name": "stderr",
     "output_type": "stream",
     "text": [
      "[Parallel(n_jobs=-1)]: Using backend LokyBackend with 2 concurrent workers.\n",
      "[Parallel(n_jobs=-1)]: Done  46 tasks      | elapsed:  1.2min\n"
     ]
    }
   ],
   "source": [
    "KNN = KNeighborsClassifier()\n",
    "GS = GridSearchCV(KNN, \n",
    "    param_grid, \n",
    "    verbose = 1,\n",
    "    cv = 5, n_jobs = -1).fit(X_train_num_scaled, y_train)"
   ]
  },
  {
   "cell_type": "code",
   "execution_count": null,
   "metadata": {},
   "outputs": [
    {
     "name": "stdout",
     "output_type": "stream",
     "text": [
      "Training accuracy 0.9987715365007217\n",
      "========== Best estimator is ==========\n",
      "KNeighborsClassifier(algorithm='auto', leaf_size=30, metric='euclidean',\n",
      "                     metric_params=None, n_jobs=None, n_neighbors=170, p=2,\n",
      "                     weights='distance')\n",
      "========== CV Acc for each K ==========\n",
      "param_n_neighbors\n",
      "20     0.833705\n",
      "23     0.834050\n",
      "26     0.834641\n",
      "29     0.834457\n",
      "32     0.835033\n",
      "35     0.835225\n",
      "38     0.835110\n",
      "41     0.835017\n",
      "44     0.835340\n",
      "47     0.835432\n",
      "50     0.835724\n",
      "53     0.835332\n",
      "56     0.835486\n",
      "59     0.835493\n",
      "62     0.835378\n",
      "65     0.835386\n",
      "68     0.835424\n",
      "71     0.835225\n",
      "74     0.834841\n",
      "77     0.834657\n",
      "80     0.834971\n",
      "83     0.835040\n",
      "86     0.835332\n",
      "89     0.835363\n",
      "92     0.835263\n",
      "95     0.835263\n",
      "98     0.835286\n",
      "101    0.835002\n",
      "104    0.835470\n",
      "107    0.835240\n",
      "110    0.835294\n",
      "113    0.835225\n",
      "116    0.835371\n",
      "119    0.835048\n",
      "122    0.835394\n",
      "125    0.835240\n",
      "128    0.835424\n",
      "131    0.834787\n",
      "134    0.834841\n",
      "137    0.834703\n",
      "140    0.834472\n",
      "143    0.834380\n",
      "146    0.834250\n",
      "149    0.834388\n",
      "152    0.833866\n",
      "155    0.834004\n",
      "158    0.833505\n",
      "161    0.833781\n",
      "164    0.833981\n",
      "167    0.833574\n",
      "170    0.833712\n",
      "173    0.833789\n",
      "176    0.833428\n",
      "179    0.833397\n",
      "Name: mean_test_score, dtype: float64\n"
     ]
    },
    {
     "data": {
      "image/png": "[encoded data removed]",
      "text/plain": [
       "<Figure size 432x288 with 1 Axes>"
      ]
     },
     "metadata": {},
     "output_type": "display_data"
    }
   ],
   "source": [
    "print(f\"Training accuracy {GS.score(X_train_num_scaled, y_train)}\")\n",
    "print(\"=\"*10, \"Best estimator is\", \"=\"*10)\n",
    "print(GS.best_estimator_)\n",
    "\n",
    "GS_result = pd.DataFrame(GS.cv_results_)\n",
    "print(\"=\"*10, \"CV Acc for each K\", \"=\"*10)\n",
    "print(GS_result.groupby([\"param_n_neighbors\"])['mean_test_score'].mean())\n",
    "\n",
    "k_idx = GS_result.groupby([\"param_n_neighbors\"])['mean_test_score'].mean().index\n",
    "acc = GS_result.groupby([\"param_n_neighbors\"])['mean_test_score'].mean().values\n",
    "\n",
    "plt.plot(k_idx, acc)\n",
    "plt.xlabel('Value of K for KNN')\n",
    "plt.ylabel('Cross-Validated Accuracy')\n",
    "plt.show()"
   ]
  },
  {
   "cell_type": "markdown",
   "metadata": {},
   "source": [
    "# Selected featuers\n",
    "- Only use numerical features\n",
    "- robust scaler (do not scale `education_num`)"
   ]
  },
  {
   "cell_type": "code",
   "execution_count": null,
   "metadata": {},
   "outputs": [],
   "source": [
    "num_cols = [\"age\", \"fnlwgt\", \"capital_gain\", \"capital_loss\", \"hours_per_week\"]\n",
    "order_cat_cols = [\"education_num\"]\n",
    "y_train = data_train[\"income\"]\n",
    "\n",
    "X_train_order = np.array(data_train[order_cat_cols])\n",
    "X_train_num = np.array(data_train[num_cols])\n",
    "\n",
    "X_test_order = np.array(data_test[order_cat_cols])\n",
    "X_test_num = np.array(data_test[num_cols])"
   ]
  },
  {
   "cell_type": "code",
   "execution_count": null,
   "metadata": {},
   "outputs": [],
   "source": [
    "robust_scaler = RobustScaler()\n",
    "X_train_num_scaled = robust_scaler.fit_transform(X_train_num)\n",
    "X_test_num_scaled = robust_scaler.transform(X_test_num)"
   ]
  },
  {
   "cell_type": "code",
   "execution_count": null,
   "metadata": {},
   "outputs": [],
   "source": [
    "X_train = np.concatenate([X_train_order, X_train_num_scaled], axis = 1)\n",
    "X_test = np.concatenate([X_test_order, X_test_num_scaled], axis = 1)"
   ]
  },
  {
   "cell_type": "code",
   "execution_count": null,
   "metadata": {},
   "outputs": [],
   "source": [
    "k_max = round(np.sqrt(X_train_num.shape[0]))\n",
    "k_range = list(range(20, k_max, 3))\n",
    "param_grid = {\n",
    "    \"n_neighbors\": k_range,\n",
    "    \"weights\": [\"uniform\", \"distance\"],\n",
    "    \"metric\": [\"euclidean\", \"manhattan\"]\n",
    "}"
   ]
  },
  {
   "cell_type": "code",
   "execution_count": null,
   "metadata": {},
   "outputs": [
    {
     "name": "stdout",
     "output_type": "stream",
     "text": [
      "Fitting 5 folds for each of 216 candidates, totalling 1080 fits\n"
     ]
    },
    {
     "name": "stderr",
     "output_type": "stream",
     "text": [
      "[Parallel(n_jobs=-1)]: Using backend LokyBackend with 2 concurrent workers.\n",
      "[Parallel(n_jobs=-1)]: Done  46 tasks      | elapsed:  1.5min\n",
      "[Parallel(n_jobs=-1)]: Done 196 tasks      | elapsed:  6.3min\n",
      "[Parallel(n_jobs=-1)]: Done 446 tasks      | elapsed: 15.2min\n",
      "[Parallel(n_jobs=-1)]: Done 796 tasks      | elapsed: 27.6min\n",
      "[Parallel(n_jobs=-1)]: Done 1080 out of 1080 | elapsed: 39.7min finished\n"
     ]
    }
   ],
   "source": [
    "KNN = KNeighborsClassifier()\n",
    "GS = GridSearchCV(KNN, \n",
    "    param_grid, \n",
    "    verbose = 1,\n",
    "    cv = 5, n_jobs = -1).fit(X_train, y_train)"
   ]
  },
  {
   "cell_type": "code",
   "execution_count": null,
   "metadata": {},
   "outputs": [
    {
     "name": "stdout",
     "output_type": "stream",
     "text": [
      "Training accuracy 0.8481926230766869\n",
      "========== Best estimator is ==========\n",
      "KNeighborsClassifier(algorithm='auto', leaf_size=30, metric='manhattan',\n",
      "                     metric_params=None, n_jobs=None, n_neighbors=26, p=2,\n",
      "                     weights='uniform')\n",
      "========== CV Acc for each K ==========\n",
      "param_n_neighbors\n",
      "20     0.833881\n",
      "23     0.834127\n",
      "26     0.835240\n",
      "29     0.834994\n",
      "32     0.835447\n",
      "35     0.835440\n",
      "38     0.835317\n",
      "41     0.835248\n",
      "44     0.835524\n",
      "47     0.835501\n",
      "50     0.835885\n",
      "53     0.835463\n",
      "56     0.835540\n",
      "59     0.835563\n",
      "62     0.835378\n",
      "65     0.835194\n",
      "68     0.834964\n",
      "71     0.834802\n",
      "74     0.834672\n",
      "77     0.834357\n",
      "80     0.834587\n",
      "83     0.834680\n",
      "86     0.834741\n",
      "89     0.834818\n",
      "92     0.834710\n",
      "95     0.834795\n",
      "98     0.834764\n",
      "101    0.834618\n",
      "104    0.834879\n",
      "107    0.834841\n",
      "110    0.834864\n",
      "113    0.834795\n",
      "116    0.834518\n",
      "119    0.834380\n",
      "122    0.834204\n",
      "125    0.834196\n",
      "128    0.834096\n",
      "131    0.833735\n",
      "134    0.833743\n",
      "137    0.833789\n",
      "140    0.833190\n",
      "143    0.832921\n",
      "146    0.832714\n",
      "149    0.833075\n",
      "152    0.832445\n",
      "155    0.832852\n",
      "158    0.832376\n",
      "161    0.832760\n",
      "164    0.832591\n",
      "167    0.832714\n",
      "170    0.832637\n",
      "173    0.832752\n",
      "176    0.832461\n",
      "179    0.832207\n",
      "Name: mean_test_score, dtype: float64\n"
     ]
    },
    {
     "data": {
      "image/png": "[encoded data removed]",
      "text/plain": [
       "<Figure size 432x288 with 1 Axes>"
      ]
     },
     "metadata": {},
     "output_type": "display_data"
    }
   ],
   "source": [
    "print(f\"Training accuracy {GS.score(X_train, y_train)}\")\n",
    "print(\"=\"*10, \"Best estimator is\", \"=\"*10)\n",
    "print(GS.best_estimator_)\n",
    "\n",
    "GS_result = pd.DataFrame(GS.cv_results_)\n",
    "print(\"=\"*10, \"CV Acc for each K\", \"=\"*10)\n",
    "print(GS_result.groupby([\"param_n_neighbors\"])['mean_test_score'].mean())\n",
    "\n",
    "k_idx = GS_result.groupby([\"param_n_neighbors\"])['mean_test_score'].mean().index\n",
    "acc = GS_result.groupby([\"param_n_neighbors\"])['mean_test_score'].mean().values\n",
    "\n",
    "plt.plot(k_idx, acc)\n",
    "plt.xlabel('Value of K for KNN')\n",
    "plt.ylabel('Cross-Validated Accuracy')\n",
    "plt.show()"
   ]
  },
  {
   "cell_type": "markdown",
   "metadata": {},
   "source": [
    "# Selected featuers\n",
    "- Only use numerical features\n",
    "- min max scaler (do not scale `education_num`)"
   ]
  },
  {
   "cell_type": "code",
   "execution_count": null,
   "metadata": {},
   "outputs": [],
   "source": [
    "num_cols = [\"age\", \"fnlwgt\", \"capital_gain\", \"capital_loss\", \"hours_per_week\"]\n",
    "order_cat_cols = [\"education_num\"]\n",
    "y_train = data_train[\"income\"]\n",
    "\n",
    "X_train_order = np.array(data_train[order_cat_cols])\n",
    "X_train_num = np.array(data_train[num_cols])\n",
    "\n",
    "X_test_order = np.array(data_test[order_cat_cols])\n",
    "X_test_num = np.array(data_test[num_cols])"
   ]
  },
  {
   "cell_type": "code",
   "execution_count": null,
   "metadata": {},
   "outputs": [],
   "source": [
    "MMS = MinMaxScaler()\n",
    "X_train_num_scaled = MMS.fit_transform(X_train_num)\n",
    "X_test_num_scaled = MMS.transform(X_test_num)"
   ]
  },
  {
   "cell_type": "code",
   "execution_count": null,
   "metadata": {},
   "outputs": [],
   "source": [
    "X_train = np.concatenate([X_train_order, X_train_num_scaled], axis = 1)\n",
    "X_test = np.concatenate([X_test_order, X_test_num_scaled], axis = 1)"
   ]
  },
  {
   "cell_type": "code",
   "execution_count": null,
   "metadata": {},
   "outputs": [],
   "source": [
    "k_max = round(np.sqrt(X_train_num.shape[0]))\n",
    "k_range = list(range(20, k_max, 3))\n",
    "param_grid = {\n",
    "    \"n_neighbors\": k_range,\n",
    "    \"weights\": [\"uniform\", \"distance\"],\n",
    "    \"metric\": [\"euclidean\", \"manhattan\"]\n",
    "}"
   ]
  },
  {
   "cell_type": "code",
   "execution_count": null,
   "metadata": {},
   "outputs": [
    {
     "name": "stdout",
     "output_type": "stream",
     "text": [
      "Fitting 5 folds for each of 216 candidates, totalling 1080 fits\n"
     ]
    },
    {
     "name": "stderr",
     "output_type": "stream",
     "text": [
      "[Parallel(n_jobs=-1)]: Using backend LokyBackend with 2 concurrent workers.\n",
      "[Parallel(n_jobs=-1)]: Done  46 tasks      | elapsed:   40.2s\n",
      "[Parallel(n_jobs=-1)]: Done 196 tasks      | elapsed:  3.0min\n",
      "[Parallel(n_jobs=-1)]: Done 446 tasks      | elapsed:  7.7min\n",
      "[Parallel(n_jobs=-1)]: Done 796 tasks      | elapsed: 14.1min\n",
      "[Parallel(n_jobs=-1)]: Done 1080 out of 1080 | elapsed: 20.5min finished\n"
     ]
    }
   ],
   "source": [
    "KNN = KNeighborsClassifier()\n",
    "GS = GridSearchCV(KNN, \n",
    "    param_grid, \n",
    "    verbose = 1,\n",
    "    cv = 5, n_jobs = -1).fit(X_train, y_train)"
   ]
  },
  {
   "cell_type": "code",
   "execution_count": null,
   "metadata": {},
   "outputs": [
    {
     "name": "stdout",
     "output_type": "stream",
     "text": [
      "Training accuracy 0.8278308405761494\n",
      "========== Best estimator is ==========\n",
      "KNeighborsClassifier(algorithm='auto', leaf_size=30, metric='manhattan',\n",
      "                     metric_params=None, n_jobs=None, n_neighbors=20, p=2,\n",
      "                     weights='uniform')\n",
      "========== CV Acc for each K ==========\n",
      "param_n_neighbors\n",
      "20     0.808406\n",
      "23     0.809097\n",
      "26     0.808790\n",
      "29     0.808836\n",
      "32     0.809097\n",
      "35     0.809250\n",
      "38     0.809005\n",
      "41     0.808974\n",
      "44     0.808613\n",
      "47     0.808713\n",
      "50     0.808590\n",
      "53     0.808675\n",
      "56     0.808429\n",
      "59     0.808605\n",
      "62     0.808083\n",
      "65     0.808152\n",
      "68     0.807669\n",
      "71     0.807423\n",
      "74     0.807131\n",
      "77     0.807170\n",
      "80     0.806847\n",
      "83     0.806709\n",
      "86     0.806141\n",
      "89     0.806302\n",
      "92     0.805757\n",
      "95     0.805573\n",
      "98     0.805365\n",
      "101    0.805235\n",
      "104    0.805112\n",
      "107    0.804951\n",
      "110    0.804513\n",
      "113    0.804682\n",
      "116    0.804513\n",
      "119    0.804413\n",
      "122    0.804275\n",
      "125    0.804498\n",
      "128    0.804421\n",
      "131    0.804697\n",
      "134    0.804383\n",
      "137    0.804252\n",
      "140    0.804229\n",
      "143    0.804267\n",
      "146    0.804283\n",
      "149    0.804152\n",
      "152    0.803991\n",
      "155    0.804145\n",
      "158    0.804029\n",
      "161    0.803853\n",
      "164    0.803853\n",
      "167    0.803807\n",
      "170    0.803653\n",
      "173    0.803600\n",
      "176    0.803569\n",
      "179    0.803500\n",
      "Name: mean_test_score, dtype: float64\n"
     ]
    },
    {
     "data": {
      "image/png": "[encoded data removed]",
      "text/plain": [
       "<Figure size 432x288 with 1 Axes>"
      ]
     },
     "metadata": {},
     "output_type": "display_data"
    }
   ],
   "source": [
    "print(f\"Training accuracy {GS.score(X_train, y_train)}\")\n",
    "print(\"=\"*10, \"Best estimator is\", \"=\"*10)\n",
    "print(GS.best_estimator_)\n",
    "\n",
    "GS_result = pd.DataFrame(GS.cv_results_)\n",
    "print(\"=\"*10, \"CV Acc for each K\", \"=\"*10)\n",
    "print(GS_result.groupby([\"param_n_neighbors\"])['mean_test_score'].mean())\n",
    "\n",
    "k_idx = GS_result.groupby([\"param_n_neighbors\"])['mean_test_score'].mean().index\n",
    "acc = GS_result.groupby([\"param_n_neighbors\"])['mean_test_score'].mean().values\n",
    "\n",
    "plt.plot(k_idx, acc)\n",
    "plt.xlabel('Value of K for KNN')\n",
    "plt.ylabel('Cross-Validated Accuracy')\n",
    "plt.show()"
   ]
  },
  {
   "cell_type": "markdown",
   "metadata": {},
   "source": [
    "# Selected featuers\n",
    "- Only use numerical features\n",
    "- robust scaler"
   ]
  },
  {
   "cell_type": "markdown",
   "metadata": {},
   "source": [
    "# Selected featuers\n",
    "- Only use numerical features\n",
    "- z-score transformation (do not scale `education_num`)"
   ]
  },
  {
   "cell_type": "code",
   "execution_count": null,
   "metadata": {},
   "outputs": [],
   "source": [
    "num_cols = [\"age\", \"fnlwgt\", \"capital_gain\", \"capital_loss\", \"hours_per_week\"]\n",
    "order_cat_cols = [\"education_num\"]\n",
    "y_train = data_train[\"income\"]\n",
    "\n",
    "X_train_order = np.array(data_train[order_cat_cols])\n",
    "X_train_num = np.array(data_train[num_cols])\n",
    "\n",
    "X_test_order = np.array(data_test[order_cat_cols])\n",
    "X_test_num = np.array(data_test[num_cols])"
   ]
  },
  {
   "cell_type": "code",
   "execution_count": null,
   "metadata": {},
   "outputs": [],
   "source": [
    "SS = StandardScaler()\n",
    "X_train_num_scaled = SS.fit_transform(X_train_num)\n",
    "X_test_num_scaled = SS.transform(X_test_num)"
   ]
  },
  {
   "cell_type": "code",
   "execution_count": null,
   "metadata": {},
   "outputs": [],
   "source": [
    "X_train = np.concatenate([X_train_order, X_train_num_scaled], axis = 1)\n",
    "X_test = np.concatenate([X_test_order, X_test_num_scaled], axis = 1)"
   ]
  },
  {
   "cell_type": "code",
   "execution_count": null,
   "metadata": {},
   "outputs": [],
   "source": [
    "k_max = round(np.sqrt(X_train_num.shape[0]))\n",
    "k_range = list(range(20, k_max, 3))\n",
    "param_grid = {\n",
    "    \"n_neighbors\": k_range,\n",
    "    \"weights\": [\"uniform\", \"distance\"],\n",
    "    \"metric\": [\"euclidean\", \"manhattan\"]\n",
    "}"
   ]
  },
  {
   "cell_type": "code",
   "execution_count": null,
   "metadata": {},
   "outputs": [
    {
     "name": "stdout",
     "output_type": "stream",
     "text": [
      "Fitting 5 folds for each of 216 candidates, totalling 1080 fits\n"
     ]
    },
    {
     "name": "stderr",
     "output_type": "stream",
     "text": [
      "[Parallel(n_jobs=-1)]: Using backend LokyBackend with 2 concurrent workers.\n",
      "[Parallel(n_jobs=-1)]: Done  46 tasks      | elapsed:   49.2s\n",
      "[Parallel(n_jobs=-1)]: Done 196 tasks      | elapsed:  4.0min\n",
      "[Parallel(n_jobs=-1)]: Done 446 tasks      | elapsed: 10.6min\n",
      "[Parallel(n_jobs=-1)]: Done 796 tasks      | elapsed: 19.9min\n",
      "[Parallel(n_jobs=-1)]: Done 1080 out of 1080 | elapsed: 29.6min finished\n"
     ]
    }
   ],
   "source": [
    "KNN = KNeighborsClassifier()\n",
    "GS = GridSearchCV(KNN, \n",
    "    param_grid, \n",
    "    verbose = 1,\n",
    "    cv = 5, n_jobs = -1).fit(X_train, y_train)"
   ]
  },
  {
   "cell_type": "code",
   "execution_count": null,
   "metadata": {},
   "outputs": [
    {
     "name": "stdout",
     "output_type": "stream",
     "text": [
      "Training accuracy 0.8277387058137035\n",
      "========== Best estimator is ==========\n",
      "KNeighborsClassifier(algorithm='auto', leaf_size=30, metric='manhattan',\n",
      "                     metric_params=None, n_jobs=None, n_neighbors=44, p=2,\n",
      "                     weights='uniform')\n",
      "========== CV Acc for each K ==========\n",
      "param_n_neighbors\n",
      "20     0.814087\n",
      "23     0.814402\n",
      "26     0.815162\n",
      "29     0.815723\n",
      "32     0.815976\n",
      "35     0.816398\n",
      "38     0.816713\n",
      "41     0.816921\n",
      "44     0.817512\n",
      "47     0.817619\n",
      "50     0.817673\n",
      "53     0.817811\n",
      "56     0.817473\n",
      "59     0.817328\n",
      "62     0.817082\n",
      "65     0.817251\n",
      "68     0.817274\n",
      "71     0.817435\n",
      "74     0.816990\n",
      "77     0.816959\n",
      "80     0.816790\n",
      "83     0.816775\n",
      "86     0.816483\n",
      "89     0.816567\n",
      "92     0.816345\n",
      "95     0.816591\n",
      "98     0.816214\n",
      "101    0.816168\n",
      "104    0.816114\n",
      "107    0.816038\n",
      "110    0.815861\n",
      "113    0.815946\n",
      "116    0.815846\n",
      "119    0.815984\n",
      "122    0.815777\n",
      "125    0.815792\n",
      "128    0.815554\n",
      "131    0.815523\n",
      "134    0.815516\n",
      "137    0.815715\n",
      "140    0.815063\n",
      "143    0.815093\n",
      "146    0.814955\n",
      "149    0.815124\n",
      "152    0.814702\n",
      "155    0.814702\n",
      "158    0.814095\n",
      "161    0.814064\n",
      "164    0.813919\n",
      "167    0.813988\n",
      "170    0.813627\n",
      "173    0.813765\n",
      "176    0.813512\n",
      "179    0.813635\n",
      "Name: mean_test_score, dtype: float64\n"
     ]
    },
    {
     "data": {
      "image/png": "[encoded data removed]",
      "text/plain": [
       "<Figure size 432x288 with 1 Axes>"
      ]
     },
     "metadata": {},
     "output_type": "display_data"
    }
   ],
   "source": [
    "print(f\"Training accuracy {GS.score(X_train, y_train)}\")\n",
    "print(\"=\"*10, \"Best estimator is\", \"=\"*10)\n",
    "print(GS.best_estimator_)\n",
    "\n",
    "GS_result = pd.DataFrame(GS.cv_results_)\n",
    "print(\"=\"*10, \"CV Acc for each K\", \"=\"*10)\n",
    "print(GS_result.groupby([\"param_n_neighbors\"])['mean_test_score'].mean())\n",
    "\n",
    "k_idx = GS_result.groupby([\"param_n_neighbors\"])['mean_test_score'].mean().index\n",
    "acc = GS_result.groupby([\"param_n_neighbors\"])['mean_test_score'].mean().values\n",
    "\n",
    "plt.plot(k_idx, acc)\n",
    "plt.xlabel('Value of K for KNN')\n",
    "plt.ylabel('Cross-Validated Accuracy')\n",
    "plt.show()"
   ]
  },
  {
   "cell_type": "code",
   "execution_count": null,
   "metadata": {},
   "outputs": [],
   "source": [
    "num_cols = [\"age\", \"fnlwgt\", \"capital_gain\", \"capital_loss\", \"hours_per_week\", \"education_num\"]\n",
    "y_train = data_train[\"income\"]\n",
    "X_train_num = np.array(data_train[num_cols])\n",
    "X_test_num = np.array(data_test[num_cols])"
   ]
  },
  {
   "cell_type": "code",
   "execution_count": null,
   "metadata": {},
   "outputs": [],
   "source": [
    "robust_scaler = RobustScaler()\n",
    "X_train_num_scaled = robust_scaler.fit_transform(X_train_num)\n",
    "X_test_num_scaled = robust_scaler.transform(X_test_num)"
   ]
  },
  {
   "cell_type": "code",
   "execution_count": null,
   "metadata": {},
   "outputs": [],
   "source": [
    "k_max = round(np.sqrt(X_train_num.shape[0]))\n",
    "k_range = list(range(20, k_max, 3))\n",
    "param_grid = {\n",
    "    \"n_neighbors\": k_range,\n",
    "    \"weights\": [\"uniform\", \"distance\"],\n",
    "    \"metric\": [\"euclidean\", \"manhattan\"]\n",
    "}"
   ]
  },
  {
   "cell_type": "code",
   "execution_count": null,
   "metadata": {},
   "outputs": [
    {
     "name": "stdout",
     "output_type": "stream",
     "text": [
      "Fitting 5 folds for each of 216 candidates, totalling 1080 fits\n"
     ]
    },
    {
     "name": "stderr",
     "output_type": "stream",
     "text": [
      "[Parallel(n_jobs=-1)]: Using backend LokyBackend with 2 concurrent workers.\n",
      "[Parallel(n_jobs=-1)]: Done  46 tasks      | elapsed:  1.3min\n",
      "[Parallel(n_jobs=-1)]: Done 196 tasks      | elapsed:  6.0min\n",
      "[Parallel(n_jobs=-1)]: Done 446 tasks      | elapsed: 14.9min\n",
      "[Parallel(n_jobs=-1)]: Done 796 tasks      | elapsed: 27.3min\n",
      "[Parallel(n_jobs=-1)]: Done 1080 out of 1080 | elapsed: 39.4min finished\n"
     ]
    }
   ],
   "source": [
    "KNN = KNeighborsClassifier()\n",
    "GS = GridSearchCV(KNN, \n",
    "    param_grid, \n",
    "    verbose = 1,\n",
    "    cv = 5, n_jobs = -1).fit(X_train_num_scaled, y_train)"
   ]
  },
  {
   "cell_type": "code",
   "execution_count": null,
   "metadata": {},
   "outputs": [
    {
     "name": "stdout",
     "output_type": "stream",
     "text": [
      "Training accuracy 0.9987715365007217\n",
      "========== Best estimator is ==========\n",
      "KNeighborsClassifier(algorithm='auto', leaf_size=30, metric='euclidean',\n",
      "                     metric_params=None, n_jobs=None, n_neighbors=170, p=2,\n",
      "                     weights='distance')\n",
      "========== CV Acc for each K ==========\n",
      "param_n_neighbors\n",
      "20     0.833705\n",
      "23     0.834050\n",
      "26     0.834641\n",
      "29     0.834457\n",
      "32     0.835033\n",
      "35     0.835225\n",
      "38     0.835110\n",
      "41     0.835017\n",
      "44     0.835340\n",
      "47     0.835432\n",
      "50     0.835724\n",
      "53     0.835332\n",
      "56     0.835486\n",
      "59     0.835493\n",
      "62     0.835378\n",
      "65     0.835386\n",
      "68     0.835424\n",
      "71     0.835225\n",
      "74     0.834841\n",
      "77     0.834657\n",
      "80     0.834971\n",
      "83     0.835040\n",
      "86     0.835332\n",
      "89     0.835363\n",
      "92     0.835263\n",
      "95     0.835263\n",
      "98     0.835286\n",
      "101    0.835002\n",
      "104    0.835470\n",
      "107    0.835240\n",
      "110    0.835294\n",
      "113    0.835225\n",
      "116    0.835371\n",
      "119    0.835048\n",
      "122    0.835394\n",
      "125    0.835240\n",
      "128    0.835424\n",
      "131    0.834787\n",
      "134    0.834841\n",
      "137    0.834703\n",
      "140    0.834472\n",
      "143    0.834380\n",
      "146    0.834250\n",
      "149    0.834388\n",
      "152    0.833866\n",
      "155    0.834004\n",
      "158    0.833505\n",
      "161    0.833781\n",
      "164    0.833981\n",
      "167    0.833574\n",
      "170    0.833712\n",
      "173    0.833789\n",
      "176    0.833428\n",
      "179    0.833397\n",
      "Name: mean_test_score, dtype: float64\n"
     ]
    },
    {
     "data": {
      "image/png": "[encoded data removed]",
      "text/plain": [
       "<Figure size 432x288 with 1 Axes>"
      ]
     },
     "metadata": {},
     "output_type": "display_data"
    }
   ],
   "source": [
    "print(f\"Training accuracy {GS.score(X_train_num_scaled, y_train)}\")\n",
    "print(\"=\"*10, \"Best estimator is\", \"=\"*10)\n",
    "print(GS.best_estimator_)\n",
    "\n",
    "GS_result = pd.DataFrame(GS.cv_results_)\n",
    "print(\"=\"*10, \"CV Acc for each K\", \"=\"*10)\n",
    "print(GS_result.groupby([\"param_n_neighbors\"])['mean_test_score'].mean())\n",
    "\n",
    "k_idx = GS_result.groupby([\"param_n_neighbors\"])['mean_test_score'].mean().index\n",
    "acc = GS_result.groupby([\"param_n_neighbors\"])['mean_test_score'].mean().values\n",
    "\n",
    "plt.plot(k_idx, acc)\n",
    "plt.xlabel('Value of K for KNN')\n",
    "plt.ylabel('Cross-Validated Accuracy')\n",
    "plt.show()"
   ]
  },
  {
   "cell_type": "markdown",
   "metadata": {},
   "source": [
    "# Selected featuers\n",
    "- Only use numerical features\n",
    "- robust scaler (do not scale `education_num`)"
   ]
  },
  {
   "cell_type": "code",
   "execution_count": null,
   "metadata": {},
   "outputs": [],
   "source": [
    "num_cols = [\"age\", \"fnlwgt\", \"capital_gain\", \"capital_loss\", \"hours_per_week\"]\n",
    "order_cat_cols = [\"education_num\"]\n",
    "y_train = data_train[\"income\"]\n",
    "\n",
    "X_train_order = np.array(data_train[order_cat_cols])\n",
    "X_train_num = np.array(data_train[num_cols])\n",
    "\n",
    "X_test_order = np.array(data_test[order_cat_cols])\n",
    "X_test_num = np.array(data_test[num_cols])"
   ]
  },
  {
   "cell_type": "code",
   "execution_count": null,
   "metadata": {},
   "outputs": [],
   "source": [
    "robust_scaler = RobustScaler()\n",
    "X_train_num_scaled = robust_scaler.fit_transform(X_train_num)\n",
    "X_test_num_scaled = robust_scaler.transform(X_test_num)"
   ]
  },
  {
   "cell_type": "code",
   "execution_count": null,
   "metadata": {},
   "outputs": [],
   "source": [
    "X_train = np.concatenate([X_train_order, X_train_num_scaled], axis = 1)\n",
    "X_test = np.concatenate([X_test_order, X_test_num_scaled], axis = 1)"
   ]
  },
  {
   "cell_type": "code",
   "execution_count": null,
   "metadata": {},
   "outputs": [],
   "source": [
    "k_max = round(np.sqrt(X_train_num.shape[0]))\n",
    "k_range = list(range(20, k_max, 3))\n",
    "param_grid = {\n",
    "    \"n_neighbors\": k_range,\n",
    "    \"weights\": [\"uniform\", \"distance\"],\n",
    "    \"metric\": [\"euclidean\", \"manhattan\"]\n",
    "}"
   ]
  },
  {
   "cell_type": "code",
   "execution_count": null,
   "metadata": {},
   "outputs": [
    {
     "name": "stdout",
     "output_type": "stream",
     "text": [
      "Fitting 5 folds for each of 216 candidates, totalling 1080 fits\n"
     ]
    },
    {
     "name": "stderr",
     "output_type": "stream",
     "text": [
      "[Parallel(n_jobs=-1)]: Using backend LokyBackend with 2 concurrent workers.\n",
      "[Parallel(n_jobs=-1)]: Done  46 tasks      | elapsed:  1.5min\n",
      "[Parallel(n_jobs=-1)]: Done 196 tasks      | elapsed:  6.3min\n",
      "[Parallel(n_jobs=-1)]: Done 446 tasks      | elapsed: 15.2min\n",
      "[Parallel(n_jobs=-1)]: Done 796 tasks      | elapsed: 27.6min\n",
      "[Parallel(n_jobs=-1)]: Done 1080 out of 1080 | elapsed: 39.7min finished\n"
     ]
    }
   ],
   "source": [
    "KNN = KNeighborsClassifier()\n",
    "GS = GridSearchCV(KNN, \n",
    "    param_grid, \n",
    "    verbose = 1,\n",
    "    cv = 5, n_jobs = -1).fit(X_train, y_train)"
   ]
  },
  {
   "cell_type": "code",
   "execution_count": null,
   "metadata": {},
   "outputs": [
    {
     "name": "stdout",
     "output_type": "stream",
     "text": [
      "Training accuracy 0.8481926230766869\n",
      "========== Best estimator is ==========\n",
      "KNeighborsClassifier(algorithm='auto', leaf_size=30, metric='manhattan',\n",
      "                     metric_params=None, n_jobs=None, n_neighbors=26, p=2,\n",
      "                     weights='uniform')\n",
      "========== CV Acc for each K ==========\n",
      "param_n_neighbors\n",
      "20     0.833881\n",
      "23     0.834127\n",
      "26     0.835240\n",
      "29     0.834994\n",
      "32     0.835447\n",
      "35     0.835440\n",
      "38     0.835317\n",
      "41     0.835248\n",
      "44     0.835524\n",
      "47     0.835501\n",
      "50     0.835885\n",
      "53     0.835463\n",
      "56     0.835540\n",
      "59     0.835563\n",
      "62     0.835378\n",
      "65     0.835194\n",
      "68     0.834964\n",
      "71     0.834802\n",
      "74     0.834672\n",
      "77     0.834357\n",
      "80     0.834587\n",
      "83     0.834680\n",
      "86     0.834741\n",
      "89     0.834818\n",
      "92     0.834710\n",
      "95     0.834795\n",
      "98     0.834764\n",
      "101    0.834618\n",
      "104    0.834879\n",
      "107    0.834841\n",
      "110    0.834864\n",
      "113    0.834795\n",
      "116    0.834518\n",
      "119    0.834380\n",
      "122    0.834204\n",
      "125    0.834196\n",
      "128    0.834096\n",
      "131    0.833735\n",
      "134    0.833743\n",
      "137    0.833789\n",
      "140    0.833190\n",
      "143    0.832921\n",
      "146    0.832714\n",
      "149    0.833075\n",
      "152    0.832445\n",
      "155    0.832852\n",
      "158    0.832376\n",
      "161    0.832760\n",
      "164    0.832591\n",
      "167    0.832714\n",
      "170    0.832637\n",
      "173    0.832752\n",
      "176    0.832461\n",
      "179    0.832207\n",
      "Name: mean_test_score, dtype: float64\n"
     ]
    },
    {
     "data": {
      "image/png": "[encoded data removed]",
      "text/plain": [
       "<Figure size 432x288 with 1 Axes>"
      ]
     },
     "metadata": {},
     "output_type": "display_data"
    }
   ],
   "source": [
    "print(f\"Training accuracy {GS.score(X_train, y_train)}\")\n",
    "print(\"=\"*10, \"Best estimator is\", \"=\"*10)\n",
    "print(GS.best_estimator_)\n",
    "\n",
    "GS_result = pd.DataFrame(GS.cv_results_)\n",
    "print(\"=\"*10, \"CV Acc for each K\", \"=\"*10)\n",
    "print(GS_result.groupby([\"param_n_neighbors\"])['mean_test_score'].mean())\n",
    "\n",
    "k_idx = GS_result.groupby([\"param_n_neighbors\"])['mean_test_score'].mean().index\n",
    "acc = GS_result.groupby([\"param_n_neighbors\"])['mean_test_score'].mean().values\n",
    "\n",
    "plt.plot(k_idx, acc)\n",
    "plt.xlabel('Value of K for KNN')\n",
    "plt.ylabel('Cross-Validated Accuracy')\n",
    "plt.show()"
   ]
  }
 ],
 "metadata": {
  "language_info": {
   "name": "python"
  },
  "orig_nbformat": 4
 },
 "nbformat": 4,
 "nbformat_minor": 2
}
