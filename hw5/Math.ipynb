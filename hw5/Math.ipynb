{
 "cells": [
  {
   "cell_type": "markdown",
   "metadata": {},
   "source": [
    "## Problem1"
   ]
  },
  {
   "cell_type": "code",
   "execution_count": 1,
   "metadata": {},
   "outputs": [],
   "source": [
    "import numpy as np"
   ]
  },
  {
   "cell_type": "code",
   "execution_count": 2,
   "metadata": {},
   "outputs": [],
   "source": [
    "def exp_dist(x, tao):\n",
    "    pdf = (1/tao)*np.exp(-x/tao)\n",
    "    return pdf"
   ]
  },
  {
   "cell_type": "code",
   "execution_count": 3,
   "metadata": {},
   "outputs": [],
   "source": [
    "taos = [1, 2]\n",
    "pis = [0.5, 0.5]\n",
    "Xs = [0, 2, 4]\n",
    "joint_probs = np.zeros(\n",
    "    (len(pis), len(Xs))\n",
    ")\n",
    "sum_joint_probs = np.zeros(\n",
    "    len(Xs)\n",
    ")"
   ]
  },
  {
   "cell_type": "code",
   "execution_count": 4,
   "metadata": {},
   "outputs": [],
   "source": [
    "for i, x in enumerate(Xs):\n",
    "    sum_joint_prob = 0\n",
    "    for j, tao in enumerate(taos):\n",
    "        joint_prob = pis[j] * exp_dist(Xs[i], taos[j])\n",
    "        joint_probs[j][i] = joint_prob\n",
    "        sum_joint_prob += joint_prob\n",
    "    sum_joint_probs[i] = sum_joint_prob"
   ]
  },
  {
   "cell_type": "code",
   "execution_count": 5,
   "metadata": {},
   "outputs": [
    {
     "name": "stdout",
     "output_type": "stream",
     "text": [
      "The answer of problem 1-(c) is\n",
      "[[0.5        0.06766764 0.00915782]\n",
      " [0.25       0.09196986 0.03383382]\n",
      " [0.75       0.1596375  0.04299164]\n",
      " [0.66666667 0.42388312 0.21301396]\n",
      " [0.33333333 0.57611688 0.78698604]]\n"
     ]
    }
   ],
   "source": [
    "deltas = joint_probs / sum_joint_probs\n",
    "print(\"The answer of problem 1-(c) is\")\n",
    "print(\n",
    "    np.concatenate(\n",
    "        [joint_probs, sum_joint_probs.reshape(-1, 3), deltas],\n",
    "        axis = 0\n",
    "    )\n",
    ")"
   ]
  },
  {
   "cell_type": "markdown",
   "metadata": {},
   "source": [
    "## Problem 1(d)"
   ]
  },
  {
   "cell_type": "code",
   "execution_count": 6,
   "metadata": {},
   "outputs": [],
   "source": [
    "deltas_j = np.sum(deltas, axis = 1)\n",
    "delta_sum_i_j = np.sum(deltas)\n",
    "pis_iter_1 = deltas_j / delta_sum_i_j\n",
    "taos_iter_1 = np.sum(deltas * Xs, axis = 1) / deltas_j"
   ]
  },
  {
   "cell_type": "code",
   "execution_count": 7,
   "metadata": {},
   "outputs": [
    {
     "name": "stdout",
     "output_type": "stream",
     "text": [
      "Iteration 1: M steps\n",
      "tau_1: 1.30398, pi_1: 0.43452\n",
      "tau_2: 2.53483, pi_2: 0.56548\n"
     ]
    }
   ],
   "source": [
    "print(\"Iteration 1: M steps\")\n",
    "for i in range(2):\n",
    "        print(f\"tau_{i+1}: {round(taos_iter_1[i], 5)}, pi_{i+1}: {round(pis_iter_1[i], 5)}\")"
   ]
  },
  {
   "cell_type": "markdown",
   "metadata": {},
   "source": [
    "## Problem2 (a)"
   ]
  },
  {
   "cell_type": "code",
   "execution_count": 8,
   "metadata": {},
   "outputs": [],
   "source": [
    "from sklearn.decomposition import PCA"
   ]
  },
  {
   "cell_type": "code",
   "execution_count": 9,
   "metadata": {},
   "outputs": [
    {
     "data": {
      "text/plain": [
       "PCA(copy=True, iterated_power='auto', n_components=None, random_state=None,\n",
       "    svd_solver='auto', tol=0.0, whiten=False)"
      ]
     },
     "execution_count": 9,
     "metadata": {},
     "output_type": "execute_result"
    }
   ],
   "source": [
    "X = np.array([\n",
    "    [1, 2, 3], \n",
    "    [4, 8, 5], \n",
    "    [3, 12, 9], \n",
    "    [1, 8, 5], \n",
    "    [5, 14, 2],\n",
    "    [7, 4, 1], \n",
    "    [9, 8, 9],\n",
    "    [3, 8, 1],\n",
    "    [11, 5, 6],\n",
    "    [10, 11, 7]\n",
    "])\n",
    "pca = PCA()\n",
    "pca.fit(X)"
   ]
  },
  {
   "cell_type": "code",
   "execution_count": 10,
   "metadata": {},
   "outputs": [
    {
     "name": "stdout",
     "output_type": "stream",
     "text": [
      "Principle axes:\n",
      "1-th principle axes: [-0.6165947  -0.58881629 -0.52259579]\n",
      "2-th principle axes: [ 0.67817891 -0.73439013  0.02728563]\n",
      "3-th principle axes: [ 0.39985541  0.33758926 -0.85214385]\n"
     ]
    }
   ],
   "source": [
    "print(f\"Principle axes:\")\n",
    "for i in range(X.shape[1]):\n",
    "    print(f\"{i+1}-th principle axes: {pca.components_[i]}\")"
   ]
  },
  {
   "cell_type": "markdown",
   "metadata": {},
   "source": [
    "## Problem 2(b)"
   ]
  },
  {
   "cell_type": "code",
   "execution_count": 11,
   "metadata": {},
   "outputs": [
    {
     "name": "stdout",
     "output_type": "stream",
     "text": [
      "Principle components:\n",
      "Sample 1, principle components: [ 7.18658682  1.37323947 -2.25104047]\n",
      "Sample 2, principle components: [ 0.75871342 -0.94399334 -0.73022635]\n",
      "Sample 3, principle components: [-3.07034019 -4.45059025 -3.1883001 ]\n",
      "Sample 4, principle components: [ 2.60849751 -2.97853006 -1.92979259]\n",
      "Sample 5, principle components: [-1.82299166 -4.75401212  4.25159619]\n",
      "Sample 6, principle components: [3.35457763 3.91896138 2.52755823]\n",
      "Sample 7, principle components: [-4.41464321  2.55604371 -2.13952468]\n",
      "Sample 8, principle components: [ 3.46569126 -1.73131477  2.27849363]\n",
      "Sample 9, principle components: [-2.31359638  6.03371503  0.2038499 ]\n",
      "Sample 10, principle components: [-5.75249521  0.97648096  0.97738622]\n"
     ]
    }
   ],
   "source": [
    "X_pca = pca.fit_transform(X)\n",
    "print(f\"Principle components:\")\n",
    "for i in range(X.shape[0]):\n",
    "    print(f\"Sample {i+1}, principle components: {X_pca[i]}\")"
   ]
  },
  {
   "cell_type": "markdown",
   "metadata": {},
   "source": [
    "## Problem 2(c)"
   ]
  },
  {
   "cell_type": "code",
   "execution_count": 12,
   "metadata": {},
   "outputs": [],
   "source": [
    "PCA_dim2 = PCA(n_components=2)\n",
    "X_pca_dim2 = PCA_dim2.fit_transform(X)\n",
    "X_reconstruct = PCA_dim2.inverse_transform(X_pca_dim2)"
   ]
  },
  {
   "cell_type": "code",
   "execution_count": 13,
   "metadata": {},
   "outputs": [
    {
     "name": "stdout",
     "output_type": "stream",
     "text": [
      "Reconstruction dataset\n",
      "[[ 1.90009072  2.75992709  1.08178971]\n",
      " [ 4.29198496  8.24651657  4.37774211]\n",
      " [ 4.27485905 13.07633588  6.28310968]\n",
      " [ 1.77163801  8.65147726  3.35553912]\n",
      " [ 3.29997625 12.56470677  5.62297154]\n",
      " [ 5.98934216  3.14672348  3.1538432 ]\n",
      " [ 9.85550052  8.72228056  7.17681721]\n",
      " [ 2.08893199  7.23080501  2.94160433]\n",
      " [10.91848951  4.93118246  6.17370944]\n",
      " [ 9.60918683 10.6700449   7.83287366]]\n"
     ]
    }
   ],
   "source": [
    "print(\"Reconstruction dataset\")\n",
    "print(X_reconstruct)"
   ]
  },
  {
   "cell_type": "code",
   "execution_count": 14,
   "metadata": {},
   "outputs": [
    {
     "name": "stdout",
     "output_type": "stream",
     "text": [
      "Average reconstruction error is 5.47203\n"
     ]
    }
   ],
   "source": [
    "average_squared_error = np.mean(\n",
    "    np.linalg.norm(X - X_reconstruct, axis = 1) ** 2\n",
    ")\n",
    "print(f\"Average reconstruction error is {round(average_squared_error, 5)}\")"
   ]
  }
 ],
 "metadata": {
  "interpreter": {
   "hash": "853a6c1de715781c4e36e93313002732d37040606184d41a7b9ff831089b66e5"
  },
  "kernelspec": {
   "display_name": "Python 3.7.10 64-bit ('EEML': conda)",
   "language": "python",
   "name": "python3"
  },
  "language_info": {
   "codemirror_mode": {
    "name": "ipython",
    "version": 3
   },
   "file_extension": ".py",
   "mimetype": "text/x-python",
   "name": "python",
   "nbconvert_exporter": "python",
   "pygments_lexer": "ipython3",
   "version": "3.7.12"
  },
  "orig_nbformat": 4
 },
 "nbformat": 4,
 "nbformat_minor": 2
}
