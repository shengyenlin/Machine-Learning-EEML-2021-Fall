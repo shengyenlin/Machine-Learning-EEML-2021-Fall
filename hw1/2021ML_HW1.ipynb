{
  "cells": [
    {
      "cell_type": "markdown",
      "metadata": {
        "id": "mz0_QVkxCrX3"
      },
      "source": [
        "# **2021ML FALL HW1: PM2.5 Prediction (Regression)**"
      ]
    },
    {
      "cell_type": "markdown",
      "metadata": {
        "id": "ZeZnPAiwDRWG"
      },
      "source": [
        "Author: MLTAs\n",
        "\n",
        "Methods:\n",
        "* Training with all data\n",
        "* Training (mini-batch=64, optimizer=Adam, learning rate=0.001)\n",
        "\n",
        "Running this code on Google Colab probably passes simple baselines on Kaggle.\n",
        "\n",
        "Tovpass\n"
      ]
    },
    {
      "cell_type": "markdown",
      "metadata": {
        "id": "Jx3x1nDkG-Uy"
      },
      "source": [
        "## **Download Data**\n",
        "\n",
        "\n",
        "If the Google drive links are dead, you can download data from [kaggle](https://www.kaggle.com/c/ml2021spring-hw1/data), and upload data manually to the workspace."
      ]
    },
    {
      "cell_type": "code",
      "execution_count": 2,
      "metadata": {
        "colab": {
          "base_uri": "https://localhost:8080/"
        },
        "id": "tMj55YDKG6ch",
        "outputId": "374c0aeb-fd48-416e-9452-0fd4244d1359"
      },
      "outputs": [
        {
          "name": "stderr",
          "output_type": "stream",
          "text": [
            "Permission denied: https://drive.google.com/uc?id='1p6NE6zTGo8sQyLegdr2NzPTNp4xMFwmt'\n",
            "Maybe you need to change permission over 'Anyone with the link'?\n",
            "Permission denied: https://drive.google.com/uc?id='1fFpPPXp54K9c7_93OE4Tdxm4A9pp8bf8'\n",
            "Maybe you need to change permission over 'Anyone with the link'?\n"
          ]
        }
      ],
      "source": [
        "tr_path = 'train.csv'  # path to training data\n",
        "tt_path = 'test.csv'   # path to testing data\n",
        "\n",
        "# !gdown --id '1AtgWdt7mXNBrai0ktxeGx3ZFMPu1B1KM' --output train.csv\n",
        "# !gdown --id '15MCDFuAW5Z4n2yXJg3VbyIAnP4Dz-Tn_' --output test.csv\n",
        "\n",
        "#如果連結壞掉可以改用下面這組或把資料直接載到自己的電腦裡電腦裡\n",
        "!gdown --id '1p6NE6zTGo8sQyLegdr2NzPTNp4xMFwmt' --output train.csv\n",
        "!gdown --id '1fFpPPXp54K9c7_93OE4Tdxm4A9pp8bf8' --output test.csv"
      ]
    },
    {
      "cell_type": "markdown",
      "metadata": {
        "id": "wS_4-77xHk44"
      },
      "source": [
        "# **Import Some Packages**"
      ]
    },
    {
      "cell_type": "code",
      "execution_count": 1,
      "metadata": {
        "id": "k-onQd4JNA5H"
      },
      "outputs": [],
      "source": [
        "# For data preprocess\n",
        "import numpy as np\n",
        "import csv\n",
        "import math\n",
        "import pandas as pd\n",
        "import math"
      ]
    },
    {
      "cell_type": "code",
      "execution_count": 2,
      "metadata": {},
      "outputs": [],
      "source": [
        "data_train = pd.read_csv('train.csv')\n",
        "data_test = pd.read_csv('test.csv')"
      ]
    },
    {
      "cell_type": "code",
      "execution_count": 3,
      "metadata": {},
      "outputs": [
        {
          "name": "stdout",
          "output_type": "stream",
          "text": [
            "(17520, 18)\n",
            "(7713, 18)\n"
          ]
        }
      ],
      "source": [
        "print(data_train.shape)\n",
        "print(data_test.shape)"
      ]
    },
    {
      "cell_type": "code",
      "execution_count": 4,
      "metadata": {},
      "outputs": [
        {
          "name": "stdout",
          "output_type": "stream",
          "text": [
            "Index(['AMB_TEMP', 'CH4', 'CO', 'NMHC', 'NO', 'NO2', 'NOx', 'O3', 'PM10',\n",
            "       'RAINFALL', 'RH', 'SO2', 'THC', 'WD_HR', 'WIND_DIREC', 'WIND_SPEED',\n",
            "       'WS_HR', 'PM2.5'],\n",
            "      dtype='object')\n",
            "Index(['AMB_TEMP', 'CH4', 'CO', 'NMHC', 'NO', 'NO2', 'NOx', 'O3', 'PM10',\n",
            "       'RAINFALL', 'RH', 'SO2', 'THC', 'WD_HR', 'WIND_DIREC', 'WIND_SPEED',\n",
            "       'WS_HR', 'PM2.5'],\n",
            "      dtype='object')\n"
          ]
        }
      ],
      "source": [
        "print(data_train.columns)\n",
        "print(data_test.columns)"
      ]
    },
    {
      "cell_type": "code",
      "execution_count": 11,
      "metadata": {},
      "outputs": [
        {
          "data": {
            "text/html": [
              "<div>\n",
              "<style scoped>\n",
              "    .dataframe tbody tr th:only-of-type {\n",
              "        vertical-align: middle;\n",
              "    }\n",
              "\n",
              "    .dataframe tbody tr th {\n",
              "        vertical-align: top;\n",
              "    }\n",
              "\n",
              "    .dataframe thead th {\n",
              "        text-align: right;\n",
              "    }\n",
              "</style>\n",
              "<table border=\"1\" class=\"dataframe\">\n",
              "  <thead>\n",
              "    <tr style=\"text-align: right;\">\n",
              "      <th></th>\n",
              "      <th>AMB_TEMP</th>\n",
              "      <th>CH4</th>\n",
              "      <th>CO</th>\n",
              "      <th>NMHC</th>\n",
              "      <th>NO</th>\n",
              "      <th>NO2</th>\n",
              "      <th>NOx</th>\n",
              "      <th>O3</th>\n",
              "      <th>PM10</th>\n",
              "      <th>RAINFALL</th>\n",
              "      <th>RH</th>\n",
              "      <th>SO2</th>\n",
              "      <th>THC</th>\n",
              "      <th>WD_HR</th>\n",
              "      <th>WIND_DIREC</th>\n",
              "      <th>WIND_SPEED</th>\n",
              "      <th>WS_HR</th>\n",
              "      <th>PM2.5</th>\n",
              "    </tr>\n",
              "  </thead>\n",
              "  <tbody>\n",
              "    <tr>\n",
              "      <th>count</th>\n",
              "      <td>17520.000000</td>\n",
              "      <td>17520.000000</td>\n",
              "      <td>17520.000000</td>\n",
              "      <td>17520.000000</td>\n",
              "      <td>17520.000000</td>\n",
              "      <td>17520.000000</td>\n",
              "      <td>17520.000000</td>\n",
              "      <td>17520.000000</td>\n",
              "      <td>17520.000000</td>\n",
              "      <td>17520.000000</td>\n",
              "      <td>17520.000000</td>\n",
              "      <td>17520.000000</td>\n",
              "      <td>17520.000000</td>\n",
              "      <td>17520.000000</td>\n",
              "      <td>17520.000000</td>\n",
              "      <td>17520.000000</td>\n",
              "      <td>17520.000000</td>\n",
              "      <td>17520.000000</td>\n",
              "    </tr>\n",
              "    <tr>\n",
              "      <th>mean</th>\n",
              "      <td>25.161650</td>\n",
              "      <td>1.892513</td>\n",
              "      <td>0.389568</td>\n",
              "      <td>0.141671</td>\n",
              "      <td>2.407900</td>\n",
              "      <td>12.858624</td>\n",
              "      <td>15.151341</td>\n",
              "      <td>32.567289</td>\n",
              "      <td>55.438813</td>\n",
              "      <td>0.289018</td>\n",
              "      <td>76.992979</td>\n",
              "      <td>2.753242</td>\n",
              "      <td>2.032127</td>\n",
              "      <td>144.844406</td>\n",
              "      <td>147.080137</td>\n",
              "      <td>2.153225</td>\n",
              "      <td>1.917494</td>\n",
              "      <td>28.028653</td>\n",
              "    </tr>\n",
              "    <tr>\n",
              "      <th>std</th>\n",
              "      <td>4.696892</td>\n",
              "      <td>0.190634</td>\n",
              "      <td>0.196624</td>\n",
              "      <td>0.519947</td>\n",
              "      <td>6.987633</td>\n",
              "      <td>10.903329</td>\n",
              "      <td>12.179576</td>\n",
              "      <td>21.156994</td>\n",
              "      <td>109.271034</td>\n",
              "      <td>2.236446</td>\n",
              "      <td>11.465273</td>\n",
              "      <td>5.353715</td>\n",
              "      <td>0.532424</td>\n",
              "      <td>122.507042</td>\n",
              "      <td>122.215499</td>\n",
              "      <td>0.957886</td>\n",
              "      <td>1.987403</td>\n",
              "      <td>120.886041</td>\n",
              "    </tr>\n",
              "    <tr>\n",
              "      <th>min</th>\n",
              "      <td>0.000000</td>\n",
              "      <td>0.000000</td>\n",
              "      <td>0.000000</td>\n",
              "      <td>0.000000</td>\n",
              "      <td>0.000000</td>\n",
              "      <td>0.000000</td>\n",
              "      <td>0.000000</td>\n",
              "      <td>0.000000</td>\n",
              "      <td>0.000000</td>\n",
              "      <td>0.000000</td>\n",
              "      <td>0.000000</td>\n",
              "      <td>0.000000</td>\n",
              "      <td>0.000000</td>\n",
              "      <td>0.000000</td>\n",
              "      <td>0.000000</td>\n",
              "      <td>0.000000</td>\n",
              "      <td>0.000000</td>\n",
              "      <td>0.000000</td>\n",
              "    </tr>\n",
              "    <tr>\n",
              "      <th>25%</th>\n",
              "      <td>22.000000</td>\n",
              "      <td>1.800000</td>\n",
              "      <td>0.260000</td>\n",
              "      <td>0.070000</td>\n",
              "      <td>1.000000</td>\n",
              "      <td>7.500000</td>\n",
              "      <td>9.000000</td>\n",
              "      <td>17.500000</td>\n",
              "      <td>27.000000</td>\n",
              "      <td>0.000000</td>\n",
              "      <td>69.000000</td>\n",
              "      <td>1.900000</td>\n",
              "      <td>1.900000</td>\n",
              "      <td>21.000000</td>\n",
              "      <td>23.000000</td>\n",
              "      <td>1.400000</td>\n",
              "      <td>1.200000</td>\n",
              "      <td>11.000000</td>\n",
              "    </tr>\n",
              "    <tr>\n",
              "      <th>50%</th>\n",
              "      <td>26.000000</td>\n",
              "      <td>1.900000</td>\n",
              "      <td>0.370000</td>\n",
              "      <td>0.110000</td>\n",
              "      <td>1.500000</td>\n",
              "      <td>11.600000</td>\n",
              "      <td>13.400000</td>\n",
              "      <td>28.000000</td>\n",
              "      <td>44.000000</td>\n",
              "      <td>0.000000</td>\n",
              "      <td>79.000000</td>\n",
              "      <td>2.500000</td>\n",
              "      <td>2.000000</td>\n",
              "      <td>136.000000</td>\n",
              "      <td>138.000000</td>\n",
              "      <td>2.100000</td>\n",
              "      <td>1.800000</td>\n",
              "      <td>20.000000</td>\n",
              "    </tr>\n",
              "    <tr>\n",
              "      <th>75%</th>\n",
              "      <td>28.700000</td>\n",
              "      <td>1.970000</td>\n",
              "      <td>0.480000</td>\n",
              "      <td>0.170000</td>\n",
              "      <td>2.400000</td>\n",
              "      <td>16.500000</td>\n",
              "      <td>18.700000</td>\n",
              "      <td>44.500000</td>\n",
              "      <td>65.000000</td>\n",
              "      <td>0.000000</td>\n",
              "      <td>85.000000</td>\n",
              "      <td>3.200000</td>\n",
              "      <td>2.110000</td>\n",
              "      <td>257.000000</td>\n",
              "      <td>259.000000</td>\n",
              "      <td>2.800000</td>\n",
              "      <td>2.400000</td>\n",
              "      <td>31.000000</td>\n",
              "    </tr>\n",
              "    <tr>\n",
              "      <th>max</th>\n",
              "      <td>34.300000</td>\n",
              "      <td>16.660000</td>\n",
              "      <td>9.690000</td>\n",
              "      <td>40.450000</td>\n",
              "      <td>421.400000</td>\n",
              "      <td>463.500000</td>\n",
              "      <td>465.800000</td>\n",
              "      <td>415.200000</td>\n",
              "      <td>6666.000000</td>\n",
              "      <td>63.800000</td>\n",
              "      <td>100.000000</td>\n",
              "      <td>403.700000</td>\n",
              "      <td>40.500000</td>\n",
              "      <td>360.000000</td>\n",
              "      <td>360.000000</td>\n",
              "      <td>8.000000</td>\n",
              "      <td>50.500000</td>\n",
              "      <td>10391.000000</td>\n",
              "    </tr>\n",
              "  </tbody>\n",
              "</table>\n",
              "</div>"
            ],
            "text/plain": [
              "           AMB_TEMP           CH4            CO          NMHC            NO  \\\n",
              "count  17520.000000  17520.000000  17520.000000  17520.000000  17520.000000   \n",
              "mean      25.161650      1.892513      0.389568      0.141671      2.407900   \n",
              "std        4.696892      0.190634      0.196624      0.519947      6.987633   \n",
              "min        0.000000      0.000000      0.000000      0.000000      0.000000   \n",
              "25%       22.000000      1.800000      0.260000      0.070000      1.000000   \n",
              "50%       26.000000      1.900000      0.370000      0.110000      1.500000   \n",
              "75%       28.700000      1.970000      0.480000      0.170000      2.400000   \n",
              "max       34.300000     16.660000      9.690000     40.450000    421.400000   \n",
              "\n",
              "                NO2           NOx            O3          PM10      RAINFALL  \\\n",
              "count  17520.000000  17520.000000  17520.000000  17520.000000  17520.000000   \n",
              "mean      12.858624     15.151341     32.567289     55.438813      0.289018   \n",
              "std       10.903329     12.179576     21.156994    109.271034      2.236446   \n",
              "min        0.000000      0.000000      0.000000      0.000000      0.000000   \n",
              "25%        7.500000      9.000000     17.500000     27.000000      0.000000   \n",
              "50%       11.600000     13.400000     28.000000     44.000000      0.000000   \n",
              "75%       16.500000     18.700000     44.500000     65.000000      0.000000   \n",
              "max      463.500000    465.800000    415.200000   6666.000000     63.800000   \n",
              "\n",
              "                 RH           SO2           THC         WD_HR    WIND_DIREC  \\\n",
              "count  17520.000000  17520.000000  17520.000000  17520.000000  17520.000000   \n",
              "mean      76.992979      2.753242      2.032127    144.844406    147.080137   \n",
              "std       11.465273      5.353715      0.532424    122.507042    122.215499   \n",
              "min        0.000000      0.000000      0.000000      0.000000      0.000000   \n",
              "25%       69.000000      1.900000      1.900000     21.000000     23.000000   \n",
              "50%       79.000000      2.500000      2.000000    136.000000    138.000000   \n",
              "75%       85.000000      3.200000      2.110000    257.000000    259.000000   \n",
              "max      100.000000    403.700000     40.500000    360.000000    360.000000   \n",
              "\n",
              "         WIND_SPEED         WS_HR         PM2.5  \n",
              "count  17520.000000  17520.000000  17520.000000  \n",
              "mean       2.153225      1.917494     28.028653  \n",
              "std        0.957886      1.987403    120.886041  \n",
              "min        0.000000      0.000000      0.000000  \n",
              "25%        1.400000      1.200000     11.000000  \n",
              "50%        2.100000      1.800000     20.000000  \n",
              "75%        2.800000      2.400000     31.000000  \n",
              "max        8.000000     50.500000  10391.000000  "
            ]
          },
          "execution_count": 11,
          "metadata": {},
          "output_type": "execute_result"
        }
      ],
      "source": [
        "data_train.describe()"
      ]
    },
    {
      "cell_type": "code",
      "execution_count": 12,
      "metadata": {},
      "outputs": [
        {
          "name": "stdout",
          "output_type": "stream",
          "text": [
            "(3, 18)\n",
            "(3, 18)\n",
            "(3, 18)\n",
            "(5, 18)\n",
            "(5, 18)\n",
            "(32, 18)\n",
            "(86, 18)\n",
            "(86, 18)\n",
            "(87, 18)\n",
            "(98, 18)\n",
            "(967, 18)\n"
          ]
        }
      ],
      "source": [
        "print(data_train[data_train['PM2.5'] > 5000].shape)\n",
        "print(data_train[data_train['PM2.5'] > 4000].shape)\n",
        "print(data_train[data_train['PM2.5'] > 3000].shape)\n",
        "print(data_train[data_train['PM2.5'] > 2000].shape)\n",
        "print(data_train[data_train['PM2.5'] > 1000].shape)\n",
        "#斷層出現在這裡\n",
        "print(data_train[data_train['PM2.5'] > 800].shape)\n",
        "print(data_train[data_train['PM2.5'] > 600].shape)\n",
        "print(data_train[data_train['PM2.5'] > 400].shape)\n",
        "print(data_train[data_train['PM2.5'] > 200].shape)\n",
        "print(data_train[data_train['PM2.5'] > 100].shape)\n",
        "#第二個斷層\n",
        "print(data_train[data_train['PM2.5'] > 50].shape)"
      ]
    },
    {
      "cell_type": "markdown",
      "metadata": {},
      "source": [
        "# 大於1000的資料只有五筆"
      ]
    },
    {
      "cell_type": "code",
      "execution_count": 13,
      "metadata": {},
      "outputs": [
        {
          "data": {
            "text/html": [
              "<div>\n",
              "<style scoped>\n",
              "    .dataframe tbody tr th:only-of-type {\n",
              "        vertical-align: middle;\n",
              "    }\n",
              "\n",
              "    .dataframe tbody tr th {\n",
              "        vertical-align: top;\n",
              "    }\n",
              "\n",
              "    .dataframe thead th {\n",
              "        text-align: right;\n",
              "    }\n",
              "</style>\n",
              "<table border=\"1\" class=\"dataframe\">\n",
              "  <thead>\n",
              "    <tr style=\"text-align: right;\">\n",
              "      <th></th>\n",
              "      <th>AMB_TEMP</th>\n",
              "      <th>CH4</th>\n",
              "      <th>CO</th>\n",
              "      <th>NMHC</th>\n",
              "      <th>NO</th>\n",
              "      <th>NO2</th>\n",
              "      <th>NOx</th>\n",
              "      <th>O3</th>\n",
              "      <th>PM10</th>\n",
              "      <th>RAINFALL</th>\n",
              "      <th>RH</th>\n",
              "      <th>SO2</th>\n",
              "      <th>THC</th>\n",
              "      <th>WD_HR</th>\n",
              "      <th>WIND_DIREC</th>\n",
              "      <th>WIND_SPEED</th>\n",
              "      <th>WS_HR</th>\n",
              "      <th>PM2.5</th>\n",
              "    </tr>\n",
              "  </thead>\n",
              "  <tbody>\n",
              "    <tr>\n",
              "      <th>14141</th>\n",
              "      <td>25.4</td>\n",
              "      <td>1.81</td>\n",
              "      <td>0.15</td>\n",
              "      <td>0.04</td>\n",
              "      <td>0.6</td>\n",
              "      <td>3.5</td>\n",
              "      <td>4.1</td>\n",
              "      <td>30.3</td>\n",
              "      <td>5</td>\n",
              "      <td>26.2</td>\n",
              "      <td>98</td>\n",
              "      <td>0.5</td>\n",
              "      <td>1.85</td>\n",
              "      <td>132</td>\n",
              "      <td>146</td>\n",
              "      <td>2.3</td>\n",
              "      <td>1.9</td>\n",
              "      <td>2246</td>\n",
              "    </tr>\n",
              "    <tr>\n",
              "      <th>14142</th>\n",
              "      <td>25.1</td>\n",
              "      <td>1.82</td>\n",
              "      <td>0.19</td>\n",
              "      <td>0.05</td>\n",
              "      <td>0.6</td>\n",
              "      <td>4.7</td>\n",
              "      <td>5.4</td>\n",
              "      <td>35.1</td>\n",
              "      <td>5</td>\n",
              "      <td>9.6</td>\n",
              "      <td>98</td>\n",
              "      <td>1.0</td>\n",
              "      <td>1.86</td>\n",
              "      <td>139</td>\n",
              "      <td>110</td>\n",
              "      <td>1.9</td>\n",
              "      <td>2.1</td>\n",
              "      <td>2242</td>\n",
              "    </tr>\n",
              "    <tr>\n",
              "      <th>14143</th>\n",
              "      <td>25.2</td>\n",
              "      <td>1.86</td>\n",
              "      <td>0.31</td>\n",
              "      <td>0.12</td>\n",
              "      <td>0.7</td>\n",
              "      <td>12.6</td>\n",
              "      <td>13.3</td>\n",
              "      <td>28.1</td>\n",
              "      <td>5</td>\n",
              "      <td>4.2</td>\n",
              "      <td>98</td>\n",
              "      <td>1.2</td>\n",
              "      <td>1.98</td>\n",
              "      <td>119</td>\n",
              "      <td>123</td>\n",
              "      <td>2.4</td>\n",
              "      <td>2.0</td>\n",
              "      <td>5703</td>\n",
              "    </tr>\n",
              "    <tr>\n",
              "      <th>14144</th>\n",
              "      <td>25.6</td>\n",
              "      <td>1.86</td>\n",
              "      <td>0.32</td>\n",
              "      <td>0.10</td>\n",
              "      <td>1.1</td>\n",
              "      <td>10.2</td>\n",
              "      <td>11.2</td>\n",
              "      <td>21.8</td>\n",
              "      <td>5</td>\n",
              "      <td>6.0</td>\n",
              "      <td>98</td>\n",
              "      <td>1.1</td>\n",
              "      <td>1.96</td>\n",
              "      <td>108</td>\n",
              "      <td>106</td>\n",
              "      <td>2.3</td>\n",
              "      <td>2.0</td>\n",
              "      <td>6925</td>\n",
              "    </tr>\n",
              "    <tr>\n",
              "      <th>14145</th>\n",
              "      <td>25.8</td>\n",
              "      <td>1.85</td>\n",
              "      <td>0.35</td>\n",
              "      <td>0.15</td>\n",
              "      <td>1.9</td>\n",
              "      <td>13.4</td>\n",
              "      <td>15.3</td>\n",
              "      <td>18.9</td>\n",
              "      <td>10</td>\n",
              "      <td>3.0</td>\n",
              "      <td>97</td>\n",
              "      <td>1.2</td>\n",
              "      <td>2.00</td>\n",
              "      <td>77</td>\n",
              "      <td>74</td>\n",
              "      <td>2.3</td>\n",
              "      <td>1.8</td>\n",
              "      <td>10391</td>\n",
              "    </tr>\n",
              "  </tbody>\n",
              "</table>\n",
              "</div>"
            ],
            "text/plain": [
              "       AMB_TEMP   CH4    CO  NMHC   NO   NO2   NOx    O3  PM10  RAINFALL  RH  \\\n",
              "14141      25.4  1.81  0.15  0.04  0.6   3.5   4.1  30.3     5      26.2  98   \n",
              "14142      25.1  1.82  0.19  0.05  0.6   4.7   5.4  35.1     5       9.6  98   \n",
              "14143      25.2  1.86  0.31  0.12  0.7  12.6  13.3  28.1     5       4.2  98   \n",
              "14144      25.6  1.86  0.32  0.10  1.1  10.2  11.2  21.8     5       6.0  98   \n",
              "14145      25.8  1.85  0.35  0.15  1.9  13.4  15.3  18.9    10       3.0  97   \n",
              "\n",
              "       SO2   THC  WD_HR  WIND_DIREC  WIND_SPEED  WS_HR  PM2.5  \n",
              "14141  0.5  1.85    132         146         2.3    1.9   2246  \n",
              "14142  1.0  1.86    139         110         1.9    2.1   2242  \n",
              "14143  1.2  1.98    119         123         2.4    2.0   5703  \n",
              "14144  1.1  1.96    108         106         2.3    2.0   6925  \n",
              "14145  1.2  2.00     77          74         2.3    1.8  10391  "
            ]
          },
          "execution_count": 13,
          "metadata": {},
          "output_type": "execute_result"
        }
      ],
      "source": [
        "data_train[data_train['PM2.5'] > 1000]"
      ]
    },
    {
      "cell_type": "code",
      "execution_count": 14,
      "metadata": {},
      "outputs": [
        {
          "data": {
            "image/png": "[encoded data removed]",
            "text/plain": [
              "<Figure size 432x288 with 1 Axes>"
            ]
          },
          "metadata": {
            "needs_background": "light"
          },
          "output_type": "display_data"
        }
      ],
      "source": [
        "a = data_train[data_train['PM2.5'] < 1000]\n",
        "plt.plot(a['PM2.5'])\n",
        "plt.show()"
      ]
    },
    {
      "cell_type": "code",
      "execution_count": 16,
      "metadata": {},
      "outputs": [
        {
          "data": {
            "image/png": "[encoded data removed]",
            "text/plain": [
              "<Figure size 432x288 with 1 Axes>"
            ]
          },
          "metadata": {
            "needs_background": "light"
          },
          "output_type": "display_data"
        }
      ],
      "source": [
        "a = data_train[data_train['PM2.5'] < 100]\n",
        "plt.plot(a['PM2.5'])\n",
        "plt.xlabel(\"observation index\")\n",
        "plt.ylabel(\"PM2.5\")\n",
        "plt.show()"
      ]
    },
    {
      "cell_type": "markdown",
      "metadata": {},
      "source": [
        "# EDA"
      ]
    },
    {
      "cell_type": "code",
      "execution_count": 5,
      "metadata": {},
      "outputs": [],
      "source": [
        "import matplotlib.pyplot as plt"
      ]
    },
    {
      "cell_type": "code",
      "execution_count": 7,
      "metadata": {},
      "outputs": [
        {
          "data": {
            "image/png": "[encoded data removed]",
            "text/plain": [
              "<Figure size 432x288 with 1 Axes>"
            ]
          },
          "metadata": {
            "needs_background": "light"
          },
          "output_type": "display_data"
        }
      ],
      "source": [
        "plt.plot(data_train['PM2.5'])\n",
        "plt.show()"
      ]
    },
    {
      "cell_type": "code",
      "execution_count": 9,
      "metadata": {},
      "outputs": [
        {
          "data": {
            "text/plain": [
              "AMB_TEMP      0\n",
              "CH4           0\n",
              "CO            0\n",
              "NMHC          0\n",
              "NO            0\n",
              "NO2           0\n",
              "NOx           0\n",
              "O3            0\n",
              "PM10          0\n",
              "RAINFALL      0\n",
              "RH            0\n",
              "SO2           0\n",
              "THC           0\n",
              "WD_HR         0\n",
              "WIND_DIREC    0\n",
              "WIND_SPEED    0\n",
              "WS_HR         0\n",
              "PM2.5         0\n",
              "dtype: int64"
            ]
          },
          "execution_count": 9,
          "metadata": {},
          "output_type": "execute_result"
        }
      ],
      "source": [
        "data_train.isna().sum()"
      ]
    },
    {
      "cell_type": "markdown",
      "metadata": {},
      "source": [
        "# Data preprocessing"
      ]
    },
    {
      "cell_type": "code",
      "execution_count": 4,
      "metadata": {},
      "outputs": [],
      "source": [
        "class DataPreprocessor():\n",
        "    def __init__(self):\n",
        "        self.keep_col = None\n",
        "        self.top_corr_number = 15\n",
        "        self.train_mean = None\n",
        "        self.train_std = None\n",
        "    \n",
        "    def remove_outlier_y_with_IQR(self, data_train: pd.DataFrame):\n",
        "        mean_y = data_train['PM2.5'].mean()\n",
        "        q75, q25 = np.percentile(data_train['PM2.5'], [75 ,25])\n",
        "        IQR = q75 - q25\n",
        "        upper_bound = mean_y + 1.5 * IQR\n",
        "        lower_bound = mean_y - 1.5 * IQR\n",
        "        # print(IQR)\n",
        "        # print(upper_bound)\n",
        "        # print(lower_bound)\n",
        "        keep_cond = (data_train['PM2.5'] < upper_bound) & (data_train['PM2.5'] > lower_bound)\n",
        "        data_train = data_train[keep_cond]\n",
        "        return data_train\n",
        "\n",
        "    def remove_larger_than_1000(self, data_train: pd.DataFrame):\n",
        "        data_train = data_train[data_train['PM2.5'] < 1000]\n",
        "        return data_train\n",
        "\n",
        "    def slice_top_n_correlation_with_y(self, data: pd.DataFrame, isTraining = False):\n",
        "        if isTraining:\n",
        "            index_corr_descending = abs(data.corrwith(data['PM2.5'])).sort_values(ascending=False).index\n",
        "            #first column will always be `PM2.5`\n",
        "            self.keep_col = index_corr_descending[:self.top_corr_number]\n",
        "        data = data[self.keep_col]\n",
        "        #print(data)\n",
        "        return data\n",
        "\n",
        "    def normalize_data(self, X_data: np.array, isTraining = False):\n",
        "        if isTraining:\n",
        "            self.train_mean = X_data.mean(axis = 0)\n",
        "            self.train_std = X_data.std(axis = 0)\n",
        "        normalized_data = (X_data - self.train_mean) / self.train_std\n",
        "        return normalized_data\n",
        "\n",
        "    def min_max_scaling(self, X_data: np.array, isTraining = False):\n",
        "        if isTraining:\n",
        "            self.train_max = X_data.max(axis = 0)\n",
        "            self.train_min = X_data.min(axis = 0)\n",
        "        normalized_data = (X_data - self.train_min) / (self.train_max - self.train_min)\n",
        "        return normalized_data\n",
        "\n",
        "\n",
        "    def parse2train(self, data):\n",
        "        data = data.values\n",
        "        x = []\n",
        "        y = []\n",
        "        # 用前面9筆資料預測下一筆PM2.5 所以需要-9\n",
        "        total_length = data.shape[0] - 9\n",
        "        for i in range(total_length):\n",
        "            x_tmp = data[i:i+9, :]\n",
        "            y_tmp = data[i+9, 0] #PM2.5 is the first column\n",
        "            x.append(x_tmp.reshape(-1,))\n",
        "            y.append(y_tmp)\n",
        "        x = np.array(x) #shape = (# of observations, # of features * # of time lag)\n",
        "        y = np.array(y)\n",
        "        return x, y\n",
        "\n",
        "\n",
        "    def parse2test(self, data):\n",
        "        x = []\n",
        "        y = []\n",
        "        data = data.values\n",
        "        # 用前面9筆資料預測下一筆PM2.5 所以需要-9\n",
        "        total_length = data.shape[0] - 9\n",
        "        for i in range(857):\n",
        "            x_tmp = data[9 * i: 9 * i + 9, :]\n",
        "            x.append(x_tmp.reshape(-1,))\n",
        "        # x 會是一個(n, 18, 9)的陣列， y 則是(n, 1) \n",
        "        x = np.array(x)\n",
        "        return x\n",
        "\n",
        "    def preprocess_train_data(self, data_train: pd.DataFrame):\n",
        "        data_train = self.remove_outlier_y_with_IQR(data_train)\n",
        "        #data_train = self.remove_larger_than_1000(data_train)\n",
        "        data_train = self.slice_top_n_correlation_with_y(data_train, isTraining=True)\n",
        "        X_train, y_train = self.parse2train(data_train)\n",
        "        #X_train = self.normalize_data(X_train, isTraining = True)\n",
        "        X_train = self.min_max_scaling(X_train, isTraining = True)\n",
        "        return X_train, y_train\n",
        "\n",
        "    def preprocess_test_data(self, data_test: pd.DataFrame):\n",
        "        data_test = self.slice_top_n_correlation_with_y(data_test, isTraining=False)\n",
        "        X_test = self.parse2test(data_test)\n",
        "        #X_test = self.normalize_data(X_test, isTraining = False)\n",
        "        X_test = self.min_max_scaling(X_test, isTraining = False)\n",
        "        return X_test"
      ]
    },
    {
      "cell_type": "code",
      "execution_count": 5,
      "metadata": {},
      "outputs": [],
      "source": [
        "DP = DataPreprocessor()\n",
        "X_train, y_train = DP.preprocess_train_data(data_train)\n",
        "X_test = DP.preprocess_test_data(data_test)"
      ]
    },
    {
      "cell_type": "code",
      "execution_count": 6,
      "metadata": {},
      "outputs": [
        {
          "name": "stdout",
          "output_type": "stream",
          "text": [
            "(16944, 135)\n",
            "(857, 135)\n",
            "[33. 41. 38. ... 14. 15. 13.]\n"
          ]
        }
      ],
      "source": [
        "print(X_train.shape)\n",
        "print(X_test.shape)\n",
        "print(y_train)"
      ]
    },
    {
      "cell_type": "code",
      "execution_count": 12,
      "metadata": {
        "id": "XL_RVBoLuXvj"
      },
      "outputs": [],
      "source": [
        "class LinearRegression():\n",
        "    def __init__(self):\n",
        "        self.train_valid_ratio = 0.70\n",
        "        self.train_loss = list()\n",
        "        self.valid_loss = list()\n",
        "        #record best information\n",
        "        self.best_w = None\n",
        "        self.best_bias = None\n",
        "        self.best_valid_RMSE = None\n",
        "        self.best_epoch = None\n",
        "        self.stop_epoch = None\n",
        "\n",
        "    def initialize_params(self, x):\n",
        "        w = np.full(x[1].shape, 0.1).reshape(-1, 1)\n",
        "        bias = 0.1\n",
        "        return w, bias\n",
        "\n",
        "    def train(self, x, y,batch_size, epoch_size, learning_rate, verbose = True):\n",
        "        #Initialize parameter\n",
        "        batch_size = batch_size \n",
        "        epoch_size = epoch_size \n",
        "        lr = learning_rate\n",
        "        w, bias = self.initialize_params(x)\n",
        "        best_valid_RMSE = 99999\n",
        "        best_epoch = 0\n",
        "        patience = 10 #for early stopping\n",
        "\n",
        "        #Adam optimizer\n",
        "        lam = 0.001 #L2 regularization\n",
        "        beta_1 = np.full(x[0].shape, 0.9).reshape(-1, 1) #exponential decay rates for the moment estimates\n",
        "        beta_2 = np.full(x[0].shape, 0.999).reshape(-1,1) #exponential decay rates for the moment estimates\n",
        "        #m_t: first momentum vector, for momentum\n",
        "        m_t = np.full(x[0].shape, 0).reshape(-1, 1)\n",
        "        #v_t: second momemtum vector, for RMSprop\n",
        "        v_t = np.full(x[0].shape, 0).reshape(-1, 1)\n",
        "        m_t_b = 0.0\n",
        "        v_t_b = 0.0\n",
        "        t = 0\n",
        "        epsilon = 1e-8\n",
        "\n",
        "        for num_epoch in range(1, epoch_size + 1):\n",
        "            #Shuffle when each epoch begin\n",
        "            index = np.arange(x.shape[0])\n",
        "            np.random.shuffle(index)\n",
        "            x = x[index]\n",
        "            y = y[index]\n",
        "            split_point_x = math.floor(x.shape[0] * self.train_valid_ratio)\n",
        "            split_point_y = math.floor(y.shape[0] * self.train_valid_ratio)\n",
        "            X_train = x[:split_point_x, :]\n",
        "            y_train = y[:split_point_y] \n",
        "            X_valid = x[split_point_x:, :] \n",
        "            y_valid = y[split_point_y:]\n",
        "            SSE = 0\n",
        "            for num_batch in range(int(X_train.shape[0]/batch_size)):\n",
        "                t+=1\n",
        "                x_batch = X_train[num_batch * batch_size:(num_batch + 1) * batch_size]\n",
        "                y_batch = y_train[num_batch * batch_size:(num_batch + 1) * batch_size].reshape(-1,1)\n",
        "                \n",
        "                y_hat = np.dot(x_batch, w) + bias\n",
        "                train_loss = y_batch - y_hat\n",
        "                # 計算gradient\n",
        "                g_t = np.dot(x_batch.transpose(), train_loss) * (-2) +  2 * lam * np.sum(w)\n",
        "                #助教原本寫的是*2\n",
        "                g_t_b = train_loss.sum(axis=0) * (-2)\n",
        "                m_t = beta_1*m_t + (1-beta_1)*g_t \n",
        "                v_t = beta_2*v_t + (1-beta_2)*np.multiply(g_t, g_t)\n",
        "                m_cap = m_t/(1-(beta_1**t))\n",
        "                v_cap = v_t/(1-(beta_2**t))\n",
        "                m_t_b = 0.9*m_t_b + (1-0.9)*g_t_b\n",
        "                v_t_b = 0.999*v_t_b + (1-0.999) * (g_t_b*g_t_b) \n",
        "                m_cap_b = m_t_b/(1-(0.9**t))\n",
        "                v_cap_b = v_t_b/(1-(0.999**t))\n",
        "\n",
        "                # 更新weight, bias\n",
        "                w -= ((lr*m_cap)/(np.sqrt(v_cap)+epsilon)).reshape(-1, 1)\n",
        "                bias -= (lr*m_cap_b)/(math.sqrt(v_cap_b)+epsilon)\n",
        "                SSE += np.sum(np.square(train_loss))\n",
        "\n",
        "            # print(SSE)\n",
        "            train_RMSE = np.sqrt(SSE / X_train.shape[0])\n",
        "            valid_RMSE = self.compute_valid_RMSE(X_valid, y_valid, w, bias)\n",
        "            self.train_loss.append(train_RMSE)\n",
        "            self.valid_loss.append(valid_RMSE)\n",
        "            if verbose:\n",
        "                print(f\"Epoch {num_epoch}, training RMSE = {round(train_RMSE, 5)}, validation RMSE = {round(valid_RMSE, 5)}\")\n",
        "            \n",
        "            #save best result\n",
        "            if valid_RMSE < best_valid_RMSE:\n",
        "                self.best_w = w\n",
        "                self.best_bias = bias\n",
        "                self.best_epoch = num_epoch\n",
        "                best_valid_RMSE = valid_RMSE\n",
        "                self.best_valid_RMSE = best_valid_RMSE\n",
        "\n",
        "            #early stopping\n",
        "            if valid_RMSE > best_valid_RMSE and num_epoch >= self.best_epoch + patience:\n",
        "                self.stop_epoch = self.best_epoch + patience\n",
        "                if verbose:\n",
        "                    print(\"Early Stopping!\")\n",
        "                    print(\"=\"*10 + \"validation result\" + \"=\"*10)\n",
        "                    print(f\"Best epoch is {self.best_epoch} with minimum validation error = {round(best_valid_RMSE, 5)}\")\n",
        "                return\n",
        "\n",
        "        self.stop_epoch = num_epoch\n",
        "        if verbose:\n",
        "            print(\"=\"*10 + \"Model result\" + \"=\"*10)\n",
        "            print(f\"Best epoch is {self.best_epoch} with minimum validation error = {round(best_valid_RMSE, 5)}\")\n",
        "                      \n",
        "    def compute_valid_RMSE(self, X_valid, y_valid, w, bias):\n",
        "        valid_loss = 0\n",
        "        y_hat = np.dot(X_valid, w) + bias\n",
        "        valid_loss = y_valid.reshape(-1, 1) - y_hat.reshape(-1, 1)\n",
        "        valid_SSE = np.sum(np.square(valid_loss))\n",
        "        valid_RMSE = np.sqrt(valid_SSE / X_valid.shape[0])\n",
        "        return valid_RMSE\n",
        "\n",
        "    def train_with_full_data(self, x, y, batch_size, epoch_size, learning_rate, verbose = True):\n",
        "        #Initialize parameter\n",
        "        batch_size = batch_size \n",
        "        epoch_size = epoch_size \n",
        "        lr = learning_rate\n",
        "        w, bias = self.initialize_params(x)\n",
        "\n",
        "        #Adam optimizer\n",
        "        lam = 0.001 #L2 regularization\n",
        "        beta_1 = np.full(x[0].shape, 0.9).reshape(-1, 1) #exponential decay rates for the moment estimates\n",
        "        beta_2 = np.full(x[0].shape, 0.999).reshape(-1,1) #exponential decay rates for the moment estimates\n",
        "        #m_t: first momentum vector, for momentum\n",
        "        m_t = np.full(x[0].shape, 0).reshape(-1, 1)\n",
        "        #v_t: second momemtum vector, for RMSprop\n",
        "        v_t = np.full(x[0].shape, 0).reshape(-1, 1)\n",
        "        m_t_b = 0.0\n",
        "        v_t_b = 0.0\n",
        "        t = 0\n",
        "        epsilon = 1e-8\n",
        "\n",
        "        for num_epoch in range(1, epoch_size + 1):\n",
        "            #Shuffle when each epoch begin\n",
        "            index = np.arange(x.shape[0])\n",
        "            np.random.shuffle(index)\n",
        "            x = x[index]\n",
        "            y = y[index]\n",
        "\n",
        "            SSE = 0\n",
        "            for num_batch in range(int(x.shape[0]/batch_size)):\n",
        "                t+=1\n",
        "                x_batch = x[num_batch * batch_size:(num_batch + 1) * batch_size]\n",
        "                y_batch = y[num_batch * batch_size:(num_batch + 1) * batch_size].reshape(-1,1)\n",
        "                \n",
        "                y_hat = np.dot(x_batch, w) + bias\n",
        "                train_loss = y_batch - y_hat\n",
        "                # 計算gradient\n",
        "                g_t = np.dot(x_batch.transpose(), train_loss) * (-2) +  2 * lam * np.sum(w)\n",
        "                #助教原本寫的是*2\n",
        "                g_t_b = train_loss.sum(axis=0) * (-2)\n",
        "                m_t = beta_1*m_t + (1-beta_1)*g_t \n",
        "                v_t = beta_2*v_t + (1-beta_2)*np.multiply(g_t, g_t)\n",
        "                m_cap = m_t/(1-(beta_1**t))\n",
        "                v_cap = v_t/(1-(beta_2**t))\n",
        "                m_t_b = 0.9*m_t_b + (1-0.9)*g_t_b\n",
        "                v_t_b = 0.999*v_t_b + (1-0.999) * (g_t_b*g_t_b) \n",
        "                m_cap_b = m_t_b/(1-(0.9**t))\n",
        "                v_cap_b = v_t_b/(1-(0.999**t))\n",
        "\n",
        "                # 更新weight, bias\n",
        "                w -= ((lr*m_cap)/(np.sqrt(v_cap)+epsilon)).reshape(-1, 1)\n",
        "                bias -= (lr*m_cap_b)/(math.sqrt(v_cap_b)+epsilon)\n",
        "                SSE += np.sum(np.square(train_loss))\n",
        "\n",
        "            # print(SSE)\n",
        "            train_RMSE = np.sqrt(SSE / x.shape[0])\n",
        "            self.train_loss.append(train_RMSE)\n",
        "            if verbose:\n",
        "                print(f\"Epoch {num_epoch}, training RMSE = {round(train_RMSE, 5)}\")\n",
        "\n",
        "        self.best_w = w\n",
        "        self.best_bias = bias\n",
        "\n",
        "    def predict(self, X_test, w, bias):\n",
        "        predict_value = np.dot(X_test, w) + bias\n",
        "        return predict_value"
      ]
    },
    {
      "cell_type": "code",
      "execution_count": 5,
      "metadata": {},
      "outputs": [
        {
          "name": "stdout",
          "output_type": "stream",
          "text": [
            "========== Start training model ==========\n",
            "batch size = 64, epoch_size = 20, learningrate = 0.002\n"
          ]
        },
        {
          "ename": "NameError",
          "evalue": "name 'LinearRegression' is not defined",
          "output_type": "error",
          "traceback": [
            "\u001b[1;31m---------------------------------------------------------------------------\u001b[0m",
            "\u001b[1;31mNameError\u001b[0m                                 Traceback (most recent call last)",
            "\u001b[1;32m~\\AppData\\Local\\Temp/ipykernel_18588/2521549775.py\u001b[0m in \u001b[0;36m<module>\u001b[1;34m\u001b[0m\n\u001b[0;32m     20\u001b[0m             \u001b[0mprint\u001b[0m\u001b[1;33m(\u001b[0m\u001b[1;34m\"=\"\u001b[0m \u001b[1;33m*\u001b[0m \u001b[1;36m10\u001b[0m\u001b[1;33m,\u001b[0m\u001b[1;34m\"Start training model\"\u001b[0m\u001b[1;33m,\u001b[0m \u001b[1;34m\"=\"\u001b[0m\u001b[1;33m*\u001b[0m\u001b[1;36m10\u001b[0m\u001b[1;33m)\u001b[0m\u001b[1;33m\u001b[0m\u001b[1;33m\u001b[0m\u001b[0m\n\u001b[0;32m     21\u001b[0m             \u001b[0mprint\u001b[0m\u001b[1;33m(\u001b[0m\u001b[1;34mf\"batch size = {batch_size}, epoch_size = {epoch_size}, learningrate = {learning_rate}\"\u001b[0m\u001b[1;33m)\u001b[0m\u001b[1;33m\u001b[0m\u001b[1;33m\u001b[0m\u001b[0m\n\u001b[1;32m---> 22\u001b[1;33m             \u001b[0mmodel\u001b[0m \u001b[1;33m=\u001b[0m \u001b[0mLinearRegression\u001b[0m\u001b[1;33m(\u001b[0m\u001b[1;33m)\u001b[0m\u001b[1;33m\u001b[0m\u001b[1;33m\u001b[0m\u001b[0m\n\u001b[0m\u001b[0;32m     23\u001b[0m             \u001b[0mmodel\u001b[0m\u001b[1;33m.\u001b[0m\u001b[0mtrain\u001b[0m\u001b[1;33m(\u001b[0m\u001b[0mX_train\u001b[0m\u001b[1;33m,\u001b[0m \u001b[0my_train\u001b[0m\u001b[1;33m,\u001b[0m \u001b[0mbatch_size\u001b[0m\u001b[1;33m,\u001b[0m \u001b[0mepoch_size\u001b[0m\u001b[1;33m,\u001b[0m \u001b[0mlearning_rate\u001b[0m\u001b[1;33m,\u001b[0m \u001b[0mverbose\u001b[0m \u001b[1;33m=\u001b[0m \u001b[1;32mTrue\u001b[0m\u001b[1;33m)\u001b[0m\u001b[1;33m\u001b[0m\u001b[1;33m\u001b[0m\u001b[0m\n\u001b[0;32m     24\u001b[0m             \u001b[1;32mif\u001b[0m \u001b[0mmodel\u001b[0m\u001b[1;33m.\u001b[0m\u001b[0mbest_valid_RMSE\u001b[0m \u001b[1;33m<\u001b[0m \u001b[0mglobal_best_RMSE\u001b[0m\u001b[1;33m:\u001b[0m\u001b[1;33m\u001b[0m\u001b[1;33m\u001b[0m\u001b[0m\n",
            "\u001b[1;31mNameError\u001b[0m: name 'LinearRegression' is not defined"
          ]
        }
      ],
      "source": [
        "#train_valid_ratio_list = [0.6, 0.7, 0.8, 0.9]\n",
        "batch_size_list = [64, 128, 256, 512, 1024]\n",
        "epoch_size_list = [20, 30, 50, 100]\n",
        "learning_rate_list = [0.002, 0.005, 0.01, 0.025, 0.05]\n",
        "\n",
        "#Model saving\n",
        "global_best_w = 0\n",
        "global_best_bias = 0\n",
        "global_best_RMSE = 1000000\n",
        "\n",
        "#Hyperparameter saving\n",
        "best_train_valid_ratio = 0\n",
        "best_batch_size = 0\n",
        "best_epoch_size = 0\n",
        "best_learning_rate = 0\n",
        "# for train_valid_ratio in train_valid_ratio_list:\n",
        "for batch_size in batch_size_list:\n",
        "    for epoch_size in epoch_size_list:\n",
        "        for learning_rate in learning_rate_list:\n",
        "            print(\"=\" * 10,\"Start training model\", \"=\"*10)\n",
        "            print(f\"batch size = {batch_size}, epoch_size = {epoch_size}, learning rate = {learning_rate}\")\n",
        "            model = LinearRegression()\n",
        "            model.train(X_train, y_train, batch_size, epoch_size, learning_rate, verbose = True)\n",
        "            if model.best_valid_RMSE < global_best_RMSE:\n",
        "                global_best_RMSE = model.best_valid_RMSE\n",
        "                global_best_w = model.best_w\n",
        "                global_best_bias = model.best_bias\n",
        "                best_batch_size = batch_size\n",
        "                best_epoch_size = epoch_size\n",
        "                best_stop_epoch_size = model.best_epoch\n",
        "                best_learning_rate = learning_rate"
      ]
    },
    {
      "cell_type": "code",
      "execution_count": 15,
      "metadata": {},
      "outputs": [
        {
          "name": "stdout",
          "output_type": "stream",
          "text": [
            "==========  Best Model result  ==========\n",
            "Batch Size = 64, Epoch Size = 100 (Actually running 50 epoch),Learning rate = 0.025\n",
            "Validation RMSE = 4.641109180217822\n"
          ]
        }
      ],
      "source": [
        "print(\"=\" * 10, \" Best Model result \", \"=\" * 10)\n",
        "print(f\"Batch Size = {best_batch_size}, Epoch Size = {best_epoch_size} (Actually running {best_stop_epoch_size} epoch),Learning rate = {best_learning_rate}\")\n",
        "print(f\"Validation RMSE = {global_best_RMSE}\")"
      ]
    },
    {
      "cell_type": "code",
      "execution_count": 25,
      "metadata": {},
      "outputs": [
        {
          "name": "stdout",
          "output_type": "stream",
          "text": [
            "Epoch 1, training RMSE = 11.03515\n",
            "Epoch 2, training RMSE = 7.68767\n",
            "Epoch 3, training RMSE = 7.05178\n",
            "Epoch 4, training RMSE = 6.66769\n",
            "Epoch 5, training RMSE = 6.37108\n",
            "Epoch 6, training RMSE = 6.11804\n",
            "Epoch 7, training RMSE = 5.91176\n",
            "Epoch 8, training RMSE = 5.75522\n",
            "Epoch 9, training RMSE = 5.61507\n",
            "Epoch 10, training RMSE = 5.50542\n",
            "Epoch 11, training RMSE = 5.41061\n",
            "Epoch 12, training RMSE = 5.33781\n",
            "Epoch 13, training RMSE = 5.26259\n",
            "Epoch 14, training RMSE = 5.20534\n",
            "Epoch 15, training RMSE = 5.15186\n",
            "Epoch 16, training RMSE = 5.11075\n",
            "Epoch 17, training RMSE = 5.07185\n",
            "Epoch 18, training RMSE = 5.03116\n",
            "Epoch 19, training RMSE = 5.01052\n",
            "Epoch 20, training RMSE = 4.99216\n",
            "Epoch 21, training RMSE = 4.96496\n",
            "Epoch 22, training RMSE = 4.94611\n",
            "Epoch 23, training RMSE = 4.92568\n",
            "Epoch 24, training RMSE = 4.90611\n",
            "Epoch 25, training RMSE = 4.89538\n",
            "Epoch 26, training RMSE = 4.87842\n",
            "Epoch 27, training RMSE = 4.87186\n",
            "Epoch 28, training RMSE = 4.86729\n",
            "Epoch 29, training RMSE = 4.85851\n",
            "Epoch 30, training RMSE = 4.85299\n",
            "Epoch 31, training RMSE = 4.84615\n",
            "Epoch 32, training RMSE = 4.83019\n",
            "Epoch 33, training RMSE = 4.84237\n",
            "Epoch 34, training RMSE = 4.83847\n",
            "Epoch 35, training RMSE = 4.82587\n",
            "Epoch 36, training RMSE = 4.81959\n",
            "Epoch 37, training RMSE = 4.81819\n",
            "Epoch 38, training RMSE = 4.82153\n",
            "Epoch 39, training RMSE = 4.80092\n",
            "Epoch 40, training RMSE = 4.80811\n",
            "Epoch 41, training RMSE = 4.81133\n",
            "Epoch 42, training RMSE = 4.8088\n",
            "Epoch 43, training RMSE = 4.80264\n",
            "Epoch 44, training RMSE = 4.79724\n",
            "Epoch 45, training RMSE = 4.81097\n",
            "Epoch 46, training RMSE = 4.79569\n",
            "Epoch 47, training RMSE = 4.79063\n",
            "Epoch 48, training RMSE = 4.79676\n",
            "Epoch 49, training RMSE = 4.79982\n",
            "Epoch 50, training RMSE = 4.80008\n"
          ]
        }
      ],
      "source": [
        "train_all_model = LinearRegression()\n",
        "train_all_model.train_with_full_data(X_train, y_train, best_batch_size, best_stop_epoch_size, best_learning_rate, verbose = True)"
      ]
    },
    {
      "cell_type": "code",
      "execution_count": 1,
      "metadata": {},
      "outputs": [
        {
          "ename": "NameError",
          "evalue": "name 'train_all_model' is not defined",
          "output_type": "error",
          "traceback": [
            "\u001b[1;31m---------------------------------------------------------------------------\u001b[0m",
            "\u001b[1;31mNameError\u001b[0m                                 Traceback (most recent call last)",
            "\u001b[1;32m~\\AppData\\Local\\Temp/ipykernel_18588/911630498.py\u001b[0m in \u001b[0;36m<module>\u001b[1;34m\u001b[0m\n\u001b[1;32m----> 1\u001b[1;33m \u001b[0mfinal_w\u001b[0m \u001b[1;33m=\u001b[0m \u001b[0mtrain_all_model\u001b[0m\u001b[1;33m.\u001b[0m\u001b[0mbest_w\u001b[0m\u001b[1;33m\u001b[0m\u001b[1;33m\u001b[0m\u001b[0m\n\u001b[0m\u001b[0;32m      2\u001b[0m \u001b[0mfinal_bias\u001b[0m \u001b[1;33m=\u001b[0m \u001b[0mtrain_all_model\u001b[0m\u001b[1;33m.\u001b[0m\u001b[0mbest_bias\u001b[0m\u001b[1;33m\u001b[0m\u001b[1;33m\u001b[0m\u001b[0m\n",
            "\u001b[1;31mNameError\u001b[0m: name 'train_all_model' is not defined"
          ]
        }
      ],
      "source": [
        "final_w = train_all_model.best_w\n",
        "final_bias = train_all_model.best_bias"
      ]
    },
    {
      "cell_type": "code",
      "execution_count": 20,
      "metadata": {},
      "outputs": [
        {
          "data": {
            "image/png": "[encoded data removed]",
            "text/plain": [
              "<Figure size 432x288 with 1 Axes>"
            ]
          },
          "metadata": {
            "needs_background": "light"
          },
          "output_type": "display_data"
        }
      ],
      "source": [
        "train_loss = model.train_loss\n",
        "valid_loss = model.valid_loss\n",
        "x = [i+1 for i in range(model.stop_epoch)]\n",
        "plt.plot(x, train_loss, label = \"Training loss\")\n",
        "plt.plot(x, valid_loss, label = \"Validation loss\")\n",
        "plt.legend()\n",
        "plt.show()"
      ]
    },
    {
      "cell_type": "code",
      "execution_count": 29,
      "metadata": {},
      "outputs": [
        {
          "name": "stdout",
          "output_type": "stream",
          "text": [
            "[5 7 9]\n",
            "[ 6 15]\n"
          ]
        }
      ],
      "source": [
        "a = np.array([[1, 2, 3], [4, 5, 6]])\n",
        "print(a.sum(axis = 0)) #axis = 0: 橫向相加\n",
        "print(a.sum(axis = 1)) #axis = 1: 直向相加"
      ]
    },
    {
      "cell_type": "markdown",
      "metadata": {
        "id": "fWrfEwaEdO6J"
      },
      "source": [
        "# **預測testing set並寫成並寫成csv檔**"
      ]
    },
    {
      "cell_type": "code",
      "execution_count": 21,
      "metadata": {},
      "outputs": [],
      "source": [
        "#Training with all data\n",
        "predict_model = LinearRegression()\n",
        "y_pred = predict_model.predict(X_test, final_w, final_bias)"
      ]
    },
    {
      "cell_type": "code",
      "execution_count": 64,
      "metadata": {},
      "outputs": [],
      "source": [
        "#Training with training data\n",
        "predict_model = LinearRegression()\n",
        "y_pred = predict_model.predict(X_test, global_best_w, global_best_bias)"
      ]
    },
    {
      "cell_type": "code",
      "execution_count": 22,
      "metadata": {},
      "outputs": [],
      "source": [
        "def write_to_csv(y_pred, file_name):\n",
        "    with open(file_name, 'w', newline='') as csvf:\n",
        "        # 建立 CSV 檔寫入器\n",
        "        writer = csv.writer(csvf)\n",
        "        writer.writerow(['Id','Predicted'])\n",
        "        for i in range(int(y_pred.shape[0])):\n",
        "            writer.writerow([i + 1, y_pred[i][0]])"
      ]
    },
    {
      "cell_type": "code",
      "execution_count": 23,
      "metadata": {},
      "outputs": [],
      "source": [
        "#記得改名字\n",
        "file_name = 'submission_1017_1.csv'\n",
        "write_to_csv(y_pred, file_name)"
      ]
    }
  ],
  "metadata": {
    "colab": {
      "collapsed_sections": [],
      "name": "2021ML_HW1.ipynb",
      "provenance": []
    },
    "interpreter": {
      "hash": "853a6c1de715781c4e36e93313002732d37040606184d41a7b9ff831089b66e5"
    },
    "kernelspec": {
      "display_name": "Python 3.7.10 64-bit ('EEML': conda)",
      "name": "python3"
    },
    "language_info": {
      "codemirror_mode": {
        "name": "ipython",
        "version": 3
      },
      "file_extension": ".py",
      "mimetype": "text/x-python",
      "name": "python",
      "nbconvert_exporter": "python",
      "pygments_lexer": "ipython3",
      "version": "3.7.10"
    }
  },
  "nbformat": 4,
  "nbformat_minor": 0
}
