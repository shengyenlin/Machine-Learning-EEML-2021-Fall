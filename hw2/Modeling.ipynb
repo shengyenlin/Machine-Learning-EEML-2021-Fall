{
 "cells": [
  {
   "cell_type": "code",
   "execution_count": 1,
   "metadata": {},
   "outputs": [],
   "source": [
    "import numpy as np\n",
    "import pandas as pd\n",
    "import os\n",
    "import pickle\n",
    "import matplotlib.pyplot as plt\n",
    "from sklearn.model_selection import GridSearchCV\n",
    "from sklearn.ensemble import RandomForestClassifier\n",
    "from sklearn.preprocessing import RobustScaler, MinMaxScaler, StandardScaler\n",
    "from sklearn.neighbors import KNeighborsClassifier\n",
    "\n",
    "from helper import load_data, write_to_csv, set_sepcial_observation\n",
    "import DataPreprocessor \n",
    "#from handcraft_logistic_regression import LogisticRegression"
   ]
  },
  {
   "cell_type": "code",
   "execution_count": 19,
   "metadata": {},
   "outputs": [
    {
     "data": {
      "text/plain": [
       "<module 'DataPreprocessor' from 'd:\\\\Coding\\\\NTU\\\\110-1\\\\EEML\\\\HW2\\\\DataPreprocessor.py'>"
      ]
     },
     "execution_count": 19,
     "metadata": {},
     "output_type": "execute_result"
    }
   ],
   "source": [
    "import importlib\n",
    "importlib.reload(DataPreprocessor)"
   ]
  },
  {
   "cell_type": "code",
   "execution_count": 2,
   "metadata": {},
   "outputs": [],
   "source": [
    "data_path = \"./data/\"\n",
    "path_train = os.path.join(data_path, \"train.csv\")\n",
    "path_test = os.path.join(data_path, \"test.csv\")\n",
    "data_train, data_test = load_data(path_train, path_test)"
   ]
  },
  {
   "cell_type": "code",
   "execution_count": 3,
   "metadata": {},
   "outputs": [],
   "source": [
    "label_dict = {'<=50K': 0, '>50K': 1}\n",
    "data_train[\"income\"] = data_train[\"income\"].apply(lambda x: label_dict[x])"
   ]
  },
  {
   "cell_type": "code",
   "execution_count": 3,
   "metadata": {},
   "outputs": [
    {
     "name": "stdout",
     "output_type": "stream",
     "text": [
      "(32561, 103)\n",
      "(16281, 103)\n"
     ]
    },
    {
     "name": "stderr",
     "output_type": "stream",
     "text": [
      "/content/gdrive/MyDrive/EEML/HW2/DataPreprocessor.py:32: SettingWithCopyWarning: \n",
      "A value is trying to be set on a copy of a slice from a DataFrame.\n",
      "Try using .loc[row_indexer,col_indexer] = value instead\n",
      "\n",
      "See the caveats in the documentation: https://pandas.pydata.org/pandas-docs/stable/user_guide/indexing.html#returning-a-view-versus-a-copy\n",
      "  data_cat[\"native_country\"] = data_cat[\"native_country\"].astype(pd.CategoricalDtype(categories=self.all_native_countries))\n"
     ]
    }
   ],
   "source": [
    "DP = DataPreprocessor.DataPreprocessor()\n",
    "X_train, y_train = DP.preprocess_train_data(data_train)\n",
    "X_test= DP.preprocess_test_data(data_test)"
   ]
  },
  {
   "cell_type": "code",
   "execution_count": 4,
   "metadata": {},
   "outputs": [
    {
     "ename": "NameError",
     "evalue": "name 'X_train' is not defined",
     "output_type": "error",
     "traceback": [
      "\u001b[1;31m---------------------------------------------------------------------------\u001b[0m",
      "\u001b[1;31mNameError\u001b[0m                                 Traceback (most recent call last)",
      "\u001b[1;32m<ipython-input-4-7d9f3faf45e0>\u001b[0m in \u001b[0;36m<module>\u001b[1;34m\u001b[0m\n\u001b[1;32m----> 1\u001b[1;33m \u001b[0mprint\u001b[0m\u001b[1;33m(\u001b[0m\u001b[0mX_train\u001b[0m\u001b[1;33m.\u001b[0m\u001b[0mshape\u001b[0m\u001b[1;33m)\u001b[0m\u001b[1;33m\u001b[0m\u001b[1;33m\u001b[0m\u001b[0m\n\u001b[0m\u001b[0;32m      2\u001b[0m \u001b[0mprint\u001b[0m\u001b[1;33m(\u001b[0m\u001b[0mX_test\u001b[0m\u001b[1;33m.\u001b[0m\u001b[0mshape\u001b[0m\u001b[1;33m)\u001b[0m\u001b[1;33m\u001b[0m\u001b[1;33m\u001b[0m\u001b[0m\n",
      "\u001b[1;31mNameError\u001b[0m: name 'X_train' is not defined"
     ]
    }
   ],
   "source": [
    "print(X_train.shape)\n",
    "print(X_test.shape)"
   ]
  },
  {
   "cell_type": "code",
   "execution_count": 4,
   "metadata": {},
   "outputs": [],
   "source": [
    "def frequency_encoding(data, col):\n",
    "    cat_ratio = data.groupby([col]).size() / len(data)\n",
    "    return cat_ratio"
   ]
  },
  {
   "cell_type": "code",
   "execution_count": 8,
   "metadata": {},
   "outputs": [],
   "source": [
    "cat_ratio = data_train.groupby([\"workclass\"]).size() / len(data_train)\n",
    "data_train[\"workclass\"] = data_train[\"workclass\"].apply(lambda x: cat_ratio[x])"
   ]
  },
  {
   "cell_type": "markdown",
   "metadata": {},
   "source": [
    "# KNN"
   ]
  },
  {
   "cell_type": "code",
   "execution_count": 29,
   "metadata": {},
   "outputs": [],
   "source": [
    "cond1 = (data_test[\"education_num\"] == 1)\n",
    "cond2 = (data_test[\"workclass\"] == \"Never-worked\")\n",
    "special_index = data_test[cond1 | cond2].index.tolist()"
   ]
  },
  {
   "cell_type": "markdown",
   "metadata": {},
   "source": [
    "# All features\n",
    "## Numerical\n",
    "- robust scaling\n",
    "## Categorical\n",
    "- one-hot"
   ]
  },
  {
   "cell_type": "markdown",
   "metadata": {},
   "source": [
    "## KNN\n"
   ]
  },
  {
   "cell_type": "code",
   "execution_count": 5,
   "metadata": {},
   "outputs": [],
   "source": [
    "k_max = round(np.sqrt(X_train.shape[0]))\n",
    "k_range = list(range(20, k_max, 3))\n",
    "param_grid = {\n",
    "    \"n_neighbors\": k_range,\n",
    "    \"weights\": [\"uniform\", \"distance\"],\n",
    "    \"metric\": [\"euclidean\", \"manhattan\"]\n",
    "}"
   ]
  },
  {
   "cell_type": "code",
   "execution_count": 6,
   "metadata": {},
   "outputs": [
    {
     "name": "stdout",
     "output_type": "stream",
     "text": [
      "Fitting 5 folds for each of 216 candidates, totalling 1080 fits\n"
     ]
    },
    {
     "name": "stderr",
     "output_type": "stream",
     "text": [
      "[Parallel(n_jobs=-1)]: Using backend LokyBackend with 2 concurrent workers.\n",
      "[Parallel(n_jobs=-1)]: Done  46 tasks      | elapsed:   59.3s\n",
      "[Parallel(n_jobs=-1)]: Done 196 tasks      | elapsed:  4.5min\n",
      "[Parallel(n_jobs=-1)]: Done 446 tasks      | elapsed: 11.6min\n",
      "[Parallel(n_jobs=-1)]: Done 796 tasks      | elapsed: 20.9min\n",
      "[Parallel(n_jobs=-1)]: Done 1080 out of 1080 | elapsed: 29.7min finished\n"
     ]
    }
   ],
   "source": [
    "KNN = KNeighborsClassifier()\n",
    "GS = GridSearchCV(KNN, \n",
    "    param_grid, \n",
    "    verbose = 1,\n",
    "    cv = 5, n_jobs = -1).fit(X_train, y_train)"
   ]
  },
  {
   "cell_type": "code",
   "execution_count": 10,
   "metadata": {},
   "outputs": [
    {
     "data": {
      "text/plain": [
       "0.9999692884125181"
      ]
     },
     "execution_count": 10,
     "metadata": {},
     "output_type": "execute_result"
    }
   ],
   "source": [
    "GS.score(X_train, y_train)"
   ]
  },
  {
   "cell_type": "code",
   "execution_count": 14,
   "metadata": {},
   "outputs": [
    {
     "data": {
      "text/plain": [
       "KNeighborsClassifier(algorithm='auto', leaf_size=30, metric='manhattan',\n",
       "                     metric_params=None, n_jobs=None, n_neighbors=32, p=2,\n",
       "                     weights='distance')"
      ]
     },
     "execution_count": 14,
     "metadata": {},
     "output_type": "execute_result"
    }
   ],
   "source": [
    "GS.best_estimator_"
   ]
  },
  {
   "cell_type": "code",
   "execution_count": 8,
   "metadata": {},
   "outputs": [
    {
     "name": "stdout",
     "output_type": "stream",
     "text": [
      "param_n_neighbors\n",
      "20     0.798517\n",
      "23     0.799008\n",
      "26     0.799177\n",
      "29     0.800152\n",
      "32     0.799876\n",
      "35     0.799929\n",
      "38     0.799192\n",
      "41     0.799162\n",
      "44     0.798440\n",
      "47     0.798263\n",
      "50     0.797672\n",
      "53     0.797557\n",
      "56     0.796843\n",
      "59     0.796666\n",
      "62     0.796336\n",
      "65     0.796144\n",
      "68     0.795653\n",
      "71     0.795215\n",
      "74     0.794578\n",
      "77     0.794301\n",
      "80     0.793664\n",
      "83     0.793334\n",
      "86     0.792904\n",
      "89     0.792651\n",
      "92     0.792274\n",
      "95     0.791998\n",
      "98     0.791468\n",
      "101    0.791253\n",
      "104    0.790693\n",
      "107    0.790347\n",
      "110    0.789925\n",
      "113    0.789710\n",
      "116    0.789388\n",
      "119    0.789104\n",
      "122    0.788666\n",
      "125    0.788466\n",
      "128    0.787975\n",
      "131    0.787576\n",
      "134    0.787031\n",
      "137    0.786754\n",
      "140    0.786316\n",
      "143    0.786094\n",
      "146    0.785633\n",
      "149    0.785395\n",
      "152    0.784904\n",
      "155    0.784681\n",
      "158    0.784259\n",
      "161    0.784113\n",
      "164    0.783675\n",
      "167    0.783476\n",
      "170    0.783192\n",
      "173    0.783046\n",
      "176    0.782792\n",
      "179    0.782554\n",
      "Name: mean_test_score, dtype: float64\n"
     ]
    },
    {
     "data": {
      "image/png": "[encoded data removed]",
      "text/plain": [
       "<Figure size 432x288 with 1 Axes>"
      ]
     },
     "metadata": {
      "needs_background": "light"
     },
     "output_type": "display_data"
    }
   ],
   "source": [
    "GS_result = pd.DataFrame(GS.cv_results_)\n",
    "print(GS_result.groupby([\"param_n_neighbors\"])['mean_test_score'].mean())\n",
    "\n",
    "k_idx = GS_result.groupby([\"param_n_neighbors\"])['mean_test_score'].mean().index\n",
    "acc = GS_result.groupby([\"param_n_neighbors\"])['mean_test_score'].mean().values\n",
    "\n",
    "plt.plot(k_idx, acc)\n",
    "plt.xlabel('Value of K for KNN')\n",
    "plt.ylabel('Cross-Validated Accuracy')\n",
    "plt.show()"
   ]
  },
  {
   "cell_type": "code",
   "execution_count": 26,
   "metadata": {},
   "outputs": [
    {
     "name": "stdout",
     "output_type": "stream",
     "text": [
      "Before hard labeling, ratio of income >50K = 0.07579387015539586\n",
      "After hard labeling, ratio of income >50K = 0.07573244886677723\n"
     ]
    }
   ],
   "source": [
    "y_pred = GS.predict(X_test)\n",
    "print(f\"Before hard labeling, ratio of income >50K = {y_pred.sum() / y_pred.shape[0]}\")\n",
    "y_pred = set_sepcial_observation(y_pred, special_index)\n",
    "print(f\"After hard labeling, ratio of income >50K = {y_pred.sum() / y_pred.shape[0]}\")"
   ]
  },
  {
   "cell_type": "code",
   "execution_count": 27,
   "metadata": {},
   "outputs": [],
   "source": [
    "#記得改名字\n",
    "file_name = 'submission_1025_4.csv'\n",
    "write_to_csv(y_pred, file_name)"
   ]
  },
  {
   "cell_type": "markdown",
   "metadata": {},
   "source": [
    "## K-means"
   ]
  },
  {
   "cell_type": "markdown",
   "metadata": {},
   "source": [
    "# Selected features\n",
    "## Numerical\n",
    "- robust scaling\n",
    "## Categorical\n",
    "- one-hot\n",
    "- remove some features and categories"
   ]
  },
  {
   "cell_type": "markdown",
   "metadata": {},
   "source": [
    "## KNN"
   ]
  },
  {
   "cell_type": "code",
   "execution_count": 66,
   "metadata": {},
   "outputs": [],
   "source": [
    "k_max = round(np.sqrt(X_train.shape[0]))\n",
    "k_range = list(range(20, k_max, 3))\n",
    "param_grid = {\n",
    "    \"n_neighbors\": k_range,\n",
    "    \"weights\": [\"uniform\", \"distance\"],\n",
    "    \"metric\": [\"euclidean\", \"manhattan\"]\n",
    "}"
   ]
  },
  {
   "cell_type": "code",
   "execution_count": 67,
   "metadata": {},
   "outputs": [],
   "source": [
    "KNN = KNeighborsClassifier()\n",
    "GS = GridSearchCV(KNN, \n",
    "    param_grid, \n",
    "    verbose = 1,\n",
    "    cv = 5)"
   ]
  },
  {
   "cell_type": "code",
   "execution_count": 68,
   "metadata": {},
   "outputs": [
    {
     "name": "stdout",
     "output_type": "stream",
     "text": [
      "Fitting 5 folds for each of 56 candidates, totalling 280 fits\n"
     ]
    },
    {
     "name": "stderr",
     "output_type": "stream",
     "text": [
      "[Parallel(n_jobs=1)]: Using backend SequentialBackend with 1 concurrent workers.\n",
      "[Parallel(n_jobs=1)]: Done 280 out of 280 | elapsed: 15.2min finished\n"
     ]
    },
    {
     "data": {
      "text/plain": [
       "GridSearchCV(cv=5, error_score=nan,\n",
       "             estimator=KNeighborsClassifier(algorithm='auto', leaf_size=30,\n",
       "                                            metric='minkowski',\n",
       "                                            metric_params=None, n_jobs=None,\n",
       "                                            n_neighbors=5, p=2,\n",
       "                                            weights='uniform'),\n",
       "             iid='deprecated', n_jobs=None,\n",
       "             param_grid={'metric': ['euclidean', 'manhattan'],\n",
       "                         'n_neighbors': [25, 27, 29, 31, 33, 35, 37, 39, 41, 43,\n",
       "                                         45, 47, 49, 51],\n",
       "                         'weights': ['uniform', 'distance']},\n",
       "             pre_dispatch='2*n_jobs', refit=True, return_train_score=False,\n",
       "             scoring=None, verbose=1)"
      ]
     },
     "execution_count": 68,
     "metadata": {},
     "output_type": "execute_result"
    }
   ],
   "source": [
    "GS.fit(X_train, y_train)"
   ]
  },
  {
   "cell_type": "code",
   "execution_count": 69,
   "metadata": {},
   "outputs": [
    {
     "data": {
      "text/plain": [
       "0.8689044088238009"
      ]
     },
     "execution_count": 69,
     "metadata": {},
     "output_type": "execute_result"
    }
   ],
   "source": [
    "GS.score(X_train, y_train)"
   ]
  },
  {
   "cell_type": "code",
   "execution_count": 72,
   "metadata": {},
   "outputs": [
    {
     "data": {
      "text/plain": [
       "KNeighborsClassifier(algorithm='auto', leaf_size=30, metric='manhattan',\n",
       "                     metric_params=None, n_jobs=None, n_neighbors=35, p=2,\n",
       "                     weights='uniform')"
      ]
     },
     "execution_count": 72,
     "metadata": {},
     "output_type": "execute_result"
    }
   ],
   "source": [
    "GS.best_estimator_"
   ]
  },
  {
   "cell_type": "code",
   "execution_count": 73,
   "metadata": {},
   "outputs": [
    {
     "name": "stdout",
     "output_type": "stream",
     "text": [
      "param_n_neighbors\n",
      "25    0.858213\n",
      "27    0.858175\n",
      "29    0.858013\n",
      "31    0.858136\n",
      "33    0.858167\n",
      "35    0.858321\n",
      "37    0.858190\n",
      "39    0.858121\n",
      "41    0.858090\n",
      "43    0.857859\n",
      "45    0.858313\n",
      "47    0.858344\n",
      "49    0.858136\n",
      "51    0.857959\n",
      "Name: mean_test_score, dtype: float64\n"
     ]
    },
    {
     "data": {
      "image/png": "[encoded data removed]",
      "text/plain": [
       "<Figure size 432x288 with 1 Axes>"
      ]
     },
     "metadata": {
      "needs_background": "light"
     },
     "output_type": "display_data"
    }
   ],
   "source": [
    "GS_result = pd.DataFrame(GS.cv_results_)\n",
    "print(GS_result.groupby([\"param_n_neighbors\"])['mean_test_score'].mean())\n",
    "\n",
    "k_idx = GS_result.groupby([\"param_n_neighbors\"])['mean_test_score'].mean().index\n",
    "acc = GS_result.groupby([\"param_n_neighbors\"])['mean_test_score'].mean().values\n",
    "\n",
    "plt.plot(k_idx, acc)\n",
    "plt.xlabel('Value of K for KNN')\n",
    "plt.ylabel('Cross-Validated Accuracy')\n",
    "plt.show()"
   ]
  },
  {
   "cell_type": "code",
   "execution_count": 74,
   "metadata": {},
   "outputs": [
    {
     "name": "stdout",
     "output_type": "stream",
     "text": [
      "Before hard labeling, ratio of income >50K = 0.19783797064062403\n",
      "After hard labeling, ratio of income >50K = 0.1977765493520054\n"
     ]
    }
   ],
   "source": [
    "y_pred = GS.predict(X_test)\n",
    "print(f\"Before hard labeling, ratio of income >50K = {y_pred.sum() / y_pred.shape[0]}\")\n",
    "y_pred = set_sepcial_observation(y_pred, special_index)\n",
    "print(f\"After hard labeling, ratio of income >50K = {y_pred.sum() / y_pred.shape[0]}\")"
   ]
  },
  {
   "cell_type": "code",
   "execution_count": null,
   "metadata": {},
   "outputs": [],
   "source": [
    "#記得改名字\n",
    "file_name = 'submission_1025_3.csv'\n",
    "write_to_csv(y_pred, file_name)"
   ]
  },
  {
   "cell_type": "markdown",
   "metadata": {},
   "source": [
    "## K-means"
   ]
  },
  {
   "cell_type": "markdown",
   "metadata": {},
   "source": [
    "# Selected featuers\n",
    "- Numerical features\n",
    "    - robust scaler (do not scale `education_num`)\n",
    "- Categorical\n",
    "    - frequency encoding (mean)"
   ]
  },
  {
   "cell_type": "code",
   "execution_count": 4,
   "metadata": {},
   "outputs": [],
   "source": [
    "num_cols = [\"age\", \"fnlwgt\", \"capital_gain\", \"capital_loss\", \"hours_per_week\"]\n",
    "order_cat_cols = [\"education_num\"]\n",
    "cat_cols = [\"workclass\", \"education\", \"marital_status\", \"occupation\", \"relationship\", \"race\", \"sex\", \"native_country\"]\n",
    "\n",
    "#use training data's frequency to apply on training and testing dataset\n",
    "for col in cat_cols:\n",
    "    cat_ratio = data_train.groupby([col]).size() / len(data_train)\n",
    "    data_train[col] = data_train[col].apply(lambda x: cat_ratio[x])\n",
    "    data_test[col] = data_test[col].apply(lambda x: cat_ratio[x])"
   ]
  },
  {
   "cell_type": "code",
   "execution_count": 5,
   "metadata": {},
   "outputs": [],
   "source": [
    "y_train = data_train[\"income\"]\n",
    "\n",
    "X_train_order = np.array(data_train[order_cat_cols])\n",
    "X_train_num = np.array(data_train[num_cols])\n",
    "X_train_cat = np.array(data_train[cat_cols])\n",
    "\n",
    "X_test_order = np.array(data_test[order_cat_cols])\n",
    "X_test_num = np.array(data_test[num_cols])\n",
    "X_test_cat = np.array(data_test[cat_cols])"
   ]
  },
  {
   "cell_type": "code",
   "execution_count": 6,
   "metadata": {},
   "outputs": [],
   "source": [
    "robust_scaler = RobustScaler()\n",
    "X_train_num_scaled = robust_scaler.fit_transform(X_train_num)\n",
    "X_test_num_scaled = robust_scaler.transform(X_test_num)"
   ]
  },
  {
   "cell_type": "code",
   "execution_count": 7,
   "metadata": {},
   "outputs": [],
   "source": [
    "X_train = np.concatenate([X_train_order, X_train_num_scaled, X_train_cat], axis = 1)\n",
    "X_test = np.concatenate([X_test_order, X_test_num_scaled, X_test_cat], axis = 1)"
   ]
  },
  {
   "cell_type": "code",
   "execution_count": 8,
   "metadata": {},
   "outputs": [
    {
     "name": "stdout",
     "output_type": "stream",
     "text": [
      "(32561, 14)\n",
      "(16281, 14)\n"
     ]
    }
   ],
   "source": [
    "print(X_train.shape)\n",
    "print(X_test.shape)"
   ]
  },
  {
   "cell_type": "code",
   "execution_count": 9,
   "metadata": {},
   "outputs": [],
   "source": [
    "k_max = round(np.sqrt(X_train_num.shape[0]))\n",
    "k_range = list(range(20, k_max, 3))\n",
    "param_grid = {\n",
    "    \"n_neighbors\": k_range,\n",
    "    \"weights\": [\"uniform\", \"distance\"],\n",
    "    \"metric\": [\"euclidean\", \"manhattan\"]\n",
    "}"
   ]
  },
  {
   "cell_type": "code",
   "execution_count": 10,
   "metadata": {},
   "outputs": [
    {
     "name": "stdout",
     "output_type": "stream",
     "text": [
      "Fitting 5 folds for each of 216 candidates, totalling 1080 fits\n"
     ]
    },
    {
     "name": "stderr",
     "output_type": "stream",
     "text": [
      "[Parallel(n_jobs=-1)]: Using backend LokyBackend with 2 concurrent workers.\n",
      "[Parallel(n_jobs=-1)]: Done  46 tasks      | elapsed:  3.0min\n",
      "[Parallel(n_jobs=-1)]: Done 196 tasks      | elapsed:  9.3min\n",
      "[Parallel(n_jobs=-1)]: Done 446 tasks      | elapsed: 20.9min\n",
      "[Parallel(n_jobs=-1)]: Done 796 tasks      | elapsed: 40.3min\n",
      "[Parallel(n_jobs=-1)]: Done 1080 out of 1080 | elapsed: 64.3min finished\n"
     ]
    }
   ],
   "source": [
    "KNN = KNeighborsClassifier()\n",
    "GS = GridSearchCV(KNN, \n",
    "    param_grid,     \n",
    "    verbose = 1,\n",
    "    cv = 5, n_jobs = -1).fit(X_train, y_train)"
   ]
  },
  {
   "cell_type": "code",
   "execution_count": 11,
   "metadata": {},
   "outputs": [
    {
     "name": "stdout",
     "output_type": "stream",
     "text": [
      "Training accuracy 0.9999692884125181\n",
      "========== Best estimator is ==========\n",
      "KNeighborsClassifier(algorithm='auto', leaf_size=30, metric='manhattan',\n",
      "                     metric_params=None, n_jobs=None, n_neighbors=53, p=2,\n",
      "                     weights='distance')\n",
      "========== CV Acc for each K ==========\n",
      "param_n_neighbors\n",
      "20     0.850934\n",
      "23     0.851510\n",
      "26     0.851978\n",
      "29     0.851986\n",
      "32     0.851732\n",
      "35     0.851656\n",
      "38     0.851433\n",
      "41     0.851310\n",
      "44     0.851226\n",
      "47     0.851034\n",
      "50     0.850949\n",
      "53     0.851149\n",
      "56     0.850965\n",
      "59     0.851110\n",
      "62     0.850535\n",
      "65     0.849836\n",
      "68     0.849751\n",
      "71     0.849536\n",
      "74     0.849298\n",
      "77     0.849129\n",
      "80     0.848922\n",
      "83     0.848884\n",
      "86     0.849045\n",
      "89     0.848769\n",
      "92     0.848999\n",
      "95     0.848784\n",
      "98     0.848607\n",
      "101    0.848469\n",
      "104    0.848331\n",
      "107    0.848024\n",
      "110    0.847732\n",
      "113    0.847617\n",
      "116    0.847602\n",
      "119    0.847417\n",
      "122    0.847471\n",
      "125    0.847356\n",
      "128    0.847287\n",
      "131    0.847218\n",
      "134    0.847018\n",
      "137    0.846788\n",
      "140    0.846335\n",
      "143    0.845982\n",
      "146    0.845736\n",
      "149    0.845859\n",
      "152    0.845291\n",
      "155    0.845291\n",
      "158    0.844960\n",
      "161    0.845306\n",
      "164    0.845029\n",
      "167    0.844976\n",
      "170    0.844730\n",
      "173    0.845029\n",
      "176    0.844868\n",
      "179    0.844661\n",
      "Name: mean_test_score, dtype: float64\n"
     ]
    },
    {
     "data": {
      "image/png": "[encoded data removed]",
      "text/plain": [
       "<Figure size 432x288 with 1 Axes>"
      ]
     },
     "metadata": {
      "needs_background": "light"
     },
     "output_type": "display_data"
    }
   ],
   "source": [
    "print(f\"Training accuracy {GS.score(X_train, y_train)}\")\n",
    "print(\"=\"*10, \"Best estimator is\", \"=\"*10)\n",
    "print(GS.best_estimator_)\n",
    "\n",
    "GS_result = pd.DataFrame(GS.cv_results_)\n",
    "print(\"=\"*10, \"CV Acc for each K\", \"=\"*10)\n",
    "print(GS_result.groupby([\"param_n_neighbors\"])['mean_test_score'].mean())\n",
    "\n",
    "k_idx = GS_result.groupby([\"param_n_neighbors\"])['mean_test_score'].mean().index\n",
    "acc = GS_result.groupby([\"param_n_neighbors\"])['mean_test_score'].mean().values\n",
    "\n",
    "plt.plot(k_idx, acc)\n",
    "plt.xlabel('Value of K for KNN')\n",
    "plt.ylabel('Cross-Validated Accuracy')\n",
    "plt.show()"
   ]
  },
  {
   "cell_type": "markdown",
   "metadata": {},
   "source": [
    "# Selected featuers\n",
    "- Numerical features\n",
    "    - robust scaler (do not scale `education_num`)\n",
    "- Categorical\n",
    "    - frequency encoding (sum)"
   ]
  },
  {
   "cell_type": "code",
   "execution_count": 6,
   "metadata": {},
   "outputs": [],
   "source": [
    "num_cols = [\"age\", \"fnlwgt\", \"capital_gain\", \"capital_loss\", \"hours_per_week\"]\n",
    "order_cat_cols = [\"education_num\"]\n",
    "cat_cols = [\"workclass\", \"education\", \"marital_status\", \"occupation\", \"relationship\", \"race\", \"sex\", \"native_country\"]\n",
    "\n",
    "#use training data's frequency to apply on training and testing dataset\n",
    "for col in cat_cols:\n",
    "    cat_ratio = data_train.groupby([col]).size()\n",
    "    data_train[col] = data_train[col].apply(lambda x: cat_ratio[x])\n",
    "    data_test[col] = data_test[col].apply(lambda x: cat_ratio[x])"
   ]
  },
  {
   "cell_type": "code",
   "execution_count": 7,
   "metadata": {},
   "outputs": [],
   "source": [
    "y_train = data_train[\"income\"]\n",
    "\n",
    "X_train_order = np.array(data_train[order_cat_cols])\n",
    "X_train_num = np.array(data_train[num_cols])\n",
    "X_train_cat = np.array(data_train[cat_cols])\n",
    "\n",
    "X_test_order = np.array(data_test[order_cat_cols])\n",
    "X_test_num = np.array(data_test[num_cols])\n",
    "X_test_cat = np.array(data_test[cat_cols])"
   ]
  },
  {
   "cell_type": "code",
   "execution_count": 9,
   "metadata": {},
   "outputs": [],
   "source": [
    "robust_scaler = RobustScaler()\n",
    "X_train_num_scaled = robust_scaler.fit_transform(X_train_num)\n",
    "X_test_num_scaled = robust_scaler.transform(X_test_num)"
   ]
  },
  {
   "cell_type": "code",
   "execution_count": 10,
   "metadata": {},
   "outputs": [],
   "source": [
    "X_train = np.concatenate([X_train_order, X_train_num_scaled, X_train_cat], axis = 1)\n",
    "X_test = np.concatenate([X_test_order, X_test_num_scaled, X_test_cat], axis = 1)"
   ]
  },
  {
   "cell_type": "code",
   "execution_count": 11,
   "metadata": {},
   "outputs": [
    {
     "name": "stdout",
     "output_type": "stream",
     "text": [
      "(32561, 14)\n",
      "(16281, 14)\n"
     ]
    }
   ],
   "source": [
    "print(X_train.shape)\n",
    "print(X_test.shape)"
   ]
  },
  {
   "cell_type": "code",
   "execution_count": 12,
   "metadata": {},
   "outputs": [],
   "source": [
    "k_max = 100\n",
    "# k_max = round(np.sqrt(X_train_num.shape[0]))\n",
    "k_range = list(range(20, k_max, 3))\n",
    "param_grid = {\n",
    "    \"n_neighbors\": k_range,\n",
    "    \"weights\": [\"uniform\", \"distance\"],\n",
    "    \"metric\": [\"euclidean\", \"manhattan\"]\n",
    "}"
   ]
  },
  {
   "cell_type": "code",
   "execution_count": 13,
   "metadata": {},
   "outputs": [
    {
     "name": "stdout",
     "output_type": "stream",
     "text": [
      "Fitting 5 folds for each of 108 candidates, totalling 540 fits\n"
     ]
    },
    {
     "name": "stderr",
     "output_type": "stream",
     "text": [
      "[Parallel(n_jobs=-1)]: Using backend LokyBackend with 2 concurrent workers.\n",
      "[Parallel(n_jobs=-1)]: Done  46 tasks      | elapsed:  2.8min\n",
      "[Parallel(n_jobs=-1)]: Done 196 tasks      | elapsed: 12.2min\n",
      "[Parallel(n_jobs=-1)]: Done 446 tasks      | elapsed: 28.5min\n",
      "[Parallel(n_jobs=-1)]: Done 540 out of 540 | elapsed: 35.0min finished\n"
     ]
    }
   ],
   "source": [
    "KNN = KNeighborsClassifier()\n",
    "GS = GridSearchCV(KNN, \n",
    "    param_grid,     \n",
    "    verbose = 1,\n",
    "    cv = 5, n_jobs = -1).fit(X_train, y_train)"
   ]
  },
  {
   "cell_type": "code",
   "execution_count": 14,
   "metadata": {},
   "outputs": [
    {
     "name": "stdout",
     "output_type": "stream",
     "text": [
      "Training accuracy 0.8564233285218513\n",
      "========== Best estimator is ==========\n",
      "KNeighborsClassifier(algorithm='auto', leaf_size=30, metric='euclidean',\n",
      "                     metric_params=None, n_jobs=None, n_neighbors=20, p=2,\n",
      "                     weights='uniform')\n",
      "========== CV Acc for each K ==========\n",
      "param_n_neighbors\n",
      "20    0.840523\n",
      "23    0.839908\n",
      "26    0.839563\n",
      "29    0.838695\n",
      "32    0.838680\n",
      "35    0.838327\n",
      "38    0.838066\n",
      "41    0.837743\n",
      "44    0.836960\n",
      "47    0.836830\n",
      "50    0.836438\n",
      "53    0.835985\n",
      "56    0.835701\n",
      "59    0.835701\n",
      "62    0.835570\n",
      "65    0.835148\n",
      "68    0.835401\n",
      "71    0.835363\n",
      "74    0.835041\n",
      "77    0.835186\n",
      "80    0.834964\n",
      "83    0.835002\n",
      "86    0.834595\n",
      "89    0.834526\n",
      "92    0.833282\n",
      "95    0.833413\n",
      "98    0.833060\n",
      "Name: mean_test_score, dtype: float64\n"
     ]
    },
    {
     "data": {
      "image/png": "[encoded data removed]",
      "text/plain": [
       "<Figure size 432x288 with 1 Axes>"
      ]
     },
     "metadata": {
      "needs_background": "light"
     },
     "output_type": "display_data"
    }
   ],
   "source": [
    "print(f\"Training accuracy {GS.score(X_train, y_train)}\")\n",
    "print(\"=\"*10, \"Best estimator is\", \"=\"*10)\n",
    "print(GS.best_estimator_)\n",
    "\n",
    "GS_result = pd.DataFrame(GS.cv_results_)\n",
    "print(\"=\"*10, \"CV Acc for each K\", \"=\"*10)\n",
    "print(GS_result.groupby([\"param_n_neighbors\"])['mean_test_score'].mean())\n",
    "\n",
    "k_idx = GS_result.groupby([\"param_n_neighbors\"])['mean_test_score'].mean().index\n",
    "acc = GS_result.groupby([\"param_n_neighbors\"])['mean_test_score'].mean().values\n",
    "\n",
    "plt.plot(k_idx, acc)\n",
    "plt.xlabel('Value of K for KNN')\n",
    "plt.ylabel('Cross-Validated Accuracy')\n",
    "plt.show()"
   ]
  },
  {
   "cell_type": "markdown",
   "metadata": {},
   "source": [
    "# Selected featuers\n",
    "- Numerical features\n",
    "    - robust scaler (do not scale `education_num`)\n",
    "- Categorical\n",
    "    - target encoding (mean)"
   ]
  },
  {
   "cell_type": "code",
   "execution_count": 5,
   "metadata": {},
   "outputs": [],
   "source": [
    "num_cols = [\"age\", \"fnlwgt\", \"capital_gain\", \"capital_loss\", \"hours_per_week\"]\n",
    "order_cat_cols = [\"education_num\"]\n",
    "cat_cols = [\"workclass\", \"education\", \"marital_status\", \"occupation\", \"relationship\", \"race\", \"sex\", \"native_country\"]\n",
    "\n",
    "#use training data's frequency to apply on training and testing dataset\n",
    "for col in cat_cols:\n",
    "    target_ratio = data_train[[col, \"income\"]].groupby([col]).mean()\n",
    "    data_train[col] = data_train[col].apply(lambda x: target_ratio[\"income\"][x])\n",
    "    data_test[col] = data_test[col].apply(lambda x: target_ratio[\"income\"][x])"
   ]
  },
  {
   "cell_type": "code",
   "execution_count": 6,
   "metadata": {},
   "outputs": [],
   "source": [
    "y_train = data_train[\"income\"]\n",
    "\n",
    "X_train_order = np.array(data_train[order_cat_cols])\n",
    "X_train_num = np.array(data_train[num_cols])\n",
    "X_train_cat = np.array(data_train[cat_cols])\n",
    "\n",
    "X_test_order = np.array(data_test[order_cat_cols])\n",
    "X_test_num = np.array(data_test[num_cols])\n",
    "X_test_cat = np.array(data_test[cat_cols])"
   ]
  },
  {
   "cell_type": "code",
   "execution_count": 7,
   "metadata": {},
   "outputs": [],
   "source": [
    "robust_scaler = RobustScaler()\n",
    "X_train_num_scaled = robust_scaler.fit_transform(X_train_num)\n",
    "X_test_num_scaled = robust_scaler.transform(X_test_num)"
   ]
  },
  {
   "cell_type": "code",
   "execution_count": 8,
   "metadata": {},
   "outputs": [],
   "source": [
    "X_train = np.concatenate([X_train_order, X_train_num_scaled, X_train_cat], axis = 1)\n",
    "X_test = np.concatenate([X_test_order, X_test_num_scaled, X_test_cat], axis = 1)"
   ]
  },
  {
   "cell_type": "code",
   "execution_count": 9,
   "metadata": {},
   "outputs": [
    {
     "name": "stdout",
     "output_type": "stream",
     "text": [
      "(32561, 14)\n",
      "(16281, 14)\n"
     ]
    }
   ],
   "source": [
    "print(X_train.shape)\n",
    "print(X_test.shape)"
   ]
  },
  {
   "cell_type": "code",
   "execution_count": 9,
   "metadata": {},
   "outputs": [],
   "source": [
    "k_max = round(np.sqrt(X_train.shape[0]))\n",
    "k_range = list(range(20, k_max, 3))\n",
    "param_grid = {\n",
    "    \"n_neighbors\": k_range,\n",
    "    \"weights\": [\"uniform\", \"distance\"],\n",
    "    \"metric\": [\"euclidean\", \"manhattan\"]\n",
    "}"
   ]
  },
  {
   "cell_type": "code",
   "execution_count": null,
   "metadata": {},
   "outputs": [
    {
     "name": "stdout",
     "output_type": "stream",
     "text": [
      "Fitting 5 folds for each of 216 candidates, totalling 1080 fits\n"
     ]
    },
    {
     "name": "stderr",
     "output_type": "stream",
     "text": [
      "[Parallel(n_jobs=-1)]: Using backend LokyBackend with 2 concurrent workers.\n",
      "[Parallel(n_jobs=-1)]: Done  46 tasks      | elapsed:  3.4min\n",
      "[Parallel(n_jobs=-1)]: Done 196 tasks      | elapsed: 11.2min\n",
      "[Parallel(n_jobs=-1)]: Done 446 tasks      | elapsed: 25.9min\n",
      "[Parallel(n_jobs=-1)]: Done 796 tasks      | elapsed: 47.7min\n",
      "[Parallel(n_jobs=-1)]: Done 1080 out of 1080 | elapsed: 68.4min finished\n"
     ]
    }
   ],
   "source": [
    "KNN = KNeighborsClassifier()\n",
    "GS = GridSearchCV(KNN, \n",
    "    param_grid,     \n",
    "    verbose = 1,\n",
    "    cv = 5, n_jobs = -1).fit(X_train, y_train)"
   ]
  },
  {
   "cell_type": "code",
   "execution_count": null,
   "metadata": {},
   "outputs": [
    {
     "name": "stdout",
     "output_type": "stream",
     "text": [
      "Training accuracy 0.9999692884125181\n",
      "========== Best estimator is ==========\n",
      "KNeighborsClassifier(algorithm='auto', leaf_size=30, metric='manhattan',\n",
      "                     metric_params=None, n_jobs=None, n_neighbors=50, p=2,\n",
      "                     weights='distance')\n",
      "========== CV Acc for each K ==========\n",
      "param_n_neighbors\n",
      "20     0.858850\n",
      "23     0.859587\n",
      "26     0.859303\n",
      "29     0.859495\n",
      "32     0.858880\n",
      "35     0.858950\n",
      "38     0.858497\n",
      "41     0.858236\n",
      "44     0.858220\n",
      "47     0.858604\n",
      "50     0.858435\n",
      "53     0.858182\n",
      "56     0.857967\n",
      "59     0.857283\n",
      "62     0.857214\n",
      "65     0.856754\n",
      "68     0.856316\n",
      "71     0.856139\n",
      "74     0.855510\n",
      "77     0.855510\n",
      "80     0.855425\n",
      "83     0.855264\n",
      "86     0.855433\n",
      "89     0.855387\n",
      "92     0.855418\n",
      "95     0.855157\n",
      "98     0.854965\n",
      "101    0.854896\n",
      "104    0.855034\n",
      "107    0.854980\n",
      "110    0.854765\n",
      "113    0.854420\n",
      "116    0.854258\n",
      "119    0.854212\n",
      "122    0.854258\n",
      "125    0.854135\n",
      "128    0.854143\n",
      "131    0.853652\n",
      "134    0.853882\n",
      "137    0.853744\n",
      "140    0.853283\n",
      "143    0.852961\n",
      "146    0.852753\n",
      "149    0.852838\n",
      "152    0.852339\n",
      "155    0.852262\n",
      "158    0.851832\n",
      "161    0.852055\n",
      "164    0.852109\n",
      "167    0.852085\n",
      "170    0.851909\n",
      "173    0.851986\n",
      "176    0.851909\n",
      "179    0.851786\n",
      "Name: mean_test_score, dtype: float64\n"
     ]
    },
    {
     "data": {
      "image/png": "[encoded data removed]",
      "text/plain": [
       "<Figure size 432x288 with 1 Axes>"
      ]
     },
     "metadata": {},
     "output_type": "display_data"
    }
   ],
   "source": [
    "print(f\"Training accuracy {GS.score(X_train, y_train)}\")\n",
    "print(\"=\"*10, \"Best estimator is\", \"=\"*10)\n",
    "print(GS.best_estimator_)\n",
    "\n",
    "GS_result = pd.DataFrame(GS.cv_results_)\n",
    "print(\"=\"*10, \"CV Acc for each K\", \"=\"*10)\n",
    "print(GS_result.groupby([\"param_n_neighbors\"])['mean_test_score'].mean())\n",
    "\n",
    "k_idx = GS_result.groupby([\"param_n_neighbors\"])['mean_test_score'].mean().index\n",
    "acc = GS_result.groupby([\"param_n_neighbors\"])['mean_test_score'].mean().values\n",
    "\n",
    "plt.plot(k_idx, acc)\n",
    "plt.xlabel('Value of K for KNN')\n",
    "plt.ylabel('Cross-Validated Accuracy')\n",
    "plt.show()"
   ]
  },
  {
   "cell_type": "markdown",
   "metadata": {},
   "source": [
    "# Selected featuers\n",
    "- Numerical features\n",
    "    - robust scaler (do not scale `education_num`)\n",
    "- Categorical\n",
    "    - target encoding (sum)"
   ]
  },
  {
   "cell_type": "code",
   "execution_count": 23,
   "metadata": {},
   "outputs": [],
   "source": [
    "num_cols = [\"age\", \"fnlwgt\", \"capital_gain\", \"capital_loss\", \"hours_per_week\"]\n",
    "order_cat_cols = [\"education_num\"]\n",
    "cat_cols = [\"workclass\", \"education\", \"marital_status\", \"occupation\", \"relationship\", \"race\", \"sex\", \"native_country\"]\n",
    "\n",
    "#use training data's frequency to apply on training and testing dataset\n",
    "for col in cat_cols:\n",
    "    target_ratio = data_train[[col, \"income\"]].groupby([col]).sum()\n",
    "    data_train[col] = data_train[col].apply(lambda x: target_ratio[\"income\"][x])\n",
    "    data_test[col] = data_test[col].apply(lambda x: target_ratio[\"income\"][x])"
   ]
  },
  {
   "cell_type": "code",
   "execution_count": 24,
   "metadata": {},
   "outputs": [],
   "source": [
    "y_train = data_train[\"income\"]\n",
    "\n",
    "X_train_order = np.array(data_train[order_cat_cols])\n",
    "X_train_num = np.array(data_train[num_cols])\n",
    "X_train_cat = np.array(data_train[cat_cols])\n",
    "\n",
    "X_test_order = np.array(data_test[order_cat_cols])\n",
    "X_test_num = np.array(data_test[num_cols])\n",
    "X_test_cat = np.array(data_test[cat_cols])"
   ]
  },
  {
   "cell_type": "code",
   "execution_count": 25,
   "metadata": {},
   "outputs": [],
   "source": [
    "robust_scaler = RobustScaler()\n",
    "X_train_num_scaled = robust_scaler.fit_transform(X_train_num)\n",
    "X_test_num_scaled = robust_scaler.transform(X_test_num)"
   ]
  },
  {
   "cell_type": "code",
   "execution_count": 26,
   "metadata": {},
   "outputs": [],
   "source": [
    "X_train = np.concatenate([X_train_order, X_train_num_scaled, X_train_cat], axis = 1)\n",
    "X_test = np.concatenate([X_test_order, X_test_num_scaled, X_test_cat], axis = 1)"
   ]
  },
  {
   "cell_type": "code",
   "execution_count": 27,
   "metadata": {},
   "outputs": [
    {
     "name": "stdout",
     "output_type": "stream",
     "text": [
      "(32561, 14)\n",
      "(16281, 14)\n"
     ]
    }
   ],
   "source": [
    "print(X_train.shape)\n",
    "print(X_test.shape)"
   ]
  },
  {
   "cell_type": "code",
   "execution_count": 28,
   "metadata": {},
   "outputs": [],
   "source": [
    "k_max = 100\n",
    "k_range = list(range(20, k_max, 3))\n",
    "param_grid = {\n",
    "    \"n_neighbors\": k_range,\n",
    "    \"weights\": [\"uniform\", \"distance\"],\n",
    "    \"metric\": [\"euclidean\", \"manhattan\"]\n",
    "}"
   ]
  },
  {
   "cell_type": "code",
   "execution_count": 29,
   "metadata": {},
   "outputs": [
    {
     "name": "stdout",
     "output_type": "stream",
     "text": [
      "Fitting 5 folds for each of 108 candidates, totalling 540 fits\n"
     ]
    },
    {
     "name": "stderr",
     "output_type": "stream",
     "text": [
      "[Parallel(n_jobs=-1)]: Using backend LokyBackend with 2 concurrent workers.\n",
      "[Parallel(n_jobs=-1)]: Done  46 tasks      | elapsed:  2.8min\n",
      "[Parallel(n_jobs=-1)]: Done 196 tasks      | elapsed: 12.3min\n",
      "[Parallel(n_jobs=-1)]: Done 446 tasks      | elapsed: 29.4min\n",
      "[Parallel(n_jobs=-1)]: Done 540 out of 540 | elapsed: 36.2min finished\n"
     ]
    }
   ],
   "source": [
    "KNN = KNeighborsClassifier()\n",
    "GS = GridSearchCV(KNN, \n",
    "    param_grid,     \n",
    "    verbose = 1,\n",
    "    cv = 5, n_jobs = -1).fit(X_train, y_train)"
   ]
  },
  {
   "cell_type": "code",
   "execution_count": 30,
   "metadata": {},
   "outputs": [
    {
     "name": "stdout",
     "output_type": "stream",
     "text": [
      "Training accuracy 0.8629341850680262\n",
      "========== Best estimator is ==========\n",
      "KNeighborsClassifier(algorithm='auto', leaf_size=30, metric='manhattan',\n",
      "                     metric_params=None, n_jobs=None, n_neighbors=20, p=2,\n",
      "                     weights='uniform')\n",
      "========== CV Acc for each K ==========\n",
      "param_n_neighbors\n",
      "20    0.847310\n",
      "23    0.846619\n",
      "26    0.846657\n",
      "29    0.845882\n",
      "32    0.845820\n",
      "35    0.845997\n",
      "38    0.846396\n",
      "41    0.846273\n",
      "44    0.845644\n",
      "47    0.845920\n",
      "50    0.845859\n",
      "53    0.845552\n",
      "56    0.845436\n",
      "59    0.845298\n",
      "62    0.845529\n",
      "65    0.845206\n",
      "68    0.845168\n",
      "71    0.845198\n",
      "74    0.845214\n",
      "77    0.845521\n",
      "80    0.845275\n",
      "83    0.844976\n",
      "86    0.844500\n",
      "89    0.844431\n",
      "92    0.843985\n",
      "95    0.843686\n",
      "98    0.843724\n",
      "Name: mean_test_score, dtype: float64\n"
     ]
    },
    {
     "data": {
      "image/png": "[encoded data removed]",
      "text/plain": [
       "<Figure size 432x288 with 1 Axes>"
      ]
     },
     "metadata": {
      "needs_background": "light"
     },
     "output_type": "display_data"
    }
   ],
   "source": [
    "print(f\"Training accuracy {GS.score(X_train, y_train)}\")\n",
    "print(\"=\"*10, \"Best estimator is\", \"=\"*10)\n",
    "print(GS.best_estimator_)\n",
    "\n",
    "GS_result = pd.DataFrame(GS.cv_results_)\n",
    "print(\"=\"*10, \"CV Acc for each K\", \"=\"*10)\n",
    "print(GS_result.groupby([\"param_n_neighbors\"])['mean_test_score'].mean())\n",
    "\n",
    "k_idx = GS_result.groupby([\"param_n_neighbors\"])['mean_test_score'].mean().index\n",
    "acc = GS_result.groupby([\"param_n_neighbors\"])['mean_test_score'].mean().values\n",
    "\n",
    "plt.plot(k_idx, acc)\n",
    "plt.xlabel('Value of K for KNN')\n",
    "plt.ylabel('Cross-Validated Accuracy')\n",
    "plt.show()"
   ]
  },
  {
   "cell_type": "markdown",
   "metadata": {},
   "source": [
    "# Random forest"
   ]
  },
  {
   "cell_type": "markdown",
   "metadata": {},
   "source": [
    "# Selected featuers\n",
    "- Numerical features\n",
    "    - robust scaler (do not scale `education_num`)\n",
    "- Categorical\n",
    "    - frequency encoding (mean)"
   ]
  },
  {
   "cell_type": "code",
   "execution_count": 71,
   "metadata": {},
   "outputs": [],
   "source": [
    "num_cols = [\"age\", \"fnlwgt\", \"capital_gain\", \"capital_loss\", \"hours_per_week\"]\n",
    "order_cat_cols = [\"education_num\"]\n",
    "cat_cols = [\"workclass\", \"education\", \"marital_status\", \"occupation\", \"relationship\", \"race\", \"sex\", \"native_country\"]\n",
    "\n",
    "#use training data's frequency to apply on training and testing dataset\n",
    "for col in cat_cols:\n",
    "    cat_ratio = data_train.groupby([col]).size() / len(data_train)\n",
    "    data_train[col] = data_train[col].apply(lambda x: cat_ratio[x])\n",
    "    data_test[col] = data_test[col].apply(lambda x: cat_ratio[x])"
   ]
  },
  {
   "cell_type": "code",
   "execution_count": 72,
   "metadata": {},
   "outputs": [],
   "source": [
    "y_train = data_train[\"income\"]\n",
    "\n",
    "X_train_order = np.array(data_train[order_cat_cols])\n",
    "X_train_num = np.array(data_train[num_cols])\n",
    "X_train_cat = np.array(data_train[cat_cols])\n",
    "\n",
    "X_test_order = np.array(data_test[order_cat_cols])\n",
    "X_test_num = np.array(data_test[num_cols])\n",
    "X_test_cat = np.array(data_test[cat_cols])"
   ]
  },
  {
   "cell_type": "code",
   "execution_count": 73,
   "metadata": {},
   "outputs": [],
   "source": [
    "robust_scaler = RobustScaler()\n",
    "X_train_num_scaled = robust_scaler.fit_transform(X_train_num)\n",
    "X_test_num_scaled = robust_scaler.transform(X_test_num)"
   ]
  },
  {
   "cell_type": "code",
   "execution_count": 74,
   "metadata": {},
   "outputs": [],
   "source": [
    "X_train = np.concatenate([X_train_order, X_train_num_scaled, X_train_cat], axis = 1)\n",
    "X_test = np.concatenate([X_test_order, X_test_num_scaled, X_test_cat], axis = 1)"
   ]
  },
  {
   "cell_type": "code",
   "execution_count": 75,
   "metadata": {},
   "outputs": [
    {
     "name": "stdout",
     "output_type": "stream",
     "text": [
      "(32561, 14)\n",
      "(16281, 14)\n"
     ]
    }
   ],
   "source": [
    "print(X_train.shape)\n",
    "print(X_test.shape)"
   ]
  },
  {
   "cell_type": "code",
   "execution_count": 76,
   "metadata": {},
   "outputs": [
    {
     "name": "stdout",
     "output_type": "stream",
     "text": [
      "{'n_estimators': [100, 137, 175, 212, 250], 'max_depth': [5, 6, 7, 8, 9, 10], 'min_samples_split': [2, 5], 'min_samples_leaf': [1, 2, 4], 'oob_score': [True]}\n"
     ]
    }
   ],
   "source": [
    "# Number of trees in random forest\n",
    "n_estimators = [int(x) for x in np.linspace(start = 100, stop = 250, num = 5)]\n",
    "# Maximum number of levels in tree\n",
    "max_depth = [int(x) for x in np.linspace(5, 10, num = 6)]\n",
    "# Minimum number of samples required to split a node\n",
    "min_samples_split = [2, 5]\n",
    "# Minimum number of samples required at each leaf node\n",
    "min_samples_leaf = [1, 2, 4]\n",
    "params_grid = {'n_estimators': n_estimators,\n",
    "               'max_depth': max_depth,\n",
    "               'min_samples_split': min_samples_split,\n",
    "               'min_samples_leaf': min_samples_leaf,\n",
    "               'oob_score': [True]}\n",
    "print(params_grid)"
   ]
  },
  {
   "cell_type": "code",
   "execution_count": 79,
   "metadata": {},
   "outputs": [
    {
     "name": "stdout",
     "output_type": "stream",
     "text": [
      "Fitting 5 folds for each of 180 candidates, totalling 900 fits\n"
     ]
    },
    {
     "name": "stderr",
     "output_type": "stream",
     "text": [
      "[Parallel(n_jobs=-1)]: Using backend LokyBackend with 2 concurrent workers.\n",
      "[Parallel(n_jobs=-1)]: Done  37 tasks      | elapsed:  1.7min\n",
      "[Parallel(n_jobs=-1)]: Done 158 tasks      | elapsed:  7.6min\n",
      "[Parallel(n_jobs=-1)]: Done 361 tasks      | elapsed: 18.5min\n"
     ]
    }
   ],
   "source": [
    "RFC = RandomForestClassifier(random_state = 201)\n",
    "RFC_CV = GridSearchCV(estimator = RFC, param_grid = params_grid, cv = 5, verbose = 2, n_jobs = -1)\n",
    "RFC_CV.fit(X_train, y_train)"
   ]
  },
  {
   "cell_type": "code",
   "execution_count": null,
   "metadata": {},
   "outputs": [
    {
     "name": "stdout",
     "output_type": "stream",
     "text": [
      "Training Accuracy = 82.1136%\n"
     ]
    },
    {
     "data": {
      "text/plain": [
       "RandomForestClassifier(bootstrap=True, ccp_alpha=0.0, class_weight=None,\n",
       "                       criterion='gini', max_depth=10, max_features='auto',\n",
       "                       max_leaf_nodes=None, max_samples=None,\n",
       "                       min_impurity_decrease=0.0, min_impurity_split=None,\n",
       "                       min_samples_leaf=1, min_samples_split=2,\n",
       "                       min_weight_fraction_leaf=0.0, n_estimators=212,\n",
       "                       n_jobs=None, oob_score=True, random_state=201, verbose=0,\n",
       "                       warm_start=False)"
      ]
     },
     "execution_count": 77,
     "metadata": {},
     "output_type": "execute_result"
    }
   ],
   "source": [
    "print(f\"Training Accuracy = {round(RFC_CV.score(X_train, y_train) * 100, 4)}%\")\n",
    "RFC_CV.best_estimator_"
   ]
  },
  {
   "cell_type": "code",
   "execution_count": null,
   "metadata": {},
   "outputs": [
    {
     "data": {
      "text/html": [
       "<div>\n",
       "<style scoped>\n",
       "    .dataframe tbody tr th:only-of-type {\n",
       "        vertical-align: middle;\n",
       "    }\n",
       "\n",
       "    .dataframe tbody tr th {\n",
       "        vertical-align: top;\n",
       "    }\n",
       "\n",
       "    .dataframe thead th {\n",
       "        text-align: right;\n",
       "    }\n",
       "</style>\n",
       "<table border=\"1\" class=\"dataframe\">\n",
       "  <thead>\n",
       "    <tr style=\"text-align: right;\">\n",
       "      <th></th>\n",
       "      <th>mean_fit_time</th>\n",
       "      <th>std_fit_time</th>\n",
       "      <th>mean_score_time</th>\n",
       "      <th>std_score_time</th>\n",
       "      <th>param_max_depth</th>\n",
       "      <th>param_min_samples_leaf</th>\n",
       "      <th>param_min_samples_split</th>\n",
       "      <th>param_n_estimators</th>\n",
       "      <th>param_oob_score</th>\n",
       "      <th>params</th>\n",
       "      <th>split0_test_score</th>\n",
       "      <th>split1_test_score</th>\n",
       "      <th>split2_test_score</th>\n",
       "      <th>split3_test_score</th>\n",
       "      <th>split4_test_score</th>\n",
       "      <th>mean_test_score</th>\n",
       "      <th>std_test_score</th>\n",
       "      <th>rank_test_score</th>\n",
       "    </tr>\n",
       "  </thead>\n",
       "  <tbody>\n",
       "    <tr>\n",
       "      <th>153</th>\n",
       "      <td>9.672122</td>\n",
       "      <td>0.08862</td>\n",
       "      <td>0.347762</td>\n",
       "      <td>0.042471</td>\n",
       "      <td>10</td>\n",
       "      <td>1</td>\n",
       "      <td>2</td>\n",
       "      <td>212</td>\n",
       "      <td>True</td>\n",
       "      <td>{'max_depth': 10, 'min_samples_leaf': 1, 'min_...</td>\n",
       "      <td>0.858744</td>\n",
       "      <td>0.864097</td>\n",
       "      <td>0.86594</td>\n",
       "      <td>0.868857</td>\n",
       "      <td>0.866554</td>\n",
       "      <td>0.864838</td>\n",
       "      <td>0.003406</td>\n",
       "      <td>1</td>\n",
       "    </tr>\n",
       "  </tbody>\n",
       "</table>\n",
       "</div>"
      ],
      "text/plain": [
       "     mean_fit_time  std_fit_time  ...  std_test_score  rank_test_score\n",
       "153       9.672122       0.08862  ...        0.003406                1\n",
       "\n",
       "[1 rows x 18 columns]"
      ]
     },
     "execution_count": 78,
     "metadata": {},
     "output_type": "execute_result"
    }
   ],
   "source": [
    "RFC_CV_result = pd.DataFrame(RFC_CV.cv_results_)\n",
    "RFC_CV_result[RFC_CV_result[\"rank_test_score\"] == 1]"
   ]
  },
  {
   "cell_type": "code",
   "execution_count": null,
   "metadata": {},
   "outputs": [],
   "source": [
    "with open('model/RFC_CV_1027_3.pickle', 'wb') as f:\n",
    "    pickle.dump(RFC_CV, f)"
   ]
  },
  {
   "cell_type": "markdown",
   "metadata": {},
   "source": [
    "# Selected featuers\n",
    "- Numerical features\n",
    "    - robust scaler (do not scale `education_num`)\n",
    "- Categorical\n",
    "    - target encoding (sum)"
   ]
  },
  {
   "cell_type": "code",
   "execution_count": 19,
   "metadata": {},
   "outputs": [],
   "source": [
    "num_cols = [\"age\", \"fnlwgt\", \"capital_gain\", \"capital_loss\", \"hours_per_week\"]\n",
    "order_cat_cols = [\"education_num\"]\n",
    "cat_cols = [\"workclass\", \"education\", \"marital_status\", \"occupation\", \"relationship\", \"race\", \"sex\", \"native_country\"]\n",
    "\n",
    "#use training data's frequency to apply on training and testing dataset\n",
    "for col in cat_cols:\n",
    "    target_ratio = data_train[[col, \"income\"]].groupby([col]).sum()\n",
    "    data_train[col] = data_train[col].apply(lambda x: target_ratio[\"income\"][x])\n",
    "    data_test[col] = data_test[col].apply(lambda x: target_ratio[\"income\"][x])"
   ]
  },
  {
   "cell_type": "code",
   "execution_count": 20,
   "metadata": {},
   "outputs": [],
   "source": [
    "y_train = data_train[\"income\"]\n",
    "\n",
    "X_train_order = np.array(data_train[order_cat_cols])\n",
    "X_train_num = np.array(data_train[num_cols])\n",
    "X_train_cat = np.array(data_train[cat_cols])\n",
    "\n",
    "X_test_order = np.array(data_test[order_cat_cols])\n",
    "X_test_num = np.array(data_test[num_cols])\n",
    "X_test_cat = np.array(data_test[cat_cols])"
   ]
  },
  {
   "cell_type": "code",
   "execution_count": 21,
   "metadata": {},
   "outputs": [],
   "source": [
    "robust_scaler = RobustScaler()\n",
    "X_train_num_scaled = robust_scaler.fit_transform(X_train_num)\n",
    "X_test_num_scaled = robust_scaler.transform(X_test_num)"
   ]
  },
  {
   "cell_type": "code",
   "execution_count": 22,
   "metadata": {},
   "outputs": [],
   "source": [
    "X_train = np.concatenate([X_train_order, X_train_num_scaled, X_train_cat], axis = 1)\n",
    "X_test = np.concatenate([X_test_order, X_test_num_scaled, X_test_cat], axis = 1)"
   ]
  },
  {
   "cell_type": "code",
   "execution_count": 23,
   "metadata": {},
   "outputs": [
    {
     "name": "stdout",
     "output_type": "stream",
     "text": [
      "(32561, 14)\n",
      "(16281, 14)\n"
     ]
    }
   ],
   "source": [
    "print(X_train.shape)\n",
    "print(X_test.shape)"
   ]
  },
  {
   "cell_type": "code",
   "execution_count": 39,
   "metadata": {},
   "outputs": [
    {
     "name": "stdout",
     "output_type": "stream",
     "text": [
      "{'n_estimators': [100, 137, 175, 212, 250], 'max_depth': [5, 6, 7, 8, 9, 10], 'min_samples_split': [2, 5], 'min_samples_leaf': [1, 2, 4], 'oob_score': [True]}\n"
     ]
    }
   ],
   "source": [
    "# Number of trees in random forest\n",
    "n_estimators = [int(x) for x in np.linspace(start = 100, stop = 250, num = 5)]\n",
    "# Maximum number of levels in tree\n",
    "max_depth = [int(x) for x in np.linspace(5, 10, num = 6)]\n",
    "# Minimum number of samples required to split a node\n",
    "min_samples_split = [2, 5]\n",
    "# Minimum number of samples required at each leaf node\n",
    "min_samples_leaf = [1, 2, 4]\n",
    "params_grid = {'n_estimators': n_estimators,\n",
    "               'max_depth': max_depth,\n",
    "               'min_samples_split': min_samples_split,\n",
    "               'min_samples_leaf': min_samples_leaf,\n",
    "               'oob_score': [True]}\n",
    "print(params_grid)"
   ]
  },
  {
   "cell_type": "code",
   "execution_count": 40,
   "metadata": {},
   "outputs": [
    {
     "name": "stdout",
     "output_type": "stream",
     "text": [
      "Fitting 5 folds for each of 180 candidates, totalling 900 fits\n"
     ]
    },
    {
     "name": "stderr",
     "output_type": "stream",
     "text": [
      "[Parallel(n_jobs=-1)]: Using backend LokyBackend with 2 concurrent workers.\n",
      "[Parallel(n_jobs=-1)]: Done  37 tasks      | elapsed:  1.7min\n",
      "[Parallel(n_jobs=-1)]: Done 158 tasks      | elapsed:  7.4min\n",
      "[Parallel(n_jobs=-1)]: Done 361 tasks      | elapsed: 18.2min\n",
      "[Parallel(n_jobs=-1)]: Done 644 tasks      | elapsed: 35.3min\n",
      "[Parallel(n_jobs=-1)]: Done 900 out of 900 | elapsed: 52.7min finished\n"
     ]
    },
    {
     "data": {
      "text/plain": [
       "GridSearchCV(cv=5, error_score=nan,\n",
       "             estimator=RandomForestClassifier(bootstrap=True, ccp_alpha=0.0,\n",
       "                                              class_weight=None,\n",
       "                                              criterion='gini', max_depth=None,\n",
       "                                              max_features='auto',\n",
       "                                              max_leaf_nodes=None,\n",
       "                                              max_samples=None,\n",
       "                                              min_impurity_decrease=0.0,\n",
       "                                              min_impurity_split=None,\n",
       "                                              min_samples_leaf=1,\n",
       "                                              min_samples_split=2,\n",
       "                                              min_weight_fraction_leaf=0.0,\n",
       "                                              n_estimators=100, n_jobs=None,\n",
       "                                              oob_score=False, random_state=201,\n",
       "                                              verbose=0, warm_start=False),\n",
       "             iid='deprecated', n_jobs=-1,\n",
       "             param_grid={'max_depth': [5, 6, 7, 8, 9, 10],\n",
       "                         'min_samples_leaf': [1, 2, 4],\n",
       "                         'min_samples_split': [2, 5],\n",
       "                         'n_estimators': [100, 137, 175, 212, 250],\n",
       "                         'oob_score': [True]},\n",
       "             pre_dispatch='2*n_jobs', refit=True, return_train_score=False,\n",
       "             scoring=None, verbose=2)"
      ]
     },
     "execution_count": 40,
     "metadata": {},
     "output_type": "execute_result"
    }
   ],
   "source": [
    "RFC = RandomForestClassifier(random_state = 201)\n",
    "RFC_CV = GridSearchCV(estimator = RFC, param_grid = params_grid, cv = 5, verbose = 2, n_jobs = -1)\n",
    "RFC_CV.fit(X_train, y_train)"
   ]
  },
  {
   "cell_type": "code",
   "execution_count": 41,
   "metadata": {},
   "outputs": [
    {
     "name": "stdout",
     "output_type": "stream",
     "text": [
      "Training Accuracy = 87.2547%\n"
     ]
    }
   ],
   "source": [
    "print(f\"Training Accuracy = {round(RFC_CV.score(X_train, y_train) * 100, 4)}%\")"
   ]
  },
  {
   "cell_type": "code",
   "execution_count": 44,
   "metadata": {},
   "outputs": [
    {
     "data": {
      "text/plain": [
       "RandomForestClassifier(bootstrap=True, ccp_alpha=0.0, class_weight=None,\n",
       "                       criterion='gini', max_depth=10, max_features='auto',\n",
       "                       max_leaf_nodes=None, max_samples=None,\n",
       "                       min_impurity_decrease=0.0, min_impurity_split=None,\n",
       "                       min_samples_leaf=1, min_samples_split=5,\n",
       "                       min_weight_fraction_leaf=0.0, n_estimators=212,\n",
       "                       n_jobs=None, oob_score=True, random_state=201, verbose=0,\n",
       "                       warm_start=False)"
      ]
     },
     "execution_count": 44,
     "metadata": {},
     "output_type": "execute_result"
    }
   ],
   "source": [
    "RFC_CV.best_estimator_"
   ]
  },
  {
   "cell_type": "code",
   "execution_count": 51,
   "metadata": {},
   "outputs": [
    {
     "data": {
      "text/html": [
       "<div>\n",
       "<style scoped>\n",
       "    .dataframe tbody tr th:only-of-type {\n",
       "        vertical-align: middle;\n",
       "    }\n",
       "\n",
       "    .dataframe tbody tr th {\n",
       "        vertical-align: top;\n",
       "    }\n",
       "\n",
       "    .dataframe thead th {\n",
       "        text-align: right;\n",
       "    }\n",
       "</style>\n",
       "<table border=\"1\" class=\"dataframe\">\n",
       "  <thead>\n",
       "    <tr style=\"text-align: right;\">\n",
       "      <th></th>\n",
       "      <th>mean_fit_time</th>\n",
       "      <th>std_fit_time</th>\n",
       "      <th>mean_score_time</th>\n",
       "      <th>std_score_time</th>\n",
       "      <th>param_metric</th>\n",
       "      <th>param_n_neighbors</th>\n",
       "      <th>param_weights</th>\n",
       "      <th>params</th>\n",
       "      <th>split0_test_score</th>\n",
       "      <th>split1_test_score</th>\n",
       "      <th>split2_test_score</th>\n",
       "      <th>split3_test_score</th>\n",
       "      <th>split4_test_score</th>\n",
       "      <th>mean_test_score</th>\n",
       "      <th>std_test_score</th>\n",
       "      <th>rank_test_score</th>\n",
       "    </tr>\n",
       "  </thead>\n",
       "  <tbody>\n",
       "    <tr>\n",
       "      <th>54</th>\n",
       "      <td>2.550517</td>\n",
       "      <td>0.23744</td>\n",
       "      <td>4.96541</td>\n",
       "      <td>0.031826</td>\n",
       "      <td>manhattan</td>\n",
       "      <td>20</td>\n",
       "      <td>uniform</td>\n",
       "      <td>{'metric': 'manhattan', 'n_neighbors': 20, 'we...</td>\n",
       "      <td>0.843851</td>\n",
       "      <td>0.848894</td>\n",
       "      <td>0.849662</td>\n",
       "      <td>0.854883</td>\n",
       "      <td>0.850737</td>\n",
       "      <td>0.849606</td>\n",
       "      <td>0.003543</td>\n",
       "      <td>1</td>\n",
       "    </tr>\n",
       "  </tbody>\n",
       "</table>\n",
       "</div>"
      ],
      "text/plain": [
       "    mean_fit_time  std_fit_time  ...  std_test_score  rank_test_score\n",
       "54       2.550517       0.23744  ...        0.003543                1\n",
       "\n",
       "[1 rows x 16 columns]"
      ]
     },
     "execution_count": 51,
     "metadata": {},
     "output_type": "execute_result"
    }
   ],
   "source": [
    "RFC_CV_result = pd.DataFrame(RFC_CV.cv_results_)\n",
    "RFC_CV_result[RFC_CV_result[\"rank_test_score\"] == 1]"
   ]
  },
  {
   "cell_type": "code",
   "execution_count": 43,
   "metadata": {},
   "outputs": [],
   "source": [
    "with open('model/RFC_CV_1027.pickle', 'wb') as f:\n",
    "    pickle.dump(RFC_CV, f)"
   ]
  },
  {
   "cell_type": "code",
   "execution_count": 15,
   "metadata": {},
   "outputs": [],
   "source": [
    "loaded_model = pickle.load(open(\"model/RFC_CV_1027.pickle\", 'rb'))"
   ]
  },
  {
   "cell_type": "code",
   "execution_count": 26,
   "metadata": {},
   "outputs": [
    {
     "name": "stdout",
     "output_type": "stream",
     "text": [
      "Before hard labeling, ratio of income >50K = 0.16798722437196734\n",
      "After hard labeling, ratio of income >50K = 0.1679258030833487\n"
     ]
    }
   ],
   "source": [
    "y_pred = loaded_model.predict(X_test)\n",
    "print(f\"Before hard labeling, ratio of income >50K = {y_pred.sum() / y_pred.shape[0]}\")\n",
    "y_pred_2 = set_sepcial_observation(y_pred, special_index)\n",
    "print(f\"After hard labeling, ratio of income >50K = {y_pred_2.sum() / y_pred.shape[0]}\")"
   ]
  },
  {
   "cell_type": "code",
   "execution_count": 27,
   "metadata": {},
   "outputs": [],
   "source": [
    "file_name = 'submission_1028_1.csv'\n",
    "write_to_csv(y_pred, file_name)\n",
    "file_name = 'submission_1028_2.csv'\n",
    "write_to_csv(y_pred_2, file_name)"
   ]
  },
  {
   "cell_type": "markdown",
   "metadata": {},
   "source": [
    "# Selected featuers\n",
    "- Numerical features\n",
    "    - robust scaler (do not scale `education_num`)\n",
    "- Categorical\n",
    "    - target encoding (mean)"
   ]
  },
  {
   "cell_type": "code",
   "execution_count": 17,
   "metadata": {},
   "outputs": [],
   "source": [
    "num_cols = [\"age\", \"fnlwgt\", \"capital_gain\", \"capital_loss\", \"hours_per_week\"]\n",
    "order_cat_cols = [\"education_num\"]\n",
    "cat_cols = [\"workclass\", \"education\", \"marital_status\", \"occupation\", \"relationship\", \"race\", \"sex\", \"native_country\"]\n",
    "\n",
    "#use training data's frequency to apply on training and testing dataset\n",
    "for col in cat_cols:\n",
    "    target_ratio = data_train[[col, \"income\"]].groupby([col]).mean()\n",
    "    data_train[col] = data_train[col].apply(lambda x: target_ratio[\"income\"][x])\n",
    "    data_test[col] = data_test[col].apply(lambda x: target_ratio[\"income\"][x])"
   ]
  },
  {
   "cell_type": "code",
   "execution_count": 18,
   "metadata": {},
   "outputs": [],
   "source": [
    "y_train = data_train[\"income\"]\n",
    "\n",
    "X_train_order = np.array(data_train[order_cat_cols])\n",
    "X_train_num = np.array(data_train[num_cols])\n",
    "X_train_cat = np.array(data_train[cat_cols])\n",
    "\n",
    "X_test_order = np.array(data_test[order_cat_cols])\n",
    "X_test_num = np.array(data_test[num_cols])\n",
    "X_test_cat = np.array(data_test[cat_cols])"
   ]
  },
  {
   "cell_type": "code",
   "execution_count": 19,
   "metadata": {},
   "outputs": [],
   "source": [
    "robust_scaler = RobustScaler()\n",
    "X_train_num_scaled = robust_scaler.fit_transform(X_train_num)\n",
    "X_test_num_scaled = robust_scaler.transform(X_test_num)"
   ]
  },
  {
   "cell_type": "code",
   "execution_count": 20,
   "metadata": {},
   "outputs": [],
   "source": [
    "X_train = np.concatenate([X_train_order, X_train_num_scaled, X_train_cat], axis = 1)\n",
    "X_test = np.concatenate([X_test_order, X_test_num_scaled, X_test_cat], axis = 1)"
   ]
  },
  {
   "cell_type": "code",
   "execution_count": 21,
   "metadata": {},
   "outputs": [
    {
     "name": "stdout",
     "output_type": "stream",
     "text": [
      "(32561, 14)\n",
      "(16281, 14)\n"
     ]
    }
   ],
   "source": [
    "print(X_train.shape)\n",
    "print(X_test.shape)"
   ]
  },
  {
   "cell_type": "code",
   "execution_count": 22,
   "metadata": {},
   "outputs": [
    {
     "name": "stdout",
     "output_type": "stream",
     "text": [
      "{'n_estimators': [100, 137, 175, 212, 250], 'max_depth': [5, 6, 7, 8, 9, 10], 'min_samples_split': [2, 5], 'min_samples_leaf': [1, 2, 4], 'oob_score': [True]}\n"
     ]
    }
   ],
   "source": [
    "# Number of trees in random forest\n",
    "n_estimators = [int(x) for x in np.linspace(start = 100, stop = 250, num = 5)]\n",
    "# Maximum number of levels in tree\n",
    "max_depth = [int(x) for x in np.linspace(5, 10, num = 6)]\n",
    "# Minimum number of samples required to split a node\n",
    "min_samples_split = [2, 5]\n",
    "# Minimum number of samples required at each leaf node\n",
    "min_samples_leaf = [1, 2, 4]\n",
    "params_grid = {'n_estimators': n_estimators,\n",
    "               'max_depth': max_depth,\n",
    "               'min_samples_split': min_samples_split,\n",
    "               'min_samples_leaf': min_samples_leaf,\n",
    "               'oob_score': [True]}\n",
    "print(params_grid)"
   ]
  },
  {
   "cell_type": "code",
   "execution_count": 23,
   "metadata": {},
   "outputs": [
    {
     "name": "stdout",
     "output_type": "stream",
     "text": [
      "Fitting 5 folds for each of 180 candidates, totalling 900 fits\n"
     ]
    },
    {
     "name": "stderr",
     "output_type": "stream",
     "text": [
      "[Parallel(n_jobs=-1)]: Using backend LokyBackend with 2 concurrent workers.\n",
      "[Parallel(n_jobs=-1)]: Done  37 tasks      | elapsed:  1.2min\n",
      "[Parallel(n_jobs=-1)]: Done 158 tasks      | elapsed:  5.3min\n",
      "[Parallel(n_jobs=-1)]: Done 361 tasks      | elapsed: 13.0min\n",
      "[Parallel(n_jobs=-1)]: Done 644 tasks      | elapsed: 25.0min\n",
      "[Parallel(n_jobs=-1)]: Done 900 out of 900 | elapsed: 37.1min finished\n"
     ]
    },
    {
     "data": {
      "text/plain": [
       "GridSearchCV(cv=5, error_score=nan,\n",
       "             estimator=RandomForestClassifier(bootstrap=True, ccp_alpha=0.0,\n",
       "                                              class_weight=None,\n",
       "                                              criterion='gini', max_depth=None,\n",
       "                                              max_features='auto',\n",
       "                                              max_leaf_nodes=None,\n",
       "                                              max_samples=None,\n",
       "                                              min_impurity_decrease=0.0,\n",
       "                                              min_impurity_split=None,\n",
       "                                              min_samples_leaf=1,\n",
       "                                              min_samples_split=2,\n",
       "                                              min_weight_fraction_leaf=0.0,\n",
       "                                              n_estimators=100, n_jobs=None,\n",
       "                                              oob_score=False, random_state=201,\n",
       "                                              verbose=0, warm_start=False),\n",
       "             iid='deprecated', n_jobs=-1,\n",
       "             param_grid={'max_depth': [5, 6, 7, 8, 9, 10],\n",
       "                         'min_samples_leaf': [1, 2, 4],\n",
       "                         'min_samples_split': [2, 5],\n",
       "                         'n_estimators': [100, 137, 175, 212, 250],\n",
       "                         'oob_score': [True]},\n",
       "             pre_dispatch='2*n_jobs', refit=True, return_train_score=False,\n",
       "             scoring=None, verbose=2)"
      ]
     },
     "execution_count": 23,
     "metadata": {},
     "output_type": "execute_result"
    }
   ],
   "source": [
    "RFC = RandomForestClassifier(random_state = 201)\n",
    "RFC_CV = GridSearchCV(estimator = RFC, param_grid = params_grid, cv = 5, verbose = 2, n_jobs = -1)\n",
    "RFC_CV.fit(X_train, y_train)"
   ]
  },
  {
   "cell_type": "code",
   "execution_count": 28,
   "metadata": {},
   "outputs": [
    {
     "name": "stdout",
     "output_type": "stream",
     "text": [
      "Training Accuracy = 87.7215%\n"
     ]
    }
   ],
   "source": [
    "print(f\"Training Accuracy = {round(RFC_CV.score(X_train, y_train) * 100, 4)}%\")"
   ]
  },
  {
   "cell_type": "code",
   "execution_count": 25,
   "metadata": {},
   "outputs": [
    {
     "data": {
      "text/plain": [
       "RandomForestClassifier(bootstrap=True, ccp_alpha=0.0, class_weight=None,\n",
       "                       criterion='gini', max_depth=10, max_features='auto',\n",
       "                       max_leaf_nodes=None, max_samples=None,\n",
       "                       min_impurity_decrease=0.0, min_impurity_split=None,\n",
       "                       min_samples_leaf=1, min_samples_split=2,\n",
       "                       min_weight_fraction_leaf=0.0, n_estimators=212,\n",
       "                       n_jobs=None, oob_score=True, random_state=201, verbose=0,\n",
       "                       warm_start=False)"
      ]
     },
     "execution_count": 25,
     "metadata": {},
     "output_type": "execute_result"
    }
   ],
   "source": [
    "RFC_CV.best_estimator_"
   ]
  },
  {
   "cell_type": "code",
   "execution_count": 26,
   "metadata": {},
   "outputs": [
    {
     "data": {
      "text/html": [
       "<div>\n",
       "<style scoped>\n",
       "    .dataframe tbody tr th:only-of-type {\n",
       "        vertical-align: middle;\n",
       "    }\n",
       "\n",
       "    .dataframe tbody tr th {\n",
       "        vertical-align: top;\n",
       "    }\n",
       "\n",
       "    .dataframe thead th {\n",
       "        text-align: right;\n",
       "    }\n",
       "</style>\n",
       "<table border=\"1\" class=\"dataframe\">\n",
       "  <thead>\n",
       "    <tr style=\"text-align: right;\">\n",
       "      <th></th>\n",
       "      <th>mean_fit_time</th>\n",
       "      <th>std_fit_time</th>\n",
       "      <th>mean_score_time</th>\n",
       "      <th>std_score_time</th>\n",
       "      <th>param_max_depth</th>\n",
       "      <th>param_min_samples_leaf</th>\n",
       "      <th>param_min_samples_split</th>\n",
       "      <th>param_n_estimators</th>\n",
       "      <th>param_oob_score</th>\n",
       "      <th>params</th>\n",
       "      <th>split0_test_score</th>\n",
       "      <th>split1_test_score</th>\n",
       "      <th>split2_test_score</th>\n",
       "      <th>split3_test_score</th>\n",
       "      <th>split4_test_score</th>\n",
       "      <th>mean_test_score</th>\n",
       "      <th>std_test_score</th>\n",
       "      <th>rank_test_score</th>\n",
       "    </tr>\n",
       "  </thead>\n",
       "  <tbody>\n",
       "    <tr>\n",
       "      <th>153</th>\n",
       "      <td>6.794445</td>\n",
       "      <td>0.047663</td>\n",
       "      <td>0.233034</td>\n",
       "      <td>0.003806</td>\n",
       "      <td>10</td>\n",
       "      <td>1</td>\n",
       "      <td>2</td>\n",
       "      <td>212</td>\n",
       "      <td>True</td>\n",
       "      <td>{'max_depth': 10, 'min_samples_leaf': 1, 'min_...</td>\n",
       "      <td>0.858744</td>\n",
       "      <td>0.864097</td>\n",
       "      <td>0.86594</td>\n",
       "      <td>0.868857</td>\n",
       "      <td>0.866554</td>\n",
       "      <td>0.864838</td>\n",
       "      <td>0.003406</td>\n",
       "      <td>1</td>\n",
       "    </tr>\n",
       "  </tbody>\n",
       "</table>\n",
       "</div>"
      ],
      "text/plain": [
       "     mean_fit_time  std_fit_time  ...  std_test_score  rank_test_score\n",
       "153       6.794445      0.047663  ...        0.003406                1\n",
       "\n",
       "[1 rows x 18 columns]"
      ]
     },
     "execution_count": 26,
     "metadata": {},
     "output_type": "execute_result"
    }
   ],
   "source": [
    "RFC_CV_result = pd.DataFrame(RFC_CV.cv_results_)\n",
    "RFC_CV_result[RFC_CV_result[\"rank_test_score\"] == 1]"
   ]
  },
  {
   "cell_type": "code",
   "execution_count": 27,
   "metadata": {},
   "outputs": [],
   "source": [
    "with open('model/RFC_CV_1028_2.pickle', 'wb') as f:\n",
    "    pickle.dump(RFC_CV, f)"
   ]
  },
  {
   "cell_type": "code",
   "execution_count": 30,
   "metadata": {},
   "outputs": [
    {
     "name": "stdout",
     "output_type": "stream",
     "text": [
      "Before hard labeling, ratio of income >50K = 0.175787728026534\n",
      "After hard labeling, ratio of income >50K = 0.17572630673791537\n"
     ]
    }
   ],
   "source": [
    "y_pred = RFC_CV.predict(X_test)\n",
    "print(f\"Before hard labeling, ratio of income >50K = {y_pred.sum() / y_pred.shape[0]}\")\n",
    "y_pred_2 = set_sepcial_observation(y_pred, special_index)\n",
    "print(f\"After hard labeling, ratio of income >50K = {y_pred_2.sum() / y_pred.shape[0]}\")"
   ]
  },
  {
   "cell_type": "code",
   "execution_count": null,
   "metadata": {},
   "outputs": [],
   "source": [
    "file_name = 'submission_1028_3.csv'\n",
    "write_to_csv(y_pred, file_name)\n",
    "file_name = 'submission_1028_4.csv'\n",
    "write_to_csv(y_pred_2, file_name)"
   ]
  },
  {
   "cell_type": "markdown",
   "metadata": {},
   "source": [
    "# Selected featuers\n",
    "- Numerical features\n",
    "    - robust scaler (do not scale `education_num`)\n",
    "- Categorical\n",
    "    - frequency encoding (sum)"
   ]
  },
  {
   "cell_type": "code",
   "execution_count": null,
   "metadata": {},
   "outputs": [],
   "source": [
    "num_cols = [\"age\", \"fnlwgt\", \"capital_gain\", \"capital_loss\", \"hours_per_week\"]\n",
    "order_cat_cols = [\"education_num\"]\n",
    "cat_cols = [\"workclass\", \"education\", \"marital_status\", \"occupation\", \"relationship\", \"race\", \"sex\", \"native_country\"]\n",
    "\n",
    "#use training data's frequency to apply on training and testing dataset\n",
    "for col in cat_cols:\n",
    "    cat_ratio = data_train.groupby([col]).size()\n",
    "    data_train[col] = data_train[col].apply(lambda x: cat_ratio[x])\n",
    "    data_test[col] = data_test[col].apply(lambda x: cat_ratio[x])"
   ]
  },
  {
   "cell_type": "code",
   "execution_count": null,
   "metadata": {},
   "outputs": [],
   "source": [
    "y_train = data_train[\"income\"]\n",
    "\n",
    "X_train_order = np.array(data_train[order_cat_cols])\n",
    "X_train_num = np.array(data_train[num_cols])\n",
    "X_train_cat = np.array(data_train[cat_cols])\n",
    "\n",
    "X_test_order = np.array(data_test[order_cat_cols])\n",
    "X_test_num = np.array(data_test[num_cols])\n",
    "X_test_cat = np.array(data_test[cat_cols])"
   ]
  },
  {
   "cell_type": "code",
   "execution_count": null,
   "metadata": {},
   "outputs": [],
   "source": [
    "robust_scaler = RobustScaler()\n",
    "X_train_num_scaled = robust_scaler.fit_transform(X_train_num)\n",
    "X_test_num_scaled = robust_scaler.transform(X_test_num)"
   ]
  },
  {
   "cell_type": "code",
   "execution_count": null,
   "metadata": {},
   "outputs": [],
   "source": [
    "X_train = np.concatenate([X_train_order, X_train_num_scaled, X_train_cat], axis = 1)\n",
    "X_test = np.concatenate([X_test_order, X_test_num_scaled, X_test_cat], axis = 1)"
   ]
  },
  {
   "cell_type": "code",
   "execution_count": null,
   "metadata": {},
   "outputs": [
    {
     "name": "stdout",
     "output_type": "stream",
     "text": [
      "(32561, 14)\n",
      "(16281, 14)\n"
     ]
    }
   ],
   "source": [
    "print(X_train.shape)\n",
    "print(X_test.shape)"
   ]
  },
  {
   "cell_type": "code",
   "execution_count": null,
   "metadata": {},
   "outputs": [],
   "source": [
    "# Number of trees in random forest\n",
    "n_estimators = [int(x) for x in np.linspace(start = 100, stop = 250, num = 5)]\n",
    "# Maximum number of levels in tree\n",
    "max_depth = [int(x) for x in np.linspace(5, 10, num = 6)]\n",
    "# Minimum number of samples required to split a node\n",
    "min_samples_split = [2, 5]\n",
    "# Minimum number of samples required at each leaf node\n",
    "min_samples_leaf = [1, 2, 4]\n",
    "params_grid = {'n_estimators': n_estimators,\n",
    "               'max_depth': max_depth,\n",
    "               'min_samples_split': min_samples_split,\n",
    "               'min_samples_leaf': min_samples_leaf,\n",
    "               'oob_score': [True]}\n",
    "print(params_grid)"
   ]
  },
  {
   "cell_type": "code",
   "execution_count": null,
   "metadata": {},
   "outputs": [],
   "source": [
    "RFC = RandomForestClassifier(random_state = 201)\n",
    "RFC_CV = GridSearchCV(estimator = RFC, param_grid = params_grid, cv = 5, verbose = 2, n_jobs = -1)\n",
    "RFC_CV.fit(X_train, y_train)"
   ]
  },
  {
   "cell_type": "code",
   "execution_count": null,
   "metadata": {},
   "outputs": [],
   "source": [
    "print(f\"Training Accuracy = {round(RFC_CV.score(X_train, y_train) * 100, 4)}%\")\n",
    "RFC_CV.best_estimator_"
   ]
  },
  {
   "cell_type": "code",
   "execution_count": null,
   "metadata": {},
   "outputs": [],
   "source": [
    "RFC_CV_result = pd.DataFrame(RFC_CV.cv_results_)\n",
    "RFC_CV_result[RFC_CV_result[\"rank_test_score\"] == 1]"
   ]
  },
  {
   "cell_type": "code",
   "execution_count": null,
   "metadata": {},
   "outputs": [],
   "source": [
    "with open('model/RFC_CV_1027_4.pickle', 'wb') as f:\n",
    "    pickle.dump(RFC_CV, f)"
   ]
  }
 ],
 "metadata": {
  "interpreter": {
   "hash": "853a6c1de715781c4e36e93313002732d37040606184d41a7b9ff831089b66e5"
  },
  "kernelspec": {
   "display_name": "Python 3.7.10 64-bit ('EEML': conda)",
   "name": "python3"
  },
  "language_info": {
   "codemirror_mode": {
    "name": "ipython",
    "version": 3
   },
   "file_extension": ".py",
   "mimetype": "text/x-python",
   "name": "python",
   "nbconvert_exporter": "python",
   "pygments_lexer": "ipython3",
   "version": "3.6.8"
  },
  "orig_nbformat": 4
 },
 "nbformat": 4,
 "nbformat_minor": 2
}
